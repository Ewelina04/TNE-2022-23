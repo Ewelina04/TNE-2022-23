{
  "nbformat": 4,
  "nbformat_minor": 0,
  "metadata": {
    "colab": {
      "provenance": [],
      "toc_visible": true
    },
    "kernelspec": {
      "name": "python3",
      "display_name": "Python 3"
    },
    "language_info": {
      "name": "python"
    }
  },
  "cells": [
    {
      "cell_type": "markdown",
      "source": [
        "#Functions"
      ],
      "metadata": {
        "id": "PCAoKS0oQoXf"
      }
    },
    {
      "cell_type": "code",
      "execution_count": null,
      "metadata": {
        "id": "snM_O2CoQkXE"
      },
      "outputs": [],
      "source": [
        "import pandas as pd\n",
        "pd.set_option(\"max_colwidth\", 200)\n",
        "pd.set_option(\"display.max_columns\", None)\n",
        "\n",
        "import numpy as np\n",
        "from sklearn import metrics\n",
        "\n",
        "import matplotlib.pyplot as plt\n",
        "import seaborn as sns\n",
        "sns.set_theme(style=\"whitegrid\")\n",
        "plt.style.use(\"seaborn-talk\")\n",
        "\n",
        "\n",
        "def load_data(file_path, indx = True, indx_col = 0):\n",
        "  '''Parameters:\n",
        "  file_path: path to your excel or csv file with data,\n",
        "\n",
        "  indx: boolean - whether there is index column in your file (usually it is the first column) --> *by default it is set to True\n",
        "  \n",
        "  indx_col: int - if your file has an index column, specify column number here --> *by default it is equal to 0 (first column)\n",
        "  '''\n",
        "  if indx == True and file_path.endswith(\".xlsx\"):\n",
        "    data = pd.read_excel(file_path, index_col = indx_col)\n",
        "  elif indx == False and file_path.endswith(\".xlsx\"):\n",
        "    data = pd.read_excel(file_path)\n",
        "\n",
        "  elif indx == True and file_path.endswith(\".csv\"):\n",
        "    data = pd.read_csv(file_path, index_col = indx_col)\n",
        "  elif indx == False and file_path.endswith(\".csv\"):\n",
        "    data = pd.read_csv(file_path)\n",
        "\n",
        "  return data"
      ]
    },
    {
      "cell_type": "markdown",
      "source": [
        "#Emotion mining"
      ],
      "metadata": {
        "id": "DhzSR3Tc35Kw"
      }
    },
    {
      "cell_type": "code",
      "source": [
        "def clean_text(df, text_column):\n",
        "  import re\n",
        "  new_texts = []\n",
        "  for text in df[text_column]:\n",
        "    text_list = str(text).lower().split(\" \")\n",
        "    new_string_list = []\n",
        "    for word in text_list:\n",
        "      if 'http' in word:\n",
        "        word = \"url\"\n",
        "      elif ('@' in word) and (len(word) > 1):\n",
        "        word = \"@user\"\n",
        "      new_string_list.append(word)\n",
        "    new_string = \" \".join(new_string_list)\n",
        "    new_string = new_string.strip()\n",
        "    new_texts.append(new_string)\n",
        "  df[\"clean_Text\"] = new_texts\n",
        "  return df"
      ],
      "metadata": {
        "id": "5rrE0ERB42gN"
      },
      "execution_count": null,
      "outputs": []
    },
    {
      "cell_type": "code",
      "source": [
        "df = load_data(\"/content/drive/MyDrive/Colab Notebooks/reddit_IAA/plots_TNE/Polaris/PolarIs1-VaccRed_Emo-Ensmbl.xlsx\")\n",
        "# \"/content/drive/MyDrive/Colab Notebooks/reddit_IAA/plots_TNE/Polaris/PolarIs2-VacRed_Emo-IMA.xlsx\"\n",
        "# /content/drive/MyDrive/Colab Notebooks/reddit_IAA/plots_TNE/Polaris/PolarIs-CChRed_Emo-IMA.xlsx\n",
        "# /content/drive/MyDrive/Colab Notebooks/reddit_IAA/plots_TNE/Polaris/PolarIs-CChTw_Emo-IMA.xlsx\n",
        "# \"/content/drive/MyDrive/Colab Notebooks/reddit_IAA/plots_TNE/Polaris/PolarIs1-VaccRed_Emo-Ensmbl.xlsx\"\n",
        "print(df.shape)\n",
        "df.head(2)"
      ],
      "metadata": {
        "id": "gJSWCxDM39uM",
        "colab": {
          "base_uri": "https://localhost:8080/",
          "height": 129
        },
        "outputId": "7eb99f44-8687-4a23-fc67-f764f05f1482"
      },
      "execution_count": null,
      "outputs": [
        {
          "output_type": "stream",
          "name": "stdout",
          "text": [
            "(2373, 3)\n"
          ]
        },
        {
          "output_type": "execute_result",
          "data": {
            "text/plain": [
              "                                                                 sentence  \\\n",
              "0  Now, double vaccinated dying from COVID are blaming unvaccinated ones.   \n",
              "1                                 It really is starting to make no sense.   \n",
              "\n",
              "   original_id            source  \n",
              "0            0  Effective_Ad4588  \n",
              "1            0  Effective_Ad4588  "
            ],
            "text/html": [
              "\n",
              "  <div id=\"df-48b63d67-f50c-4aef-8b29-a34345c64886\">\n",
              "    <div class=\"colab-df-container\">\n",
              "      <div>\n",
              "<style scoped>\n",
              "    .dataframe tbody tr th:only-of-type {\n",
              "        vertical-align: middle;\n",
              "    }\n",
              "\n",
              "    .dataframe tbody tr th {\n",
              "        vertical-align: top;\n",
              "    }\n",
              "\n",
              "    .dataframe thead th {\n",
              "        text-align: right;\n",
              "    }\n",
              "</style>\n",
              "<table border=\"1\" class=\"dataframe\">\n",
              "  <thead>\n",
              "    <tr style=\"text-align: right;\">\n",
              "      <th></th>\n",
              "      <th>sentence</th>\n",
              "      <th>original_id</th>\n",
              "      <th>source</th>\n",
              "    </tr>\n",
              "  </thead>\n",
              "  <tbody>\n",
              "    <tr>\n",
              "      <th>0</th>\n",
              "      <td>Now, double vaccinated dying from COVID are blaming unvaccinated ones.</td>\n",
              "      <td>0</td>\n",
              "      <td>Effective_Ad4588</td>\n",
              "    </tr>\n",
              "    <tr>\n",
              "      <th>1</th>\n",
              "      <td>It really is starting to make no sense.</td>\n",
              "      <td>0</td>\n",
              "      <td>Effective_Ad4588</td>\n",
              "    </tr>\n",
              "  </tbody>\n",
              "</table>\n",
              "</div>\n",
              "      <button class=\"colab-df-convert\" onclick=\"convertToInteractive('df-48b63d67-f50c-4aef-8b29-a34345c64886')\"\n",
              "              title=\"Convert this dataframe to an interactive table.\"\n",
              "              style=\"display:none;\">\n",
              "        \n",
              "  <svg xmlns=\"http://www.w3.org/2000/svg\" height=\"24px\"viewBox=\"0 0 24 24\"\n",
              "       width=\"24px\">\n",
              "    <path d=\"M0 0h24v24H0V0z\" fill=\"none\"/>\n",
              "    <path d=\"M18.56 5.44l.94 2.06.94-2.06 2.06-.94-2.06-.94-.94-2.06-.94 2.06-2.06.94zm-11 1L8.5 8.5l.94-2.06 2.06-.94-2.06-.94L8.5 2.5l-.94 2.06-2.06.94zm10 10l.94 2.06.94-2.06 2.06-.94-2.06-.94-.94-2.06-.94 2.06-2.06.94z\"/><path d=\"M17.41 7.96l-1.37-1.37c-.4-.4-.92-.59-1.43-.59-.52 0-1.04.2-1.43.59L10.3 9.45l-7.72 7.72c-.78.78-.78 2.05 0 2.83L4 21.41c.39.39.9.59 1.41.59.51 0 1.02-.2 1.41-.59l7.78-7.78 2.81-2.81c.8-.78.8-2.07 0-2.86zM5.41 20L4 18.59l7.72-7.72 1.47 1.35L5.41 20z\"/>\n",
              "  </svg>\n",
              "      </button>\n",
              "      \n",
              "  <style>\n",
              "    .colab-df-container {\n",
              "      display:flex;\n",
              "      flex-wrap:wrap;\n",
              "      gap: 12px;\n",
              "    }\n",
              "\n",
              "    .colab-df-convert {\n",
              "      background-color: #E8F0FE;\n",
              "      border: none;\n",
              "      border-radius: 50%;\n",
              "      cursor: pointer;\n",
              "      display: none;\n",
              "      fill: #1967D2;\n",
              "      height: 32px;\n",
              "      padding: 0 0 0 0;\n",
              "      width: 32px;\n",
              "    }\n",
              "\n",
              "    .colab-df-convert:hover {\n",
              "      background-color: #E2EBFA;\n",
              "      box-shadow: 0px 1px 2px rgba(60, 64, 67, 0.3), 0px 1px 3px 1px rgba(60, 64, 67, 0.15);\n",
              "      fill: #174EA6;\n",
              "    }\n",
              "\n",
              "    [theme=dark] .colab-df-convert {\n",
              "      background-color: #3B4455;\n",
              "      fill: #D2E3FC;\n",
              "    }\n",
              "\n",
              "    [theme=dark] .colab-df-convert:hover {\n",
              "      background-color: #434B5C;\n",
              "      box-shadow: 0px 1px 3px 1px rgba(0, 0, 0, 0.15);\n",
              "      filter: drop-shadow(0px 1px 2px rgba(0, 0, 0, 0.3));\n",
              "      fill: #FFFFFF;\n",
              "    }\n",
              "  </style>\n",
              "\n",
              "      <script>\n",
              "        const buttonEl =\n",
              "          document.querySelector('#df-48b63d67-f50c-4aef-8b29-a34345c64886 button.colab-df-convert');\n",
              "        buttonEl.style.display =\n",
              "          google.colab.kernel.accessAllowed ? 'block' : 'none';\n",
              "\n",
              "        async function convertToInteractive(key) {\n",
              "          const element = document.querySelector('#df-48b63d67-f50c-4aef-8b29-a34345c64886');\n",
              "          const dataTable =\n",
              "            await google.colab.kernel.invokeFunction('convertToInteractive',\n",
              "                                                     [key], {});\n",
              "          if (!dataTable) return;\n",
              "\n",
              "          const docLinkHtml = 'Like what you see? Visit the ' +\n",
              "            '<a target=\"_blank\" href=https://colab.research.google.com/notebooks/data_table.ipynb>data table notebook</a>'\n",
              "            + ' to learn more about interactive tables.';\n",
              "          element.innerHTML = '';\n",
              "          dataTable['output_type'] = 'display_data';\n",
              "          await google.colab.output.renderOutput(dataTable, element);\n",
              "          const docLink = document.createElement('div');\n",
              "          docLink.innerHTML = docLinkHtml;\n",
              "          element.appendChild(docLink);\n",
              "        }\n",
              "      </script>\n",
              "    </div>\n",
              "  </div>\n",
              "  "
            ]
          },
          "metadata": {},
          "execution_count": 5
        }
      ]
    },
    {
      "cell_type": "code",
      "source": [
        "models = [\n",
        "    'suvrobaner/distilbert-base-uncased-finetuned-emotion-en-tweets',\n",
        " 'stevevee0101/distilbert-base-uncased-finetuned-emotion',\n",
        " 'Emanuel/bertweet-emotion-base',\n",
        " 'bhadresh-savani/albert-base-v2-emotion',\n",
        " 'Emanuel/twitter-emotion-deberta-v3-base',\n",
        " \n",
        " 'michauhl/distilbert-base-uncased-finetuned-emotion',\n",
        " 'Zia/distilbert-base-uncased-finetuned-emotion',\n",
        "       'jkhan447/sentiment-model-sample-5-emotion',\n",
        "       'bhadresh-savani/distilbert-base-uncased-emotion',\n",
        "        'bhadresh-savani/distilbert-base-uncased-finetuned-emotion',\n",
        "\n",
        "        \"j-hartmann/emotion-english-distilroberta-base\"\n",
        "] # best 5 models w and w/o EMPTY label + new one"
      ],
      "metadata": {
        "id": "SW9aXrQF4IWR"
      },
      "execution_count": null,
      "outputs": []
    },
    {
      "cell_type": "code",
      "source": [
        "df = clean_text(df, 'sentence')\n",
        "df.tail(2)"
      ],
      "metadata": {
        "id": "pvRmyJPw4y3O",
        "colab": {
          "base_uri": "https://localhost:8080/",
          "height": 156
        },
        "outputId": "f349eb5c-4a12-478d-8b07-6d9ef9588822"
      },
      "execution_count": null,
      "outputs": [
        {
          "output_type": "execute_result",
          "data": {
            "text/plain": [
              "                                                              sentence  \\\n",
              "2373                                              unless I sit on you.   \n",
              "2374  you being unvaccinated can increase my chances of catching Covid   \n",
              "\n",
              "      original_id       source  \\\n",
              "2373          962  twitchspank   \n",
              "2374          962  twitchspank   \n",
              "\n",
              "                                                            clean_Text  \n",
              "2373                                              unless i sit on you.  \n",
              "2374  you being unvaccinated can increase my chances of catching covid  "
            ],
            "text/html": [
              "\n",
              "  <div id=\"df-bdc0eb1f-0548-4d25-aea0-4234e1e822af\">\n",
              "    <div class=\"colab-df-container\">\n",
              "      <div>\n",
              "<style scoped>\n",
              "    .dataframe tbody tr th:only-of-type {\n",
              "        vertical-align: middle;\n",
              "    }\n",
              "\n",
              "    .dataframe tbody tr th {\n",
              "        vertical-align: top;\n",
              "    }\n",
              "\n",
              "    .dataframe thead th {\n",
              "        text-align: right;\n",
              "    }\n",
              "</style>\n",
              "<table border=\"1\" class=\"dataframe\">\n",
              "  <thead>\n",
              "    <tr style=\"text-align: right;\">\n",
              "      <th></th>\n",
              "      <th>sentence</th>\n",
              "      <th>original_id</th>\n",
              "      <th>source</th>\n",
              "      <th>clean_Text</th>\n",
              "    </tr>\n",
              "  </thead>\n",
              "  <tbody>\n",
              "    <tr>\n",
              "      <th>2373</th>\n",
              "      <td>unless I sit on you.</td>\n",
              "      <td>962</td>\n",
              "      <td>twitchspank</td>\n",
              "      <td>unless i sit on you.</td>\n",
              "    </tr>\n",
              "    <tr>\n",
              "      <th>2374</th>\n",
              "      <td>you being unvaccinated can increase my chances of catching Covid</td>\n",
              "      <td>962</td>\n",
              "      <td>twitchspank</td>\n",
              "      <td>you being unvaccinated can increase my chances of catching covid</td>\n",
              "    </tr>\n",
              "  </tbody>\n",
              "</table>\n",
              "</div>\n",
              "      <button class=\"colab-df-convert\" onclick=\"convertToInteractive('df-bdc0eb1f-0548-4d25-aea0-4234e1e822af')\"\n",
              "              title=\"Convert this dataframe to an interactive table.\"\n",
              "              style=\"display:none;\">\n",
              "        \n",
              "  <svg xmlns=\"http://www.w3.org/2000/svg\" height=\"24px\"viewBox=\"0 0 24 24\"\n",
              "       width=\"24px\">\n",
              "    <path d=\"M0 0h24v24H0V0z\" fill=\"none\"/>\n",
              "    <path d=\"M18.56 5.44l.94 2.06.94-2.06 2.06-.94-2.06-.94-.94-2.06-.94 2.06-2.06.94zm-11 1L8.5 8.5l.94-2.06 2.06-.94-2.06-.94L8.5 2.5l-.94 2.06-2.06.94zm10 10l.94 2.06.94-2.06 2.06-.94-2.06-.94-.94-2.06-.94 2.06-2.06.94z\"/><path d=\"M17.41 7.96l-1.37-1.37c-.4-.4-.92-.59-1.43-.59-.52 0-1.04.2-1.43.59L10.3 9.45l-7.72 7.72c-.78.78-.78 2.05 0 2.83L4 21.41c.39.39.9.59 1.41.59.51 0 1.02-.2 1.41-.59l7.78-7.78 2.81-2.81c.8-.78.8-2.07 0-2.86zM5.41 20L4 18.59l7.72-7.72 1.47 1.35L5.41 20z\"/>\n",
              "  </svg>\n",
              "      </button>\n",
              "      \n",
              "  <style>\n",
              "    .colab-df-container {\n",
              "      display:flex;\n",
              "      flex-wrap:wrap;\n",
              "      gap: 12px;\n",
              "    }\n",
              "\n",
              "    .colab-df-convert {\n",
              "      background-color: #E8F0FE;\n",
              "      border: none;\n",
              "      border-radius: 50%;\n",
              "      cursor: pointer;\n",
              "      display: none;\n",
              "      fill: #1967D2;\n",
              "      height: 32px;\n",
              "      padding: 0 0 0 0;\n",
              "      width: 32px;\n",
              "    }\n",
              "\n",
              "    .colab-df-convert:hover {\n",
              "      background-color: #E2EBFA;\n",
              "      box-shadow: 0px 1px 2px rgba(60, 64, 67, 0.3), 0px 1px 3px 1px rgba(60, 64, 67, 0.15);\n",
              "      fill: #174EA6;\n",
              "    }\n",
              "\n",
              "    [theme=dark] .colab-df-convert {\n",
              "      background-color: #3B4455;\n",
              "      fill: #D2E3FC;\n",
              "    }\n",
              "\n",
              "    [theme=dark] .colab-df-convert:hover {\n",
              "      background-color: #434B5C;\n",
              "      box-shadow: 0px 1px 3px 1px rgba(0, 0, 0, 0.15);\n",
              "      filter: drop-shadow(0px 1px 2px rgba(0, 0, 0, 0.3));\n",
              "      fill: #FFFFFF;\n",
              "    }\n",
              "  </style>\n",
              "\n",
              "      <script>\n",
              "        const buttonEl =\n",
              "          document.querySelector('#df-bdc0eb1f-0548-4d25-aea0-4234e1e822af button.colab-df-convert');\n",
              "        buttonEl.style.display =\n",
              "          google.colab.kernel.accessAllowed ? 'block' : 'none';\n",
              "\n",
              "        async function convertToInteractive(key) {\n",
              "          const element = document.querySelector('#df-bdc0eb1f-0548-4d25-aea0-4234e1e822af');\n",
              "          const dataTable =\n",
              "            await google.colab.kernel.invokeFunction('convertToInteractive',\n",
              "                                                     [key], {});\n",
              "          if (!dataTable) return;\n",
              "\n",
              "          const docLinkHtml = 'Like what you see? Visit the ' +\n",
              "            '<a target=\"_blank\" href=https://colab.research.google.com/notebooks/data_table.ipynb>data table notebook</a>'\n",
              "            + ' to learn more about interactive tables.';\n",
              "          element.innerHTML = '';\n",
              "          dataTable['output_type'] = 'display_data';\n",
              "          await google.colab.output.renderOutput(dataTable, element);\n",
              "          const docLink = document.createElement('div');\n",
              "          docLink.innerHTML = docLinkHtml;\n",
              "          element.appendChild(docLink);\n",
              "        }\n",
              "      </script>\n",
              "    </div>\n",
              "  </div>\n",
              "  "
            ]
          },
          "metadata": {},
          "execution_count": 7
        }
      ]
    },
    {
      "cell_type": "code",
      "source": [
        "!pip install  transformers[sentencepiece] --q\n",
        "!pip install emoji==0.6.0 --q\n",
        "\n",
        "from transformers import pipeline"
      ],
      "metadata": {
        "id": "22ZRfIjB3-DQ"
      },
      "execution_count": null,
      "outputs": []
    },
    {
      "cell_type": "code",
      "source": [
        "models[2:3] # Token indices sequence length is longer than the specified maximum sequence length for this model (245 > 128). Running this sequence through the model will result in indexing errors\n"
      ],
      "metadata": {
        "colab": {
          "base_uri": "https://localhost:8080/"
        },
        "id": "bNP3hpXD8Iit",
        "outputId": "3ce32285-ec0e-4045-d051-69d7effb2e3f"
      },
      "execution_count": null,
      "outputs": [
        {
          "output_type": "execute_result",
          "data": {
            "text/plain": [
              "['Emanuel/bertweet-emotion-base']"
            ]
          },
          "metadata": {},
          "execution_count": 18
        }
      ]
    },
    {
      "cell_type": "code",
      "source": [
        "for mod in models:\n",
        "  model_path = str(mod)\n",
        "  try:\n",
        "    print(mod)\n",
        "    sentiment_task = pipeline(task = \"text-classification\", model = model_path, tokenizer = model_path, device=0)    \n",
        "    sequence = df['clean_Text'].tolist()\n",
        "    if 'Emanuel' in model_path:\n",
        "      sequence = [x[:128] for x in sequence]\n",
        "    result = sentiment_task(sequence)\n",
        "    conf = [ x['score'] for x in result ]\n",
        "    labels = [ x['label'] for x in result ]\n",
        "    print('success')\n",
        "    print()\n",
        "    df['EMO_'+str(mod)] = labels\n",
        "    df['CF_'+str(mod)] = conf\n",
        "  except:\n",
        "    print('except')\n",
        "    print()\n",
        "    continue"
      ],
      "metadata": {
        "colab": {
          "base_uri": "https://localhost:8080/",
          "height": 1000,
          "referenced_widgets": [
            "f7a3fbc02adf4029bd47032cba04815d",
            "7e6b2ada6b3d439e8bfc3d0ac5e1df94",
            "a22770f12cf048f3ae496177f505ea8f",
            "74806fae5433483f93c0273866130630",
            "e2237c3c66ad4482a1a236ed1936ffd6",
            "7a1c4f23b1a1458689b22eba5f9026c4",
            "4787dd7461c04a37ab455e30e6b506ad",
            "089187c577e54e5cb2bc26f9982370bc",
            "d37005276de242a995b04ea873d9277c",
            "ac6fe634ce7a4abbb8fa96a322e660bd",
            "b8176fba0f07475f97038d639adb2157",
            "d38c0e25d6c14155b53e8258bedf8392",
            "baa4735634c24c309adaec7b81c9b4cb",
            "a3deb0572816400fb78655af826a288a",
            "7f2c59ec516d4c0f9d99c2dd02374b7c",
            "fabfa16333934c16b4b72a2452c26deb",
            "3c5a0444689b4b7382303264fe97f9c4",
            "f6be95f9746d40b99138bd0b646a18ca",
            "2f03842c55334597b56f66c1b225089d",
            "dcaf0728ca8d4ceda189cc032602c2b1",
            "bc1b445e13a14d8ca7c4ace541fd8f93",
            "3be4b2045c91467fb56e296c6a85c89d",
            "2d7f44b5734b43b68060cb38b4794d41",
            "f84827764f504c44958279dc9585aa96",
            "31fb3ec5f9ae4439be7f3e4ebfe4081c",
            "06305b7c75804704b10f270e36c4f331",
            "4694b32ac5f3487faf894207a7481d2d",
            "2953d752707e4885bb918bb5016fac97",
            "e7c653ed5d104e5b9fead843eab0ceac",
            "c90071358ef54d529d0cbd2b8319a33b",
            "3d8b8bd850df4932802cd3825808f79a",
            "94afca6049b044798510ae96b729a4b0",
            "52f522f3340e43aaac3d34f8e6c72487",
            "0d86bc0fa7e04736a3af3c484b56a663",
            "d00f3ea77d6a4766b4aefab3eb53223d",
            "15cb0a580a3a4035ac1f770dcebe3856",
            "547be53b4f3e4885be57ed72554378cc",
            "e0d6dee5e9e141f3b33387941e26c340",
            "a81c6c1744f844539c2346cdc0c7e955",
            "8488a264aaef467daa669f13bf3c0490",
            "dc70d848e8cb47469d4c29b440b6516e",
            "cf7702f276624cd4a508ccddf200cbcd",
            "36dc8badff9141849a5784f14074573a",
            "d75f6b0483274bf5940b4237bab06d81",
            "0c297d9a272e43c88efc4fb9496f136b",
            "68e6f43564784259b20fc304f3b18a19",
            "8eec80ae872347e89aa688d84203f093",
            "a7962c563f3e4705ab11369c5e1d3b0e",
            "1a674d0071984a029ad1f4edc293128c",
            "9ac7e6dcad1143fe865cd2df61a2f027",
            "cc5a3428ae634a80aa5a1e4d3a55cdcb",
            "368d95d0bbe8404a9f7fd45481398206",
            "0be4b3611e88440185c0e586417b53a6",
            "9e8ec7055e904ac6adbeeca20ec3602d",
            "428489e662b64586918130124d8e870f",
            "e7f2f2f9b2a84f5ba705b7911fd90f0a",
            "e54ebea281aa4749a71e27b86a7c74b9",
            "d7250fae9b15451aa827f96416c64449",
            "04645d8c0507492c8e661272f7e0d916",
            "0b994fedc5df442999dd9bb0fe4a3d26",
            "e4ebb36a08704e0abafe1ff038a1220c",
            "f3f41ab63cf240a78120d61a56db4d9b",
            "d7a35753b4044f2d85553be5724caf7b",
            "0e8a0f14cab749048773067d626ab9b9",
            "1a7cae8b3bd842cda849fc81c94bb23e",
            "734792bae23c4bbd9029039f4d8ed010",
            "c8c8cfc66fcb4890be66421c24e79782",
            "11469eefd0c54f929f380807e92b9ed1",
            "ec8361f7b14a435897225b0fbcab6a03",
            "703d1c10aeaa4cc88852b0f4fb649134",
            "a46c5670a24e4711a500e4415e2d5905",
            "fc1f1ec979ff420b9553c1b1cd8e1938",
            "3a255e0d546e416a823493c9481594e9",
            "e54f1ad814b24abb9d548c0e35bd57dd",
            "ea08309f71974807b1934b5748c82025",
            "6ab69e7f9aa64f2a99fd1b1029075f1d",
            "11fb1a39dae4414189c1339cc0f851f8",
            "141787a67fc64bccb0956e14a849debf",
            "771e6333b8874e238d9dc4571f4275d4",
            "976ad9904a644dc8a388fa2f99635cb1",
            "de02c979b0cd4b88b3e4352f12bfdf30",
            "9d9060932eb4406c88de327d39dc5791",
            "9f33e266208943338822f6dcac7c7fd5",
            "6cf4f37f07e24487a46ca759cbe5803a",
            "2e3ec3a7464e42b69962eb0f47b3dd65",
            "a662f7465c6c49639cbf7f760686fd14",
            "98352a2570ba4a5cacee1939d36c1c29",
            "53ced3e4bf134f4b86bf20193178720c",
            "6d02df98f7ad47deb8b82daeedd32d43",
            "24e4113414344b6ba19e38f027487806",
            "816dd917bd504c2b94acc38595926a58",
            "edd1620add2b422d98a8222da9c551c1",
            "c306d1f65c284bdeaeb57a656883fa22",
            "d8e4ee5b58b244ed85a53a8f06a0ab64",
            "758c41fbef954cacb6a7aa3b1c7aec4a",
            "a2102ca8c36445a8913252290cb6227e",
            "8462288a2e8f467a9013e0db0a7d5f51",
            "241ea586f9834dc681ca82c8858140af",
            "9686085d972945e4b73b99196264ec2f",
            "ea2da8a34c894bd395fd124743bc83f8",
            "2bc9c53d16a24d569aa04343fe592aeb",
            "d5407a50494048a98b12cb4167895e61",
            "1ce191def1b248349b10afb061da5d7b",
            "195c6fa3d1f54e518b5831be72b8afbc",
            "e7da61e850294aa5b693ab194c597333",
            "97519e6f8629454cade57e700d99e0ae",
            "341222b3ec8447ac9422821a7f213acd",
            "dde6932cc19647348f8212512be9fb4a",
            "0499ceb4568a4d0cad466c3fadbae9ef",
            "71b8877148ff4c33bc07150efe3e6cd6",
            "e4e0e607e57344178f40c9704f7b5ebc",
            "d5f85ffb681a43c58aadebbdbc6c2cfe",
            "ece8acd987394414b2d5a775ba2ae56d",
            "4f378399a53a4f2c8437b7daafb29930",
            "f04bc7a637474224b12d1275f90a6b86",
            "cfa22a0dbf75437db3ef75a29533249c",
            "1277217972cf483a80f5e9562c91cc0e",
            "b9486f7421d74b30b4a8a9260965a8a8",
            "966dff682f024692b945b5ea3552b55f",
            "06fd8bef9ccd43b68efb76472a52b18f",
            "1e5599cde5294a6cbe5785c91a7e8b75",
            "57a9241b2542447eab264252d237affd",
            "56e9e097231c44199f2d31a91d3f709c",
            "16c75c7261e54f61a6a1d7545feba9dc",
            "db5856c72a7d45e98d4a7dd7fec47e68",
            "fb9e242e33f3446ba19c2a290c143c36",
            "d793c3a1196a48a6b8dfad81bb257f22",
            "8544d04a12c949b18f808770e121f15b",
            "281a113d36b34523b7b3cafbd44e8a87",
            "4b0efde1acb44612927c6f78a2075ac1",
            "9633fa233f9247238fb8b7fae115c779",
            "c397538354b5401a84347cb72210d127",
            "7971015e82e24e298ddc15c975da1816",
            "7ece35a5df2f48969d246b4baa80702d",
            "c713a6b18271485a8d0c37c90801a65b",
            "963dd2ff01504ee6a5ea74c23af1024c",
            "ed149fc8bfa2445ca900d7fad239b49c",
            "f4b38382e495469aa76bcd6788e5f39f",
            "8369ee2d691e4a8f899f38c0f21e9386",
            "fb02871d2ce34bb3a76d58d6680c1e70",
            "dab1bc39fa2942de89839a71a3d3d876",
            "941e8aa1a83d4b7ca99ba9f1cc1f3fb9",
            "5ddf4b16b0884e88a16b84a61f5470ac",
            "7ddb5e3fecac41c1aae1d48d496b3107",
            "da35cee6cc7542eaa8afff9cb95858da",
            "6a80b202da5f4bacaf72a866055844ba",
            "77e8229697e7438e979b8ede1e2c2fcf",
            "60d272995cf446b49aa58e2259f62a47",
            "8d8534da940e4013a4a1fed823360b24",
            "0059efba45f745b5b6ba9c51a01e612c",
            "b9638815fe3941d28d0e6a97b7ba5b22",
            "e3a51b81fb1e4defa4c2d197ae72794f",
            "f5658efa669448d9998a5ca37a068d66",
            "cc6c8d347fee42918681c26827eeab0d",
            "dbf32bd53b574fc3b0f172ac9f171425",
            "0c2b212a9de54028bd967ca3bc43f4a1",
            "055f737fa76949b2a5d81287868e808d",
            "818fb4409d2b490bb553aa332466089a",
            "fc868b19c5c84da3b1889d933d2c8fee",
            "7e2daed08c0b417cae19347b6459153b",
            "473a49dfee6f49088ef49eb022ab9492",
            "69c94de4431e4f03892ab59ac438db1d",
            "8c8b4c1be37c4481b24e945799a7558a",
            "7c2741478ca54fcd80789587584d89d5",
            "18c7b06590bc48f8ab36f1aece129af5",
            "1588e7f2994d4fb49cc38fd4c2dc62c6",
            "157e7b61a249486894f9a18fa46800bf",
            "b4601f047ba04c94a74caa9db60a2bb5",
            "2c09a02ddc254a51b0bc055de5178cbc",
            "0b1c07ab8d4548dfacd69b2f8afa9dd1",
            "5f31b4260ce34ea8a31ab591e40ea986",
            "b1b0a509e62e4457a8e4a5bf5a97c06d",
            "bf75755630f842e5b0871a98acce7db1",
            "e326d82c65d74bbb92758de46195dc25",
            "6a87baac724247acade76681a2d091fc",
            "5c992067ec4946508a596339009d6548",
            "6b6144341bdb4419a8f5dd0a0385c9f5",
            "3f1e1797a89a4d599e62610f5ef033c1",
            "c516cd2a80d24f9999dcd99d497ea8ab",
            "7d4122a46d8a445281e436e5a1fa4d62",
            "404b7f7284164dbd815dae7d71f7971e",
            "d48e21f1f9244a0c8ee695b5696e0fd7",
            "09d44302f61e473ba306ce18e62d91a0",
            "46d214206016450fab808aee8c3bcaf8",
            "7d43910cb84e400bba551c609e7c52a1",
            "b2efe49006af424196056e4194933874",
            "e8486793f637440dbe1afc802a82793d",
            "05d2681adddb49a3bfeeb9955f3e07f3",
            "10f046a6775741c7bbe242619168d9df",
            "677f666feafb4454b10e98c506931d02",
            "32bfd4a256f14259b999aca325e00b67",
            "dce6dfc286f14e67bb1dc4ea2abf066b",
            "5c21bb1edd6b466f836385420547e324",
            "4db83d88a6d3456494e8433165f6f13c",
            "022f01ca577041d483aa491878baba58",
            "d3f1a5f8ae9e4f1d9c1a397e57903e43",
            "4f22178cd8ad476eb23635529507d6ea",
            "e46097daf45c4b278da9d9f13d6f3aa5",
            "79ab28332bca4a818c2f11a448e12008",
            "66fabbeb35a147d7a5bcbe3a31d75a10",
            "e5b9a70203144975b11860748f15edcc",
            "e6329617ab20405590241b6ae99d0333",
            "cbe89f0f370d43da99d447b6df4a28d1",
            "bc798822f93d468ab1923403ec89dda9",
            "d1378a6147d9457aab2aee4fd2840b91",
            "595842d04ae648d4b08efe8d84ef36ff",
            "deb0c4092bfb49cc933da331a4ae18ad",
            "9ed84048d80345bbb4a2d0584fc1d090",
            "e1158eeaf6c24550b4ce439c1937c2bf",
            "d9e8eb1585b440c58ba9908dc0288d44",
            "cedb050c186b4f4aa8c5aaa453cb5813",
            "1a13476431e14c43a6363940eb1a64fb",
            "4eacfaaa717c4c7ebd8e4c6986dc503e",
            "0c5f601bd5e74095b0bf2e12ce2f8056",
            "f0cddb9746aa4fb3bb0d055def181734",
            "7ad650a5070f4a818ceb261a33c6291c",
            "3a1952ce005b4f1fa7c2eb9d220e3d70",
            "48380852fd6548fda0339871df40edbc",
            "4bb4f95ba336458b93965011fc2a025c",
            "1aa00d0afc464c89b2c3975ec13df970",
            "d70e4f97f4164fa9a23313d58df11184",
            "ab393357adf94be19738365923e70aea",
            "c66a44e93e4642b8869f4a6c16fe8b36",
            "13bed8bba8324e70884bac358e958d15",
            "04a26c390af945939448b624ed961936",
            "5e0a58bb44534f759ea6da5c40c94f12",
            "87a4946d620a41e0a133262ecc80897e",
            "d9cee12244d54aab8a2c1eb765bcddd9",
            "e0a673131ffe400cb4faea095e8a5be8",
            "45260e89ab8b4029a598c18eef775566",
            "0722e12d448248648b35abc5e070fb0f",
            "4bac1a49c4694d28b6a556b6cd8fcf4c",
            "703c6f92b6f547668ea32a3de73a0d2d",
            "a96a6868c3854e85b95e4d9036486e6f",
            "836126be2497456ba8336b2ff67038bd",
            "01579818c83a4d74912229b4efd26fee",
            "4f78505a21e24188b1963cfaf38604b8",
            "0fd7881fb610499ca8dcba87ae1fb519",
            "eda6705bc31541ceb3ad5c744d45a553",
            "b0de3f9dd5b040d590926e7365548932",
            "eac7941e1e1e4c4889106b0c8ea77206",
            "cfb4ba55e1dd40a0854eedb0ff78b614",
            "d5e7a7afcbb046d9bc9b3374370a350e",
            "18aaf51ebe2641a380930c1813db7639",
            "369e7887faa14da490feb0b9f1d080cc",
            "8d41d42b333649bb8a323ae5d5d17cec",
            "ac32bd86430248c7834312e147e62ce6",
            "3b2b68ae449147c6aee2c2bfef501792",
            "038f314f865d4d2c97e10415aab10c38",
            "5f8c844175f24b1d92a0d0143a27d7b4",
            "75dce1de5d81469c86a3f3075011ae4d",
            "7a43643180e141cf9de67d4ad30f8246",
            "345eefab563e4e589606452d869866ba",
            "22e31a70e445410aa28788d14dddf186",
            "99fc86800e4c40709767935a6a1f9706",
            "b6f6174f1cef4910bdfe8789918cc6ef",
            "1f632d8e04c845ffabd587604d8eeaab",
            "333bafc8e03e4ce28b37789273b1462b",
            "31b720fb96064e84a719dee36a632e3e",
            "80556d77093640f2b30e0058fcec6186",
            "c1ef27177eac4281af89fa0da73ab924",
            "b766a4daf08340fba472ef20d429e2eb",
            "d69057c242cd43e7a8bdbe695b5d82f7",
            "5a0d57766a314373b01bb34cb8fb7fa5",
            "a8263caad4d64ab6a7d5f36ad64518f3",
            "1cb2ae907617445e832aca7b74932fda",
            "7399bf97bf5d4712b765c052810cfcbb",
            "318f1dde8576401bbf431b6cdc7c821a",
            "ae7c26b3fbfd4b6aa703ac9059821be6",
            "6702945734da4c70b30d79a99ef1a86b",
            "62d0d466a56e4efea5237e2012a56604",
            "438974a639354ae98f8f7dc9f2a37d3e",
            "517ab84cb4bd468da80b0d1dc090ca89",
            "74d9cfb3c96949c7bd0fb52fab9d9141",
            "442a01701f7a42fca212656ac0274662",
            "168ec7d5ce1e4b9aa54145256b0036bf",
            "ee362bd234f94c15b44f3d0c4b7c9731",
            "a4695e4550e443438519b8d6482512d6",
            "66deb786cbd545beb72891ff6c17aef7",
            "4821799910714d499a5441658301fd21",
            "f74be8659c2945bc8bd56424a8847696",
            "3436be5c39854a2c8160087c97f243b6",
            "80595e53773649f0a0c71fd656cfd8b9",
            "e84c605d0e9746f3aa31a9b9c9777ede",
            "9e554bc2321440abb4216083fc210f23",
            "19523a6f131f43b186f08a4d02e0bf8e",
            "0aef78a876d54a88956952fae1a01acc",
            "b9129ed7b48342f4a37dbcdccc6a8b20",
            "4d60d50c4da944d78ed955811cd5b0fa",
            "dbfcf3387a2e41e4948e845e002634e7",
            "a5e0a29123c140e28cf53b82e12f3bbf",
            "19a0abe9853e494cb86e4234de7405cb",
            "78446cba9f234dac9ce7faa7fb790809",
            "96c50c8583d44cbba95eb81308353d4b",
            "9d445782e22245d1bb8f7ddc9e12987f",
            "49b622eda6ea4e26b3614667effb3fb1",
            "048fba2955a6417194135927486930d1",
            "c139cd2b5cb848f0a3603ddf492d0cc4",
            "74286e29127943f39b9471f0bb9e4a1b",
            "1a710efb906b40158f767f2c3602c3a6",
            "4a43e7a003b54e8199028fac8af9950e",
            "e6d0fa846f30408ca3463e960e781764",
            "e49924e480b84ac9a5d87e9723fde280",
            "1c0aca44877742ab81d613ad289b1886",
            "3ae904b03e5040f489124ff52bc4752f",
            "a1a7906735c943e0923112f5eb5dcaa3",
            "cdd6cb8469a94b378264dd96f16ce500",
            "3202294200984f5d80d5a8c06ad2e193",
            "f05fc8c4e0f44583a248a3b85659d8f2",
            "c88261ab1f5d4f4ba8eb10b522336d8b",
            "5c61ac1542774f0d970fcf56fa5a6d0e",
            "6f99963883f94ee88e222579261e26ff",
            "ac36c9ccc84445c0b7d65991417d1f28",
            "0c72680f54c642a899addb1ee16a5951",
            "5303afed7a054e02b9ba25d2420f4dea",
            "4d2d3ee197854a27bd0084a103c372f4",
            "f899b17b8e2b4bc1abffc36b1aac9889",
            "62e88326d4de4e13b076c96eea2f92b1",
            "f945b86c3b434dc1a9046b5201a0446f",
            "fb9758e565474cf29ff16b5f7dc50ec7",
            "07babce06b2141debc88859fec06e948",
            "26c111d69f0d4d1e9dd6af87690fc580",
            "bd55c1c1d9a04242894817cf1768527a",
            "3dab68f9b7554deab774b885094ca31b",
            "38c8fe1084794c06bdb2eb9eba92a31a",
            "71221dadb92441a39c44c53791faa1f9",
            "482e3fb12813427cb0b35c371d579f47",
            "7e4c5b22bd464fcf8b4ae8eb6c698165",
            "ee9319edd278477fb15d194a330744c2",
            "499b060d9796470a921483c47eb2545a",
            "84921c0dcf804d7897470a1a065730c7",
            "ddd98e5f9cff4e0e99283c0d84733225",
            "eeae3970d064402291d72b3d276472a3",
            "b098a27e3d7f4adda53b43a223a653dc",
            "3e1436cc72a941ec906305fb5bd198b5",
            "ca310520734e40deb19dfb726739d0d7",
            "93a1486d911b4c738e33452230dd328d",
            "99e2d9f58e4345b3bd5d6f99adca51bb",
            "00fc7e754e98470faa0ff2c72620df61",
            "dab8a5ce6de64c9eb88d5497976c071a",
            "1714066480c5463ca1340f36281a66a8",
            "c12dacd177144738a3ba0ee00d61e122",
            "09ebfd52e4624e9688c73ee5c46d934a",
            "2a093ffe79b4468c96dc619bc77eef52",
            "267e094009c5404ba80dfff291e0f6e5",
            "843f508ea96c4f1ab2e1b49126e7072d",
            "9a068eea3d1b40e79b64018251b51ad1",
            "7059ac5e09e343b88973f59f008aca86",
            "f8a42ae599f7421f9cb3bbea0c7014f4",
            "2215ab42c23e4dcaa51ea162599c9dcc",
            "7f44a9edda234a3b86ed336fa4ebb3cc",
            "6e318e3757c34bd1aed9dc95df851348",
            "f7aa19f3f076429cbe194e69c09f71fe",
            "b67fd5c5758141a28cbc38016cf08260",
            "60ae44a3116b46b094c210594ec8a477",
            "5324970a76424d28bf4d087048b31d6c",
            "a498c1c3c26a4cd9a3da7b87fab14570",
            "346786dda01648c8b0ce94e6149e37c7",
            "60967755c1e04a4bbb0deb24456a377e",
            "de5a697232ea42b28985bd2c61d74e8e",
            "3994d2cfe44f4ee48861850fd107a716",
            "0ff6a3094be042a187dc7eb1dc8d5951",
            "261afd0ad8154d7f82928f23015c4bc3",
            "a6996afd1a864dc59ac6697e08dbe43a",
            "db25de0ba1364d6888040f5bbc357b44",
            "cc71faf48e0d41afa03f92e2c8800ca6",
            "fa2824097fbc42d3ba16becf4e675ae6",
            "7fd1164d33754baeaf06493dddecf681",
            "1e12e59907204aefbeede941baa9ed35",
            "5925110280dd4b85bbd591ae45141c33",
            "f3a902c410ca41939c878a398f85d1eb",
            "553645b338c741148be7d465466f4cd2",
            "35aef78b4fa742418e7647a77c299b66",
            "331aaec8345647df8de708bdbe668e6d",
            "fb37b03f2d1f4d62a3722324d539a065",
            "da4aa37718a64e00b8b135294bc12bba",
            "1af5342a358b43659b0e4044e23131a0",
            "a5cde7c83088410097593975fd2066d7",
            "f3cce0841aa94a7dbf5e3946d3c6862d",
            "f5246da21ba94fb0bcd88720c08a08a5",
            "bf2913da69b945f88c81d2fbe5949cf3",
            "885e0deaf573431ea7f69fa78c8f466a",
            "735d65ac7299436194b2e8df949c9267",
            "e9e647c8151a4a46b495e173584c76f1",
            "ee6315af24954a22b278a0100a324753",
            "d7d65274cb114b62911b15a9595de845",
            "a78c4fd2ada940109ec9acc4a967c88d",
            "481eafa6aa104f31b830b03e6e534170",
            "9f093981035a4d308dfc544eed4cfbe9",
            "8e4193d89bba46958ddb67037c2f227c",
            "13912c561fa841a6a05914a80a0cde04",
            "6adde11ad2ba42c2b5ca9a9a84de67d1",
            "27da862eadb545d6967ec09be384732e",
            "4076dc3c2ccc4a6b98b15d87bde91d5e",
            "ab34e6938615452db453ce51a184675f",
            "c1b015cc61a049bdb33d168126c20c12",
            "51e8b8a1693a46319b60409199439377",
            "7779383b2d2a4ee9ac7eb635f5282460",
            "2638aa16f9684df39835fdd21ac51ce0",
            "a244fe3d0ba24c9fa508077bc7856294",
            "7b89137a72e0483db47df65167f62d67",
            "6365fe5579c54c92b25d2db00cc93be5",
            "81348d2eb7b44c8dbbc5f4853e2c2833",
            "f75f8efaf35940278da31169eebf16fb",
            "1a5ef8751a954a60aaa113c07726723c",
            "f83122e685bb40c19939f6239be3f9c6",
            "e59971e363254b4f95fee07af02fd992",
            "3c7b98cb0e704539b6e6da81aadc5298",
            "89ecdb886abb454cb85d17d2a561a83b",
            "945a3fe142e3495495e1d994e44e8025",
            "070b7680d0e94823a78fd89fd3baaf15",
            "17bd197abf604888898c2a1ee9e49c89",
            "9cb27cd5a7814195a28353667bcfe29f",
            "5c7bf6a735bf4c16a70f8b1b6fbcbe04",
            "ab8e5b625cbe40c4951f0d0ee78f26ea",
            "1c5247f3589b4b60a2c510dbab347d37",
            "be8ac4073dfe4a1dbfad1a53a33eb3cc",
            "0ada3f15f9ab48bbb008f90ac427463b",
            "240469a0120948db9b38d553f9c1e28b",
            "6515b936cb55479bbbdca627b4e517e9",
            "33ea7edc604642bda8ddca115cd6f5fe",
            "6595f089ca6a4af1bee6556134e0b0b0",
            "3fd8dece03e44807877fbcbc815b573e",
            "aa967c1c6f664d24afbbab5ef6e3d73f",
            "c03497eab42e4b7ca9ad7ec41426b404",
            "cc87f49530594ab684110f0349b39ab2",
            "a6162b0aa7f341cdbcca516db9d91fce",
            "af949bff560a461bb64fac59837c6e54",
            "c3dcfd3e836744b193a54640a2b025dd",
            "ca3fdf260a5848a18ac9594d070fb73c",
            "a4f8291734c348cabada2aa734ad94af",
            "190025be1129458c97a3ad636927dda0",
            "e46c2c7123d84fe785bde3308a83e77e",
            "68fc8a6f6f8b4d9bab63c33cdcdb055c",
            "2f2ed5d5a30d4e5dad25eca38508d93d",
            "399d2ba7979a425a9ca8c6f9673e86b5",
            "33fbc964d6514f6dbb397426fb1e25fc",
            "12aeb42a055847048e83b44354a0e176",
            "fee29dca9cb844ababc030a61718c286",
            "852a4e4e4f0d4da883a6c911f005c06d",
            "00419162fc904796bb9f5cd9ce050fe5",
            "80808d3278fb4dafac6ac6e789041644",
            "38ac4a612a9f4263a9ad0653b62c7fb6",
            "c0466f1af9cd485fb56efc53115c9487",
            "eee26252a97e42ac94757c33b6aee424",
            "095d131b17154205b03d66ab21cd7b30",
            "b8e1d81ec1fd4a51b026486d00e6acbb",
            "91c62a71721840e18a5e191fe811a602",
            "8c89823a7c3d4097b778f42bfb1e0032",
            "c00392a649eb4a258a4ad644bfaf2d36",
            "950f41db422b426a8689ad1f80e0e304",
            "0e50f3f83ea24e8fb99c2aaa4b4aff39",
            "6694939ddb6745639bf86e6b6e2e4653",
            "9719be48a8c04075ba97e28c814f1269",
            "60d36a28ff7c4cc8b62094ce1f6bfc09",
            "0722faaa952545c9bdd2297e556fefc2",
            "f1ab873bfbf04d0fa519c6a05012cb87",
            "bda0e91ef5514a96b4152e7fa46994f5",
            "49e1781551eb4992adc7e7759fc73e2b",
            "e0bdaeea5333425599c66daebf983ce9",
            "1ba7e9b8b6d3479eb92c3274bd93e293",
            "12fc512053854edea069a0001951467e",
            "5db5511d43464ac5add26ed3d813ded2",
            "f720166c13274533853ee31acbb57c2b",
            "06a8530829b94e21979cf49375706fa2",
            "dae172afb5f844308983f527adc88c4d",
            "7a222bff52824c87b00236ecaed9829a",
            "1c659b0345cd44a1905de4358de37acc",
            "720b2670da804e3e8ec8e11569ed87f4",
            "5438e33097164c37a36d41335d1dc9e2",
            "78c865bcd0c941e2a5b1e5ca17d6ed00",
            "ebef3f6da8174b6e8eb47e23feb7c0c6",
            "2e43aade6a2045d7a79250cd1a3b7a6b",
            "701d8d37dfc94a4e82902a765987190a",
            "092ab872c1f0480a8dde4000c7362d6e",
            "acea65237b1c4f2290a3f5eb7d983f23",
            "1f337fe13a244c0e9911ea2af9bc25cd",
            "d3da3fbb912248ddb78a25e614f3991f",
            "35ee2ffd054540e1a8a1c49cd4a1e0f0",
            "5a061c48b5a84a388990a53d11a6d2d1",
            "82d643d0f7f4420a98c87f30108f524c",
            "be693d0120144341a70b2726cc322e05",
            "6050a710858d435e8bbd6e29ae08bf9e",
            "94f43a6b30f743ce96d0513138c7c464",
            "88c292687ecf4bd69e21152078d08e37",
            "457a7bce91f448518b4eddbf042e6016",
            "303089b409b4460ca4251afb8d6072b4",
            "d342cf91196242898be8291b950f3d06",
            "297a10f3d6a942e68311d6c0c003cabb",
            "818852a1b4df47ef964a25f1c6ba593b",
            "47ae7820cd6845858da8f241010ec470",
            "cab1f71d7ad84238bc98ff8123431aa2",
            "57a905f04d174abbb94dd379ba3964d1",
            "6896441e23054301b717eb69a15b75be",
            "d61307cb271d468fa138fb76c1412243",
            "11479fc283c94f67aefd8297aed04ad9",
            "a2ac706f8fb34ff59fd9adc67649ad0e",
            "d53573fc411d471caf22a8383015f9bb",
            "30182803863945abb4000ca1d7bc31ba",
            "c08948b25f60433f9c82d7f9e3992761",
            "5038b727d61d42ab8a006d749892d4cd",
            "79b02aaa7b494586a7c7f0ece7b4a554",
            "07c85062b1af45fdaa83478858ee1b8d",
            "fef81a3e4db74ae8a554cb83c12ca9a3",
            "5a00eec158d94febb3d7da8e1d076465",
            "bf23255edb1147b4a0bcae176c2d8d99",
            "6fba04ed6c454a85a480f2d1b572a3a1",
            "1e79280735854f3c90085892dd17edb7",
            "d8d69101acba4f15be14352f6a5a3ae8",
            "ffcff28724bd40e185ff44821704f839",
            "caadbed3d59d4bd6a774855235d84577",
            "8b12c5bdda1a4e488d679976eea4d6b3",
            "5ec00b4b6d2b4e228175427834613519",
            "af5b7cece5264aeda1767d8744cee329",
            "24411a95c5564ecc8dd7cde484972bba",
            "8ed1e2e5badb4814b9fbc09b2488e4ed",
            "484e7e17dda44edb9118daeabe1773ed",
            "b6bbcc1a39b9413d8a145ae4a72f5316",
            "50c71ddd4e564985a69beddc2ba211f9",
            "e9b9dbc1267d4b48a1027462b4761957",
            "eced5bf5013d4ede992e957c828d009e",
            "03a0ee2e533c4b2c9ee8cafd3d70a90d",
            "db5589bde78c4789ad642656a24bb8bd",
            "f73b15be3c954f658ce18c45dd9c056b",
            "286fe19d83f84635ab1d2cfc9aab70de",
            "1d0460fa841b46fba1cdedca52478543",
            "214f46f942014986b31a43d0f80e72b5",
            "f71c4a7b2a784cdfbc9294675c0904c5",
            "71fef9fa4e8e41cabafb509100b77a51",
            "d9c79f0aa26e4a8aa28fdbe9d711d51a",
            "00178916e8374843ac80665380947e4f",
            "3b6adbf107d94067b54cdaf4ba13d177",
            "1af0ccc2512a47a094810ceb890b2d9b",
            "63eb0c4558fa4f99812384c3d9625823",
            "c0e8cb06fc234d7aa61dbc8cbc0474d7",
            "2ae3d2c4080a49cab9f784ca2edcbde8",
            "d0122023fd144c889a9255533e3cef27",
            "5736c3341bb8420ca3d82ded91c77148",
            "9e502be44c5e486fb82be018d1e7c852",
            "21fb32bd069b42fe8e93ee9cf94c9f87",
            "5f30da91b5fb451f97866011f35f03dc",
            "472c597e7d1c4023aa8f6121d522da05",
            "c540779ad62f451db31d11a58a89e581",
            "30add3544c4542ee85152623c95db643",
            "dbe2eb98e2f94f9b89970a119e595c23",
            "4ee31eaa897d48a1b9ccca00b5e6d0bd",
            "279e4f3e4dd6445f93244b35e002197c",
            "bc8827ce8a51408698a31576e00a0947",
            "4f176e6cceb140dda054567589b22088",
            "3449fc5afe5144e78cfbb0659e8a7d97",
            "d33b8729acaf402fa3783d80b590c0fb",
            "e4095e3de42b412da2a46970559824c5",
            "3809d7f4c8334a499fbb18bd9085164a",
            "ec126473675540189c51ffafe627552b",
            "a2637beca6334830b459482fc6332566",
            "fa779995563746b0b4616fb153c4b49b",
            "924fa461e1894a73a3067b9be696544d",
            "997878f9a1b543ddad6f832bc3bb00aa",
            "23a2df574ebd4047b59d2b272358cd25",
            "03100dcc36b54bdfa27c9b662aebf4af",
            "3eb63a0ef0f2405fb63c121c473887f3",
            "5df340b7f1534cea878b8125f2630ab2",
            "dafd9ebc3d884e029d7a4312a60e3962",
            "14fdf1d1d81a4e71a7ed9887c53cc6d0",
            "77b77b464ba0426584575a453bd226bd",
            "16a7362e8a234cdf852f391d149dc318",
            "a9042c42fa994bd38dc4299136893398",
            "8f78c053057443d0b0f6b2c66445d9e3",
            "565844ea28fa425caa74b49f3d307e0e",
            "0797162569594c51bbe8f1bd3144e634",
            "213c81ccc9874be4b5c7bad33f29b428",
            "4d718ff8fb9747f8b6b1b4332e63abb3",
            "4945d375539946a9b369f8c7850ee98b",
            "6da101559c854d19ac5b0cdcb0c490f9",
            "5e9499454b32452bbd2edee8d464122e",
            "0a5d52f30a264850a49e045ed0eadbff",
            "004700fe919242dbac5a33ca307c7f13",
            "8418e68e3e194abaaed85165538ffa5f",
            "0c4ce4b0441f486084530ecf08966509",
            "bf9a2a3f87054733bec1bbe7d1bf0121",
            "52ab19bcd2de4f9ab724a311aee3cdb9",
            "18d8fad943474f0f80ff7358f5f82453",
            "35830ec6c6504ffc87c61737fb662978",
            "296c8fe8a9a6467d91414a12b3226cac",
            "5b1beee4f3d048d2adc368161657212f",
            "7ba6f5b0a1be4242bd62a798549d6fad",
            "32533bc7824145d0880082bc4f62c82a",
            "d3f3123b2e3d46debe6ff164a584eefe",
            "2995611e64ab446ea68353737ae3182c",
            "8e418c41106c4a43b2eb351deebc3d6b",
            "3a7ad007d732452e8802e31080896bac",
            "6545c812503148d6b44d22c1dae51441",
            "7a519a28072748429923f5e94d5b136d",
            "637c8cd290a34d23ad162b7b06b7e9af",
            "9b3665ca681d4476ac1a1a4c43ffba0d",
            "dce37cdd442a49fea54b98702a372b3d",
            "b4c51d3a135945a5b2e236805aef81a0",
            "3fc02415c98941c797eba44ff655339d",
            "41a7657aa025486b93302b1dde8fa992",
            "64ffdf4e97e34e4aaf5b6e05fa5eecb7",
            "ca5544b4d21943b1ba11d9ab95c47fb7",
            "637fe7ba963648868124db74081f03e3",
            "53559182889b4f0582c2c2b57c99e2be",
            "a33654ffcb7041ceaf229e84c95b1c01",
            "7156072252e14f9c8bc5fc1dfb5f44d8",
            "60a7868d77164f7c9d99805983f886b0",
            "45c5f5adbdd3444a8c00b582ed7e68ff",
            "7f8fc0f771274ccd83aed3f2ab9257c4",
            "e845f98bab7545989cfea4c072cd60c9",
            "cdb244b974504806932dcda39afa9157",
            "96fe0ecb03c4420c8ba6452d90ce6080",
            "bd01c445913e4e1a8e53719f43c164cc",
            "c2c3feb1fbe84f3fbfbb5a34bd1a6a2d",
            "00264d1254844657aff415731ecbf0b8",
            "c063ec5cdf62413daeaef96fce805203",
            "6895aa9a2c7c477aa6d44170caffc763",
            "dde9a0b4c3654de7ae4924ecbe2f1c12",
            "409921f58c9a4098b31ddbd8903b38ae",
            "50155600df8140efb6b5268b41beda39",
            "2d70e9a8b0a148e488c22168f95754d9",
            "fe2beb41af7442eea27c7e0a06713250",
            "e296858e4d7340a0812a4729dbf063cc",
            "49a1d2614b9d4a92a73213fadd630419",
            "174b8ba9e19f4b479dee8a6cdcad848b",
            "692e546685a24c9ebecf91798402c0df",
            "6e3114a62c3a46c5a0e4b35d15082dec",
            "71dc1303bc464f9c8cd2c45293e52ff0",
            "ff3734f174224fc1815c6b5078e5860d",
            "178f389ac69b42e081c67beac6795d16",
            "0e4c3d4529e04f8296f9010a79bf59b3",
            "58886bf6b44c449ab544fbd954ecae00",
            "b8a440fb09fe4556aea57399a37dc918",
            "730e690f9c784476b2b070cf123f98f4",
            "4ba8ea6bd7e24843a99130d9f1e6e52e",
            "17ef0c3c8ab944998ac861f7f63cf49b",
            "acdd2ca582d74401ac9a6ee9d487cffa",
            "9fd365d7f3434a43b43bbb47ebc27d1c",
            "eca59fa4ad5544ebbd745b0286beadb5",
            "a2f20f7cc7234c62821a1f6ae80257e8",
            "70bd80933dd4421ca91483c36103b58b",
            "7d7992264aee4e0ab3a1b5668eeba921",
            "52ef8cf6666d441080439a0c12c0e15c",
            "e99050ae65714753be8ac7d38f050a42",
            "a9160ba3263947a39182ef343d28b332",
            "119d1ab88d8543c99f780ed06f9d301b",
            "f7be6389815b4049b29a69974603c0fa",
            "b8b894a38c26450ab2887d206dfc0a0b",
            "48df31886c3d4f538b011910229bd0c3",
            "0165bd2ce0444d009c81353a7aebaad3",
            "7f5ee4ff85344939a639e5c069b41bdd",
            "0f0b73e76a8a48fc8d7ffe49060a4fd3",
            "3c400b9a6282429da75e154b1f198bb6",
            "3eb3d69314da483a8550340ef5bacb6a",
            "1b9b8f1f988940fdbb50620b88b5b78d",
            "3fc61760e9b54dbeb8a45a3e14e9e92a",
            "4ec31356c0614fd49b4b0709a2233bdf",
            "7f443d44e1b54e86b3a9d90288b44c58",
            "ded06cc38a134de9a91ec2ade795ccc3",
            "441cb96cb1c342029f811f963179fbf6",
            "0936598c072740a2827f4cca58fd2a5d",
            "4293c3b8401e4b50acd2bae62829dc6e",
            "6fdcca6d0f3441b59e9c1cf795a50f24",
            "aaed3f3ce6814b46bd03faf0a741fc27",
            "c8d70ce8cffc420bb53f2a915d1c5fa9",
            "3ecb63b213514a298bf176c03907d9d5",
            "8e875cdfc3374aa7aa9247857a1c4dcf",
            "e994bc161116488c8fcaaec700f8c4b7",
            "1ad82ca8e5084efb94753595337ad5ac",
            "ef9d08cc4aac47098db1704da84c95ba",
            "89c615933f084ef4894ac6f1fbcf2756",
            "b69adee3f9f44dab99b64a3c7a4a5082",
            "ee4629a1ebe04cbe908aada294a2f725",
            "44a98355e28b43da9a5301500e16b3df",
            "9d8bb88588f44dbf89b83d9ed327ae08",
            "7d622a15c9da4ddd8aaf290cf3e138ed",
            "7801c1369a884d75a51d8b7eb35e2faf",
            "b31f0633eb8d4693ac9a216e333368ff",
            "400ad6c57aa6433c9bbad578a865fd2d",
            "101fc2a1848148d4a9d5b65ad13a6629",
            "62502d14979e41db8a33aa9cbb0dc1ce",
            "3d1df076a1564e4dab77a12139c950e2",
            "d39643e54b494bb994df36d1c529938c",
            "24591e9df53e436192fe6586b8400cbe",
            "ef51366352444a9aae47245065b7fa70",
            "44801ca968a547f58afaa308b54ffd7f",
            "ad9ac25a8c124d63839de30dbcf3c3e8",
            "dfec1a3ce8b34d80baa62d119ac54f8a",
            "21b8678593a64af3bf58260cafc41583",
            "75dc44b5d1ba4c949b18bccbc580099d",
            "3ba51af3510146c3b028909999004ed2",
            "74552b6ceb424a249bf684f11c2f7a3c",
            "efda1d72712d4decac4fb44e0957cd63",
            "c4e831727d7940ca8dc9c4d02a491b28",
            "5d0244fb47334e6b864e508220599ea0",
            "88b78d46ca8b44e99d53ca97b5f49c76",
            "a2ed4856dc8d43d1963fee46e86cb88e",
            "7f119dba94304b62bc9e218b94b2ebb0",
            "5ce8e58afa3b4e40a62da68248b698cd",
            "27fedb1b60114845a917726c7fef1254",
            "3d9e09ac763640fc835c62c2f0907b0e",
            "34f6757d27294892aa3497efcec2cfe7",
            "6bd4443ee32741e48e2edb537fd4808b",
            "d9021fbdb414453d92b5e215c11a6987",
            "3efeb0e2becb45b0a86b5325014b195b",
            "7e6dc2572f06442398de0760e70667d8",
            "364dcaf419b74aea91cb0688dafd232e",
            "269caffb605640a9b9a595067bcb02b5",
            "c106174537b94b5980493824c105e74b",
            "c5fb0f40e48a44fdb2a5f2054f32a763",
            "cdd5b89aa4484e2caa1d3621e02f96e1",
            "bc87153aa7e041ba8935a589b5b53b56",
            "30042bc6d9a341c5bc79ae48a37e0dbc",
            "ce88f31d1c2c463f8813f3f2d0e0e9f9",
            "d2abf7c639a749e78c347664778add9e",
            "63649d9ce914458db18fbccf11e6cc70",
            "bc9a8f6068e2478abc123ba611513a92",
            "5ea481caa185441db94cf94fb88fcc82",
            "8b0b7657171c416881aa01ba1068dd20",
            "760ec78f8a8a4634957642fc7b08f5eb",
            "927777d07613471eaddd72960a46e118",
            "8ac380499ca04c6fa1758644d987988f",
            "0e710c51155c4ea2b92ffacf90082a54",
            "56652b92f9f44592ad1c88f7ca0058a2",
            "4eb4f4653c26450196bec1093ecd5af7",
            "fa06b8643d634aef9513e2a330078c00",
            "625d55758e944207b3c23d6de95e487e"
          ]
        },
        "id": "5M6MqThI3-DR",
        "outputId": "b0e53c32-6daf-4f0b-9fa5-bd661b194791"
      },
      "execution_count": null,
      "outputs": [
        {
          "output_type": "stream",
          "name": "stdout",
          "text": [
            "suvrobaner/distilbert-base-uncased-finetuned-emotion-en-tweets\n"
          ]
        },
        {
          "output_type": "display_data",
          "data": {
            "text/plain": [
              "Downloading:   0%|          | 0.00/860 [00:00<?, ?B/s]"
            ],
            "application/vnd.jupyter.widget-view+json": {
              "version_major": 2,
              "version_minor": 0,
              "model_id": "f7a3fbc02adf4029bd47032cba04815d"
            }
          },
          "metadata": {}
        },
        {
          "output_type": "display_data",
          "data": {
            "text/plain": [
              "Downloading:   0%|          | 0.00/268M [00:00<?, ?B/s]"
            ],
            "application/vnd.jupyter.widget-view+json": {
              "version_major": 2,
              "version_minor": 0,
              "model_id": "d38c0e25d6c14155b53e8258bedf8392"
            }
          },
          "metadata": {}
        },
        {
          "output_type": "display_data",
          "data": {
            "text/plain": [
              "Downloading:   0%|          | 0.00/333 [00:00<?, ?B/s]"
            ],
            "application/vnd.jupyter.widget-view+json": {
              "version_major": 2,
              "version_minor": 0,
              "model_id": "2d7f44b5734b43b68060cb38b4794d41"
            }
          },
          "metadata": {}
        },
        {
          "output_type": "display_data",
          "data": {
            "text/plain": [
              "Downloading:   0%|          | 0.00/232k [00:00<?, ?B/s]"
            ],
            "application/vnd.jupyter.widget-view+json": {
              "version_major": 2,
              "version_minor": 0,
              "model_id": "0d86bc0fa7e04736a3af3c484b56a663"
            }
          },
          "metadata": {}
        },
        {
          "output_type": "display_data",
          "data": {
            "text/plain": [
              "Downloading:   0%|          | 0.00/466k [00:00<?, ?B/s]"
            ],
            "application/vnd.jupyter.widget-view+json": {
              "version_major": 2,
              "version_minor": 0,
              "model_id": "0c297d9a272e43c88efc4fb9496f136b"
            }
          },
          "metadata": {}
        },
        {
          "output_type": "display_data",
          "data": {
            "text/plain": [
              "Downloading:   0%|          | 0.00/112 [00:00<?, ?B/s]"
            ],
            "application/vnd.jupyter.widget-view+json": {
              "version_major": 2,
              "version_minor": 0,
              "model_id": "e7f2f2f9b2a84f5ba705b7911fd90f0a"
            }
          },
          "metadata": {}
        },
        {
          "output_type": "stream",
          "name": "stdout",
          "text": [
            "success\n",
            "\n",
            "stevevee0101/distilbert-base-uncased-finetuned-emotion\n"
          ]
        },
        {
          "output_type": "display_data",
          "data": {
            "text/plain": [
              "Downloading:   0%|          | 0.00/883 [00:00<?, ?B/s]"
            ],
            "application/vnd.jupyter.widget-view+json": {
              "version_major": 2,
              "version_minor": 0,
              "model_id": "c8c8cfc66fcb4890be66421c24e79782"
            }
          },
          "metadata": {}
        },
        {
          "output_type": "display_data",
          "data": {
            "text/plain": [
              "Downloading:   0%|          | 0.00/268M [00:00<?, ?B/s]"
            ],
            "application/vnd.jupyter.widget-view+json": {
              "version_major": 2,
              "version_minor": 0,
              "model_id": "141787a67fc64bccb0956e14a849debf"
            }
          },
          "metadata": {}
        },
        {
          "output_type": "display_data",
          "data": {
            "text/plain": [
              "Downloading:   0%|          | 0.00/360 [00:00<?, ?B/s]"
            ],
            "application/vnd.jupyter.widget-view+json": {
              "version_major": 2,
              "version_minor": 0,
              "model_id": "6d02df98f7ad47deb8b82daeedd32d43"
            }
          },
          "metadata": {}
        },
        {
          "output_type": "display_data",
          "data": {
            "text/plain": [
              "Downloading:   0%|          | 0.00/232k [00:00<?, ?B/s]"
            ],
            "application/vnd.jupyter.widget-view+json": {
              "version_major": 2,
              "version_minor": 0,
              "model_id": "ea2da8a34c894bd395fd124743bc83f8"
            }
          },
          "metadata": {}
        },
        {
          "output_type": "display_data",
          "data": {
            "text/plain": [
              "Downloading:   0%|          | 0.00/711k [00:00<?, ?B/s]"
            ],
            "application/vnd.jupyter.widget-view+json": {
              "version_major": 2,
              "version_minor": 0,
              "model_id": "e4e0e607e57344178f40c9704f7b5ebc"
            }
          },
          "metadata": {}
        },
        {
          "output_type": "display_data",
          "data": {
            "text/plain": [
              "Downloading:   0%|          | 0.00/125 [00:00<?, ?B/s]"
            ],
            "application/vnd.jupyter.widget-view+json": {
              "version_major": 2,
              "version_minor": 0,
              "model_id": "57a9241b2542447eab264252d237affd"
            }
          },
          "metadata": {}
        },
        {
          "output_type": "stream",
          "name": "stdout",
          "text": [
            "success\n",
            "\n",
            "Emanuel/bertweet-emotion-base\n"
          ]
        },
        {
          "output_type": "display_data",
          "data": {
            "text/plain": [
              "Downloading:   0%|          | 0.00/1.10k [00:00<?, ?B/s]"
            ],
            "application/vnd.jupyter.widget-view+json": {
              "version_major": 2,
              "version_minor": 0,
              "model_id": "7971015e82e24e298ddc15c975da1816"
            }
          },
          "metadata": {}
        },
        {
          "output_type": "display_data",
          "data": {
            "text/plain": [
              "Downloading:   0%|          | 0.00/540M [00:00<?, ?B/s]"
            ],
            "application/vnd.jupyter.widget-view+json": {
              "version_major": 2,
              "version_minor": 0,
              "model_id": "7ddb5e3fecac41c1aae1d48d496b3107"
            }
          },
          "metadata": {}
        },
        {
          "output_type": "display_data",
          "data": {
            "text/plain": [
              "Downloading:   0%|          | 0.00/359 [00:00<?, ?B/s]"
            ],
            "application/vnd.jupyter.widget-view+json": {
              "version_major": 2,
              "version_minor": 0,
              "model_id": "dbf32bd53b574fc3b0f172ac9f171425"
            }
          },
          "metadata": {}
        },
        {
          "output_type": "display_data",
          "data": {
            "text/plain": [
              "Downloading:   0%|          | 0.00/843k [00:00<?, ?B/s]"
            ],
            "application/vnd.jupyter.widget-view+json": {
              "version_major": 2,
              "version_minor": 0,
              "model_id": "1588e7f2994d4fb49cc38fd4c2dc62c6"
            }
          },
          "metadata": {}
        },
        {
          "output_type": "display_data",
          "data": {
            "text/plain": [
              "Downloading:   0%|          | 0.00/1.08M [00:00<?, ?B/s]"
            ],
            "application/vnd.jupyter.widget-view+json": {
              "version_major": 2,
              "version_minor": 0,
              "model_id": "6b6144341bdb4419a8f5dd0a0385c9f5"
            }
          },
          "metadata": {}
        },
        {
          "output_type": "display_data",
          "data": {
            "text/plain": [
              "Downloading:   0%|          | 0.00/17.0 [00:00<?, ?B/s]"
            ],
            "application/vnd.jupyter.widget-view+json": {
              "version_major": 2,
              "version_minor": 0,
              "model_id": "05d2681adddb49a3bfeeb9955f3e07f3"
            }
          },
          "metadata": {}
        },
        {
          "output_type": "display_data",
          "data": {
            "text/plain": [
              "Downloading:   0%|          | 0.00/150 [00:00<?, ?B/s]"
            ],
            "application/vnd.jupyter.widget-view+json": {
              "version_major": 2,
              "version_minor": 0,
              "model_id": "79ab28332bca4a818c2f11a448e12008"
            }
          },
          "metadata": {}
        },
        {
          "output_type": "stream",
          "name": "stdout",
          "text": [
            "success\n",
            "\n",
            "bhadresh-savani/albert-base-v2-emotion\n"
          ]
        },
        {
          "output_type": "display_data",
          "data": {
            "text/plain": [
              "Downloading:   0%|          | 0.00/1.10k [00:00<?, ?B/s]"
            ],
            "application/vnd.jupyter.widget-view+json": {
              "version_major": 2,
              "version_minor": 0,
              "model_id": "d9e8eb1585b440c58ba9908dc0288d44"
            }
          },
          "metadata": {}
        },
        {
          "output_type": "display_data",
          "data": {
            "text/plain": [
              "Downloading:   0%|          | 0.00/46.8M [00:00<?, ?B/s]"
            ],
            "application/vnd.jupyter.widget-view+json": {
              "version_major": 2,
              "version_minor": 0,
              "model_id": "d70e4f97f4164fa9a23313d58df11184"
            }
          },
          "metadata": {}
        },
        {
          "output_type": "display_data",
          "data": {
            "text/plain": [
              "Downloading:   0%|          | 0.00/428 [00:00<?, ?B/s]"
            ],
            "application/vnd.jupyter.widget-view+json": {
              "version_major": 2,
              "version_minor": 0,
              "model_id": "4bac1a49c4694d28b6a556b6cd8fcf4c"
            }
          },
          "metadata": {}
        },
        {
          "output_type": "display_data",
          "data": {
            "text/plain": [
              "Downloading:   0%|          | 0.00/1.31M [00:00<?, ?B/s]"
            ],
            "application/vnd.jupyter.widget-view+json": {
              "version_major": 2,
              "version_minor": 0,
              "model_id": "d5e7a7afcbb046d9bc9b3374370a350e"
            }
          },
          "metadata": {}
        },
        {
          "output_type": "display_data",
          "data": {
            "text/plain": [
              "Downloading:   0%|          | 0.00/245 [00:00<?, ?B/s]"
            ],
            "application/vnd.jupyter.widget-view+json": {
              "version_major": 2,
              "version_minor": 0,
              "model_id": "22e31a70e445410aa28788d14dddf186"
            }
          },
          "metadata": {}
        },
        {
          "output_type": "stream",
          "name": "stdout",
          "text": [
            "success\n",
            "\n",
            "Emanuel/twitter-emotion-deberta-v3-base\n"
          ]
        },
        {
          "output_type": "display_data",
          "data": {
            "text/plain": [
              "Downloading:   0%|          | 0.00/1.16k [00:00<?, ?B/s]"
            ],
            "application/vnd.jupyter.widget-view+json": {
              "version_major": 2,
              "version_minor": 0,
              "model_id": "a8263caad4d64ab6a7d5f36ad64518f3"
            }
          },
          "metadata": {}
        },
        {
          "output_type": "display_data",
          "data": {
            "text/plain": [
              "Downloading:   0%|          | 0.00/738M [00:00<?, ?B/s]"
            ],
            "application/vnd.jupyter.widget-view+json": {
              "version_major": 2,
              "version_minor": 0,
              "model_id": "168ec7d5ce1e4b9aa54145256b0036bf"
            }
          },
          "metadata": {}
        },
        {
          "output_type": "display_data",
          "data": {
            "text/plain": [
              "Downloading:   0%|          | 0.00/392 [00:00<?, ?B/s]"
            ],
            "application/vnd.jupyter.widget-view+json": {
              "version_major": 2,
              "version_minor": 0,
              "model_id": "0aef78a876d54a88956952fae1a01acc"
            }
          },
          "metadata": {}
        },
        {
          "output_type": "display_data",
          "data": {
            "text/plain": [
              "Downloading:   0%|          | 0.00/2.46M [00:00<?, ?B/s]"
            ],
            "application/vnd.jupyter.widget-view+json": {
              "version_major": 2,
              "version_minor": 0,
              "model_id": "c139cd2b5cb848f0a3603ddf492d0cc4"
            }
          },
          "metadata": {}
        },
        {
          "output_type": "display_data",
          "data": {
            "text/plain": [
              "Downloading:   0%|          | 0.00/18.0 [00:00<?, ?B/s]"
            ],
            "application/vnd.jupyter.widget-view+json": {
              "version_major": 2,
              "version_minor": 0,
              "model_id": "f05fc8c4e0f44583a248a3b85659d8f2"
            }
          },
          "metadata": {}
        },
        {
          "output_type": "display_data",
          "data": {
            "text/plain": [
              "Downloading:   0%|          | 0.00/156 [00:00<?, ?B/s]"
            ],
            "application/vnd.jupyter.widget-view+json": {
              "version_major": 2,
              "version_minor": 0,
              "model_id": "fb9758e565474cf29ff16b5f7dc50ec7"
            }
          },
          "metadata": {}
        },
        {
          "output_type": "stream",
          "name": "stderr",
          "text": [
            "/usr/local/lib/python3.7/dist-packages/transformers/convert_slow_tokenizer.py:447: UserWarning: The sentencepiece tokenizer that you are converting to a fast tokenizer uses the byte fallback option which is not implemented in the fast tokenizers. In practice this means that the fast version of the tokenizer can produce unknown tokens whereas the sentencepiece version would have converted these unknown tokens into a sequence of byte tokens matching the original piece of text.\n",
            "  \"The sentencepiece tokenizer that you are converting to a fast tokenizer uses the byte fallback option\"\n"
          ]
        },
        {
          "output_type": "stream",
          "name": "stdout",
          "text": [
            "success\n",
            "\n",
            "michauhl/distilbert-base-uncased-finetuned-emotion\n"
          ]
        },
        {
          "output_type": "display_data",
          "data": {
            "text/plain": [
              "Downloading:   0%|          | 0.00/860 [00:00<?, ?B/s]"
            ],
            "application/vnd.jupyter.widget-view+json": {
              "version_major": 2,
              "version_minor": 0,
              "model_id": "84921c0dcf804d7897470a1a065730c7"
            }
          },
          "metadata": {}
        },
        {
          "output_type": "display_data",
          "data": {
            "text/plain": [
              "Downloading:   0%|          | 0.00/268M [00:00<?, ?B/s]"
            ],
            "application/vnd.jupyter.widget-view+json": {
              "version_major": 2,
              "version_minor": 0,
              "model_id": "c12dacd177144738a3ba0ee00d61e122"
            }
          },
          "metadata": {}
        },
        {
          "output_type": "display_data",
          "data": {
            "text/plain": [
              "Downloading:   0%|          | 0.00/333 [00:00<?, ?B/s]"
            ],
            "application/vnd.jupyter.widget-view+json": {
              "version_major": 2,
              "version_minor": 0,
              "model_id": "f7aa19f3f076429cbe194e69c09f71fe"
            }
          },
          "metadata": {}
        },
        {
          "output_type": "display_data",
          "data": {
            "text/plain": [
              "Downloading:   0%|          | 0.00/232k [00:00<?, ?B/s]"
            ],
            "application/vnd.jupyter.widget-view+json": {
              "version_major": 2,
              "version_minor": 0,
              "model_id": "a6996afd1a864dc59ac6697e08dbe43a"
            }
          },
          "metadata": {}
        },
        {
          "output_type": "display_data",
          "data": {
            "text/plain": [
              "Downloading:   0%|          | 0.00/712k [00:00<?, ?B/s]"
            ],
            "application/vnd.jupyter.widget-view+json": {
              "version_major": 2,
              "version_minor": 0,
              "model_id": "fb37b03f2d1f4d62a3722324d539a065"
            }
          },
          "metadata": {}
        },
        {
          "output_type": "display_data",
          "data": {
            "text/plain": [
              "Downloading:   0%|          | 0.00/112 [00:00<?, ?B/s]"
            ],
            "application/vnd.jupyter.widget-view+json": {
              "version_major": 2,
              "version_minor": 0,
              "model_id": "d7d65274cb114b62911b15a9595de845"
            }
          },
          "metadata": {}
        },
        {
          "output_type": "stream",
          "name": "stdout",
          "text": [
            "success\n",
            "\n",
            "Zia/distilbert-base-uncased-finetuned-emotion\n"
          ]
        },
        {
          "output_type": "display_data",
          "data": {
            "text/plain": [
              "Downloading:   0%|          | 0.00/883 [00:00<?, ?B/s]"
            ],
            "application/vnd.jupyter.widget-view+json": {
              "version_major": 2,
              "version_minor": 0,
              "model_id": "51e8b8a1693a46319b60409199439377"
            }
          },
          "metadata": {}
        },
        {
          "output_type": "display_data",
          "data": {
            "text/plain": [
              "Downloading:   0%|          | 0.00/268M [00:00<?, ?B/s]"
            ],
            "application/vnd.jupyter.widget-view+json": {
              "version_major": 2,
              "version_minor": 0,
              "model_id": "3c7b98cb0e704539b6e6da81aadc5298"
            }
          },
          "metadata": {}
        },
        {
          "output_type": "display_data",
          "data": {
            "text/plain": [
              "Downloading:   0%|          | 0.00/333 [00:00<?, ?B/s]"
            ],
            "application/vnd.jupyter.widget-view+json": {
              "version_major": 2,
              "version_minor": 0,
              "model_id": "240469a0120948db9b38d553f9c1e28b"
            }
          },
          "metadata": {}
        },
        {
          "output_type": "display_data",
          "data": {
            "text/plain": [
              "Downloading:   0%|          | 0.00/232k [00:00<?, ?B/s]"
            ],
            "application/vnd.jupyter.widget-view+json": {
              "version_major": 2,
              "version_minor": 0,
              "model_id": "ca3fdf260a5848a18ac9594d070fb73c"
            }
          },
          "metadata": {}
        },
        {
          "output_type": "display_data",
          "data": {
            "text/plain": [
              "Downloading:   0%|          | 0.00/466k [00:00<?, ?B/s]"
            ],
            "application/vnd.jupyter.widget-view+json": {
              "version_major": 2,
              "version_minor": 0,
              "model_id": "00419162fc904796bb9f5cd9ce050fe5"
            }
          },
          "metadata": {}
        },
        {
          "output_type": "display_data",
          "data": {
            "text/plain": [
              "Downloading:   0%|          | 0.00/112 [00:00<?, ?B/s]"
            ],
            "application/vnd.jupyter.widget-view+json": {
              "version_major": 2,
              "version_minor": 0,
              "model_id": "0e50f3f83ea24e8fb99c2aaa4b4aff39"
            }
          },
          "metadata": {}
        },
        {
          "output_type": "stream",
          "name": "stdout",
          "text": [
            "success\n",
            "\n",
            "jkhan447/sentiment-model-sample-5-emotion\n"
          ]
        },
        {
          "output_type": "display_data",
          "data": {
            "text/plain": [
              "Downloading:   0%|          | 0.00/995 [00:00<?, ?B/s]"
            ],
            "application/vnd.jupyter.widget-view+json": {
              "version_major": 2,
              "version_minor": 0,
              "model_id": "5db5511d43464ac5add26ed3d813ded2"
            }
          },
          "metadata": {}
        },
        {
          "output_type": "display_data",
          "data": {
            "text/plain": [
              "Downloading:   0%|          | 0.00/438M [00:00<?, ?B/s]"
            ],
            "application/vnd.jupyter.widget-view+json": {
              "version_major": 2,
              "version_minor": 0,
              "model_id": "701d8d37dfc94a4e82902a765987190a"
            }
          },
          "metadata": {}
        },
        {
          "output_type": "display_data",
          "data": {
            "text/plain": [
              "Downloading:   0%|          | 0.00/321 [00:00<?, ?B/s]"
            ],
            "application/vnd.jupyter.widget-view+json": {
              "version_major": 2,
              "version_minor": 0,
              "model_id": "88c292687ecf4bd69e21152078d08e37"
            }
          },
          "metadata": {}
        },
        {
          "output_type": "display_data",
          "data": {
            "text/plain": [
              "Downloading:   0%|          | 0.00/232k [00:00<?, ?B/s]"
            ],
            "application/vnd.jupyter.widget-view+json": {
              "version_major": 2,
              "version_minor": 0,
              "model_id": "11479fc283c94f67aefd8297aed04ad9"
            }
          },
          "metadata": {}
        },
        {
          "output_type": "display_data",
          "data": {
            "text/plain": [
              "Downloading:   0%|          | 0.00/712k [00:00<?, ?B/s]"
            ],
            "application/vnd.jupyter.widget-view+json": {
              "version_major": 2,
              "version_minor": 0,
              "model_id": "6fba04ed6c454a85a480f2d1b572a3a1"
            }
          },
          "metadata": {}
        },
        {
          "output_type": "display_data",
          "data": {
            "text/plain": [
              "Downloading:   0%|          | 0.00/112 [00:00<?, ?B/s]"
            ],
            "application/vnd.jupyter.widget-view+json": {
              "version_major": 2,
              "version_minor": 0,
              "model_id": "b6bbcc1a39b9413d8a145ae4a72f5316"
            }
          },
          "metadata": {}
        },
        {
          "output_type": "stream",
          "name": "stdout",
          "text": [
            "success\n",
            "\n",
            "bhadresh-savani/distilbert-base-uncased-emotion\n"
          ]
        },
        {
          "output_type": "display_data",
          "data": {
            "text/plain": [
              "Downloading:   0%|          | 0.00/768 [00:00<?, ?B/s]"
            ],
            "application/vnd.jupyter.widget-view+json": {
              "version_major": 2,
              "version_minor": 0,
              "model_id": "71fef9fa4e8e41cabafb509100b77a51"
            }
          },
          "metadata": {}
        },
        {
          "output_type": "display_data",
          "data": {
            "text/plain": [
              "Downloading:   0%|          | 0.00/268M [00:00<?, ?B/s]"
            ],
            "application/vnd.jupyter.widget-view+json": {
              "version_major": 2,
              "version_minor": 0,
              "model_id": "21fb32bd069b42fe8e93ee9cf94c9f87"
            }
          },
          "metadata": {}
        },
        {
          "output_type": "display_data",
          "data": {
            "text/plain": [
              "Downloading:   0%|          | 0.00/291 [00:00<?, ?B/s]"
            ],
            "application/vnd.jupyter.widget-view+json": {
              "version_major": 2,
              "version_minor": 0,
              "model_id": "d33b8729acaf402fa3783d80b590c0fb"
            }
          },
          "metadata": {}
        },
        {
          "output_type": "display_data",
          "data": {
            "text/plain": [
              "Downloading:   0%|          | 0.00/232k [00:00<?, ?B/s]"
            ],
            "application/vnd.jupyter.widget-view+json": {
              "version_major": 2,
              "version_minor": 0,
              "model_id": "5df340b7f1534cea878b8125f2630ab2"
            }
          },
          "metadata": {}
        },
        {
          "output_type": "display_data",
          "data": {
            "text/plain": [
              "Downloading:   0%|          | 0.00/112 [00:00<?, ?B/s]"
            ],
            "application/vnd.jupyter.widget-view+json": {
              "version_major": 2,
              "version_minor": 0,
              "model_id": "4945d375539946a9b369f8c7850ee98b"
            }
          },
          "metadata": {}
        },
        {
          "output_type": "stream",
          "name": "stdout",
          "text": [
            "success\n",
            "\n",
            "bhadresh-savani/distilbert-base-uncased-finetuned-emotion\n"
          ]
        },
        {
          "output_type": "display_data",
          "data": {
            "text/plain": [
              "Downloading:   0%|          | 0.00/861 [00:00<?, ?B/s]"
            ],
            "application/vnd.jupyter.widget-view+json": {
              "version_major": 2,
              "version_minor": 0,
              "model_id": "296c8fe8a9a6467d91414a12b3226cac"
            }
          },
          "metadata": {}
        },
        {
          "output_type": "display_data",
          "data": {
            "text/plain": [
              "Downloading:   0%|          | 0.00/268M [00:00<?, ?B/s]"
            ],
            "application/vnd.jupyter.widget-view+json": {
              "version_major": 2,
              "version_minor": 0,
              "model_id": "9b3665ca681d4476ac1a1a4c43ffba0d"
            }
          },
          "metadata": {}
        },
        {
          "output_type": "display_data",
          "data": {
            "text/plain": [
              "Downloading:   0%|          | 0.00/333 [00:00<?, ?B/s]"
            ],
            "application/vnd.jupyter.widget-view+json": {
              "version_major": 2,
              "version_minor": 0,
              "model_id": "60a7868d77164f7c9d99805983f886b0"
            }
          },
          "metadata": {}
        },
        {
          "output_type": "display_data",
          "data": {
            "text/plain": [
              "Downloading:   0%|          | 0.00/232k [00:00<?, ?B/s]"
            ],
            "application/vnd.jupyter.widget-view+json": {
              "version_major": 2,
              "version_minor": 0,
              "model_id": "dde9a0b4c3654de7ae4924ecbe2f1c12"
            }
          },
          "metadata": {}
        },
        {
          "output_type": "display_data",
          "data": {
            "text/plain": [
              "Downloading:   0%|          | 0.00/466k [00:00<?, ?B/s]"
            ],
            "application/vnd.jupyter.widget-view+json": {
              "version_major": 2,
              "version_minor": 0,
              "model_id": "ff3734f174224fc1815c6b5078e5860d"
            }
          },
          "metadata": {}
        },
        {
          "output_type": "display_data",
          "data": {
            "text/plain": [
              "Downloading:   0%|          | 0.00/112 [00:00<?, ?B/s]"
            ],
            "application/vnd.jupyter.widget-view+json": {
              "version_major": 2,
              "version_minor": 0,
              "model_id": "a2f20f7cc7234c62821a1f6ae80257e8"
            }
          },
          "metadata": {}
        },
        {
          "output_type": "stream",
          "name": "stdout",
          "text": [
            "success\n",
            "\n",
            "j-hartmann/emotion-english-distilroberta-base\n"
          ]
        },
        {
          "output_type": "display_data",
          "data": {
            "text/plain": [
              "Downloading:   0%|          | 0.00/1.00k [00:00<?, ?B/s]"
            ],
            "application/vnd.jupyter.widget-view+json": {
              "version_major": 2,
              "version_minor": 0,
              "model_id": "7f5ee4ff85344939a639e5c069b41bdd"
            }
          },
          "metadata": {}
        },
        {
          "output_type": "display_data",
          "data": {
            "text/plain": [
              "Downloading:   0%|          | 0.00/329M [00:00<?, ?B/s]"
            ],
            "application/vnd.jupyter.widget-view+json": {
              "version_major": 2,
              "version_minor": 0,
              "model_id": "4293c3b8401e4b50acd2bae62829dc6e"
            }
          },
          "metadata": {}
        },
        {
          "output_type": "display_data",
          "data": {
            "text/plain": [
              "Downloading:   0%|          | 0.00/294 [00:00<?, ?B/s]"
            ],
            "application/vnd.jupyter.widget-view+json": {
              "version_major": 2,
              "version_minor": 0,
              "model_id": "ee4629a1ebe04cbe908aada294a2f725"
            }
          },
          "metadata": {}
        },
        {
          "output_type": "display_data",
          "data": {
            "text/plain": [
              "Downloading:   0%|          | 0.00/798k [00:00<?, ?B/s]"
            ],
            "application/vnd.jupyter.widget-view+json": {
              "version_major": 2,
              "version_minor": 0,
              "model_id": "24591e9df53e436192fe6586b8400cbe"
            }
          },
          "metadata": {}
        },
        {
          "output_type": "display_data",
          "data": {
            "text/plain": [
              "Downloading:   0%|          | 0.00/456k [00:00<?, ?B/s]"
            ],
            "application/vnd.jupyter.widget-view+json": {
              "version_major": 2,
              "version_minor": 0,
              "model_id": "5d0244fb47334e6b864e508220599ea0"
            }
          },
          "metadata": {}
        },
        {
          "output_type": "display_data",
          "data": {
            "text/plain": [
              "Downloading:   0%|          | 0.00/1.36M [00:00<?, ?B/s]"
            ],
            "application/vnd.jupyter.widget-view+json": {
              "version_major": 2,
              "version_minor": 0,
              "model_id": "7e6dc2572f06442398de0760e70667d8"
            }
          },
          "metadata": {}
        },
        {
          "output_type": "display_data",
          "data": {
            "text/plain": [
              "Downloading:   0%|          | 0.00/239 [00:00<?, ?B/s]"
            ],
            "application/vnd.jupyter.widget-view+json": {
              "version_major": 2,
              "version_minor": 0,
              "model_id": "bc9a8f6068e2478abc123ba611513a92"
            }
          },
          "metadata": {}
        },
        {
          "output_type": "stream",
          "name": "stdout",
          "text": [
            "success\n",
            "\n"
          ]
        }
      ]
    },
    {
      "cell_type": "code",
      "source": [
        "df.head(2)"
      ],
      "metadata": {
        "colab": {
          "base_uri": "https://localhost:8080/",
          "height": 402
        },
        "id": "Cr4ixz123-DS",
        "outputId": "a163df74-0fe7-43d3-f920-edcda56ead8b"
      },
      "execution_count": null,
      "outputs": [
        {
          "output_type": "execute_result",
          "data": {
            "text/plain": [
              "                                                                 sentence  \\\n",
              "0  Now, double vaccinated dying from COVID are blaming unvaccinated ones.   \n",
              "1                                 It really is starting to make no sense.   \n",
              "\n",
              "   original_id            source  \\\n",
              "0            0  Effective_Ad4588   \n",
              "1            0  Effective_Ad4588   \n",
              "\n",
              "                                                               clean_Text  \\\n",
              "0  now, double vaccinated dying from covid are blaming unvaccinated ones.   \n",
              "1                                 it really is starting to make no sense.   \n",
              "\n",
              "  EMO_suvrobaner/distilbert-base-uncased-finetuned-emotion-en-tweets  \\\n",
              "0                                                              anger   \n",
              "1                                                               fear   \n",
              "\n",
              "   CF_suvrobaner/distilbert-base-uncased-finetuned-emotion-en-tweets  \\\n",
              "0                                                           0.626292   \n",
              "1                                                           0.650890   \n",
              "\n",
              "  EMO_stevevee0101/distilbert-base-uncased-finetuned-emotion  \\\n",
              "0                                                    LABEL_3   \n",
              "1                                                    LABEL_4   \n",
              "\n",
              "   CF_stevevee0101/distilbert-base-uncased-finetuned-emotion  \\\n",
              "0                                                   0.445884   \n",
              "1                                                   0.260814   \n",
              "\n",
              "  EMO_Emanuel/bertweet-emotion-base  CF_Emanuel/bertweet-emotion-base  \\\n",
              "0                           sadness                          0.913226   \n",
              "1                               joy                          0.592781   \n",
              "\n",
              "  EMO_bhadresh-savani/albert-base-v2-emotion  \\\n",
              "0                                      anger   \n",
              "1                                      anger   \n",
              "\n",
              "   CF_bhadresh-savani/albert-base-v2-emotion  \\\n",
              "0                                   0.757638   \n",
              "1                                   0.608296   \n",
              "\n",
              "  EMO_Emanuel/twitter-emotion-deberta-v3-base  \\\n",
              "0                                        fear   \n",
              "1                                         joy   \n",
              "\n",
              "   CF_Emanuel/twitter-emotion-deberta-v3-base  \\\n",
              "0                                    0.308491   \n",
              "1                                    0.767220   \n",
              "\n",
              "  EMO_michauhl/distilbert-base-uncased-finetuned-emotion  \\\n",
              "0                                                  anger   \n",
              "1                                                  anger   \n",
              "\n",
              "   CF_michauhl/distilbert-base-uncased-finetuned-emotion  \\\n",
              "0                                               0.689712   \n",
              "1                                               0.339555   \n",
              "\n",
              "  EMO_Zia/distilbert-base-uncased-finetuned-emotion  \\\n",
              "0                                           LABEL_0   \n",
              "1                                           LABEL_1   \n",
              "\n",
              "   CF_Zia/distilbert-base-uncased-finetuned-emotion  \\\n",
              "0                                          0.820676   \n",
              "1                                          0.654405   \n",
              "\n",
              "  EMO_jkhan447/sentiment-model-sample-5-emotion  \\\n",
              "0                                       LABEL_3   \n",
              "1                                       LABEL_0   \n",
              "\n",
              "   CF_jkhan447/sentiment-model-sample-5-emotion  \\\n",
              "0                                      0.983253   \n",
              "1                                      0.776056   \n",
              "\n",
              "  EMO_bhadresh-savani/distilbert-base-uncased-emotion  \\\n",
              "0                                               anger   \n",
              "1                                             sadness   \n",
              "\n",
              "   CF_bhadresh-savani/distilbert-base-uncased-emotion  \\\n",
              "0                                            0.793100   \n",
              "1                                            0.450886   \n",
              "\n",
              "  EMO_bhadresh-savani/distilbert-base-uncased-finetuned-emotion  \\\n",
              "0                                                       sadness   \n",
              "1                                                           joy   \n",
              "\n",
              "   CF_bhadresh-savani/distilbert-base-uncased-finetuned-emotion  \\\n",
              "0                                                      0.426712   \n",
              "1                                                      0.588468   \n",
              "\n",
              "  EMO_j-hartmann/emotion-english-distilroberta-base  \\\n",
              "0                                             anger   \n",
              "1                                           sadness   \n",
              "\n",
              "   CF_j-hartmann/emotion-english-distilroberta-base  \n",
              "0                                          0.487290  \n",
              "1                                          0.415946  "
            ],
            "text/html": [
              "\n",
              "  <div id=\"df-7097a92e-939f-46a8-bb24-85eb880a62f0\">\n",
              "    <div class=\"colab-df-container\">\n",
              "      <div>\n",
              "<style scoped>\n",
              "    .dataframe tbody tr th:only-of-type {\n",
              "        vertical-align: middle;\n",
              "    }\n",
              "\n",
              "    .dataframe tbody tr th {\n",
              "        vertical-align: top;\n",
              "    }\n",
              "\n",
              "    .dataframe thead th {\n",
              "        text-align: right;\n",
              "    }\n",
              "</style>\n",
              "<table border=\"1\" class=\"dataframe\">\n",
              "  <thead>\n",
              "    <tr style=\"text-align: right;\">\n",
              "      <th></th>\n",
              "      <th>sentence</th>\n",
              "      <th>original_id</th>\n",
              "      <th>source</th>\n",
              "      <th>clean_Text</th>\n",
              "      <th>EMO_suvrobaner/distilbert-base-uncased-finetuned-emotion-en-tweets</th>\n",
              "      <th>CF_suvrobaner/distilbert-base-uncased-finetuned-emotion-en-tweets</th>\n",
              "      <th>EMO_stevevee0101/distilbert-base-uncased-finetuned-emotion</th>\n",
              "      <th>CF_stevevee0101/distilbert-base-uncased-finetuned-emotion</th>\n",
              "      <th>EMO_Emanuel/bertweet-emotion-base</th>\n",
              "      <th>CF_Emanuel/bertweet-emotion-base</th>\n",
              "      <th>EMO_bhadresh-savani/albert-base-v2-emotion</th>\n",
              "      <th>CF_bhadresh-savani/albert-base-v2-emotion</th>\n",
              "      <th>EMO_Emanuel/twitter-emotion-deberta-v3-base</th>\n",
              "      <th>CF_Emanuel/twitter-emotion-deberta-v3-base</th>\n",
              "      <th>EMO_michauhl/distilbert-base-uncased-finetuned-emotion</th>\n",
              "      <th>CF_michauhl/distilbert-base-uncased-finetuned-emotion</th>\n",
              "      <th>EMO_Zia/distilbert-base-uncased-finetuned-emotion</th>\n",
              "      <th>CF_Zia/distilbert-base-uncased-finetuned-emotion</th>\n",
              "      <th>EMO_jkhan447/sentiment-model-sample-5-emotion</th>\n",
              "      <th>CF_jkhan447/sentiment-model-sample-5-emotion</th>\n",
              "      <th>EMO_bhadresh-savani/distilbert-base-uncased-emotion</th>\n",
              "      <th>CF_bhadresh-savani/distilbert-base-uncased-emotion</th>\n",
              "      <th>EMO_bhadresh-savani/distilbert-base-uncased-finetuned-emotion</th>\n",
              "      <th>CF_bhadresh-savani/distilbert-base-uncased-finetuned-emotion</th>\n",
              "      <th>EMO_j-hartmann/emotion-english-distilroberta-base</th>\n",
              "      <th>CF_j-hartmann/emotion-english-distilroberta-base</th>\n",
              "    </tr>\n",
              "  </thead>\n",
              "  <tbody>\n",
              "    <tr>\n",
              "      <th>0</th>\n",
              "      <td>Now, double vaccinated dying from COVID are blaming unvaccinated ones.</td>\n",
              "      <td>0</td>\n",
              "      <td>Effective_Ad4588</td>\n",
              "      <td>now, double vaccinated dying from covid are blaming unvaccinated ones.</td>\n",
              "      <td>anger</td>\n",
              "      <td>0.626292</td>\n",
              "      <td>LABEL_3</td>\n",
              "      <td>0.445884</td>\n",
              "      <td>sadness</td>\n",
              "      <td>0.913226</td>\n",
              "      <td>anger</td>\n",
              "      <td>0.757638</td>\n",
              "      <td>fear</td>\n",
              "      <td>0.308491</td>\n",
              "      <td>anger</td>\n",
              "      <td>0.689712</td>\n",
              "      <td>LABEL_0</td>\n",
              "      <td>0.820676</td>\n",
              "      <td>LABEL_3</td>\n",
              "      <td>0.983253</td>\n",
              "      <td>anger</td>\n",
              "      <td>0.793100</td>\n",
              "      <td>sadness</td>\n",
              "      <td>0.426712</td>\n",
              "      <td>anger</td>\n",
              "      <td>0.487290</td>\n",
              "    </tr>\n",
              "    <tr>\n",
              "      <th>1</th>\n",
              "      <td>It really is starting to make no sense.</td>\n",
              "      <td>0</td>\n",
              "      <td>Effective_Ad4588</td>\n",
              "      <td>it really is starting to make no sense.</td>\n",
              "      <td>fear</td>\n",
              "      <td>0.650890</td>\n",
              "      <td>LABEL_4</td>\n",
              "      <td>0.260814</td>\n",
              "      <td>joy</td>\n",
              "      <td>0.592781</td>\n",
              "      <td>anger</td>\n",
              "      <td>0.608296</td>\n",
              "      <td>joy</td>\n",
              "      <td>0.767220</td>\n",
              "      <td>anger</td>\n",
              "      <td>0.339555</td>\n",
              "      <td>LABEL_1</td>\n",
              "      <td>0.654405</td>\n",
              "      <td>LABEL_0</td>\n",
              "      <td>0.776056</td>\n",
              "      <td>sadness</td>\n",
              "      <td>0.450886</td>\n",
              "      <td>joy</td>\n",
              "      <td>0.588468</td>\n",
              "      <td>sadness</td>\n",
              "      <td>0.415946</td>\n",
              "    </tr>\n",
              "  </tbody>\n",
              "</table>\n",
              "</div>\n",
              "      <button class=\"colab-df-convert\" onclick=\"convertToInteractive('df-7097a92e-939f-46a8-bb24-85eb880a62f0')\"\n",
              "              title=\"Convert this dataframe to an interactive table.\"\n",
              "              style=\"display:none;\">\n",
              "        \n",
              "  <svg xmlns=\"http://www.w3.org/2000/svg\" height=\"24px\"viewBox=\"0 0 24 24\"\n",
              "       width=\"24px\">\n",
              "    <path d=\"M0 0h24v24H0V0z\" fill=\"none\"/>\n",
              "    <path d=\"M18.56 5.44l.94 2.06.94-2.06 2.06-.94-2.06-.94-.94-2.06-.94 2.06-2.06.94zm-11 1L8.5 8.5l.94-2.06 2.06-.94-2.06-.94L8.5 2.5l-.94 2.06-2.06.94zm10 10l.94 2.06.94-2.06 2.06-.94-2.06-.94-.94-2.06-.94 2.06-2.06.94z\"/><path d=\"M17.41 7.96l-1.37-1.37c-.4-.4-.92-.59-1.43-.59-.52 0-1.04.2-1.43.59L10.3 9.45l-7.72 7.72c-.78.78-.78 2.05 0 2.83L4 21.41c.39.39.9.59 1.41.59.51 0 1.02-.2 1.41-.59l7.78-7.78 2.81-2.81c.8-.78.8-2.07 0-2.86zM5.41 20L4 18.59l7.72-7.72 1.47 1.35L5.41 20z\"/>\n",
              "  </svg>\n",
              "      </button>\n",
              "      \n",
              "  <style>\n",
              "    .colab-df-container {\n",
              "      display:flex;\n",
              "      flex-wrap:wrap;\n",
              "      gap: 12px;\n",
              "    }\n",
              "\n",
              "    .colab-df-convert {\n",
              "      background-color: #E8F0FE;\n",
              "      border: none;\n",
              "      border-radius: 50%;\n",
              "      cursor: pointer;\n",
              "      display: none;\n",
              "      fill: #1967D2;\n",
              "      height: 32px;\n",
              "      padding: 0 0 0 0;\n",
              "      width: 32px;\n",
              "    }\n",
              "\n",
              "    .colab-df-convert:hover {\n",
              "      background-color: #E2EBFA;\n",
              "      box-shadow: 0px 1px 2px rgba(60, 64, 67, 0.3), 0px 1px 3px 1px rgba(60, 64, 67, 0.15);\n",
              "      fill: #174EA6;\n",
              "    }\n",
              "\n",
              "    [theme=dark] .colab-df-convert {\n",
              "      background-color: #3B4455;\n",
              "      fill: #D2E3FC;\n",
              "    }\n",
              "\n",
              "    [theme=dark] .colab-df-convert:hover {\n",
              "      background-color: #434B5C;\n",
              "      box-shadow: 0px 1px 3px 1px rgba(0, 0, 0, 0.15);\n",
              "      filter: drop-shadow(0px 1px 2px rgba(0, 0, 0, 0.3));\n",
              "      fill: #FFFFFF;\n",
              "    }\n",
              "  </style>\n",
              "\n",
              "      <script>\n",
              "        const buttonEl =\n",
              "          document.querySelector('#df-7097a92e-939f-46a8-bb24-85eb880a62f0 button.colab-df-convert');\n",
              "        buttonEl.style.display =\n",
              "          google.colab.kernel.accessAllowed ? 'block' : 'none';\n",
              "\n",
              "        async function convertToInteractive(key) {\n",
              "          const element = document.querySelector('#df-7097a92e-939f-46a8-bb24-85eb880a62f0');\n",
              "          const dataTable =\n",
              "            await google.colab.kernel.invokeFunction('convertToInteractive',\n",
              "                                                     [key], {});\n",
              "          if (!dataTable) return;\n",
              "\n",
              "          const docLinkHtml = 'Like what you see? Visit the ' +\n",
              "            '<a target=\"_blank\" href=https://colab.research.google.com/notebooks/data_table.ipynb>data table notebook</a>'\n",
              "            + ' to learn more about interactive tables.';\n",
              "          element.innerHTML = '';\n",
              "          dataTable['output_type'] = 'display_data';\n",
              "          await google.colab.output.renderOutput(dataTable, element);\n",
              "          const docLink = document.createElement('div');\n",
              "          docLink.innerHTML = docLinkHtml;\n",
              "          element.appendChild(docLink);\n",
              "        }\n",
              "      </script>\n",
              "    </div>\n",
              "  </div>\n",
              "  "
            ]
          },
          "metadata": {},
          "execution_count": 10
        }
      ]
    },
    {
      "cell_type": "code",
      "source": [
        "df.shape"
      ],
      "metadata": {
        "id": "3yoafUYK3-DT",
        "colab": {
          "base_uri": "https://localhost:8080/"
        },
        "outputId": "0d50bc9f-f1ad-45d7-e876-77579d834446"
      },
      "execution_count": null,
      "outputs": [
        {
          "output_type": "execute_result",
          "data": {
            "text/plain": [
              "(2373, 26)"
            ]
          },
          "metadata": {},
          "execution_count": 11
        }
      ]
    },
    {
      "cell_type": "code",
      "source": [
        "df.to_excel(\"/content/drive/MyDrive/Colab Notebooks/reddit_IAA/plots_TNE/Polaris/PolarIs1-VaccRed_Emo-Ensmbl.xlsx\")"
      ],
      "metadata": {
        "id": "iHKu3dxa3-DT"
      },
      "execution_count": null,
      "outputs": []
    },
    {
      "cell_type": "markdown",
      "source": [
        "#Ensemble model - threshold applied"
      ],
      "metadata": {
        "id": "qEaSvpvc_3oJ"
      }
    },
    {
      "cell_type": "code",
      "source": [
        "path = \"/content/drive/MyDrive/Colab Notebooks/reddit_IAA/plots_TNE/Polaris/PolarIs2-VacRed_Emo-IMA.xlsx\""
      ],
      "metadata": {
        "id": "sU5EXqbkA7vO"
      },
      "execution_count": null,
      "outputs": []
    },
    {
      "cell_type": "code",
      "source": [
        "df_org = load_data(path)\n",
        "# \"/content/drive/MyDrive/Colab Notebooks/reddit_IAA/plots_TNE/Polaris/PolarIs2-VacRed_Emo-IMA.xlsx\"\n",
        "# \"/content/drive/MyDrive/Colab Notebooks/reddit_IAA/plots_TNE/Polaris/PolarIs-CChRed_Emo-IMA.xlsx\"\n",
        "# \"/content/drive/MyDrive/Colab Notebooks/reddit_IAA/plots_TNE/Polaris/PolarIs-CChTw_Emo-IMA.xlsx\"\n",
        "# \"/content/drive/MyDrive/Colab Notebooks/reddit_IAA/plots_TNE/Polaris/PolarIs1-VaccRed_Emo-Ensmbl.xlsx\"\n",
        "print(df_org.shape)\n",
        "df_org.head(2)"
      ],
      "metadata": {
        "colab": {
          "base_uri": "https://localhost:8080/",
          "height": 488
        },
        "id": "Sl5i2hreAAVF",
        "outputId": "59cd0d99-802e-4a3b-c93e-e26ba942d4e6"
      },
      "execution_count": null,
      "outputs": [
        {
          "output_type": "stream",
          "name": "stdout",
          "text": [
            "(3641, 32)\n"
          ]
        },
        {
          "output_type": "execute_result",
          "data": {
            "text/plain": [
              "     index  full_text_id  conversation_id     source  \\\n",
              "0.0    0.0           0.0     1.559359e+18  marsons80   \n",
              "1.0    1.0           1.0     1.559359e+18  marsons80   \n",
              "\n",
              "                                                                                                                               full_text  \\\n",
              "0.0                                                       @ThePurrrple @MAGAThassell @The_VerminatorD @MattHopkins_au Its not a vaccine.   \n",
              "1.0  @ThePurrrple @MAGAThassell @The_VerminatorD @MattHopkins_au Oh and make sure to keep on taking them boosters, can never be to safe.   \n",
              "\n",
              "                                                                    sentence  \\\n",
              "0.0                                                       Its not a vaccine.   \n",
              "1.0  Oh and make sure to keep on taking them boosters, can never be to safe.   \n",
              "\n",
              "    EMO_suvrobaner/distilbert-base-uncased-finetuned-emotion-en-tweets  \\\n",
              "0.0                                                               fear   \n",
              "1.0                                                                joy   \n",
              "\n",
              "     CF_suvrobaner/distilbert-base-uncased-finetuned-emotion-en-tweets  \\\n",
              "0.0                                                           0.811617   \n",
              "1.0                                                           0.988130   \n",
              "\n",
              "    EMO_stevevee0101/distilbert-base-uncased-finetuned-emotion  \\\n",
              "0.0                                                    LABEL_4   \n",
              "1.0                                                    LABEL_1   \n",
              "\n",
              "     CF_stevevee0101/distilbert-base-uncased-finetuned-emotion  \\\n",
              "0.0                                                   0.525668   \n",
              "1.0                                                   0.986144   \n",
              "\n",
              "    EMO_bhadresh-savani/albert-base-v2-emotion  \\\n",
              "0.0                                      anger   \n",
              "1.0                                        joy   \n",
              "\n",
              "     CF_bhadresh-savani/albert-base-v2-emotion  \\\n",
              "0.0                                   0.617615   \n",
              "1.0                                   0.989787   \n",
              "\n",
              "    EMO_michauhl/distilbert-base-uncased-finetuned-emotion  \\\n",
              "0.0                                                  anger   \n",
              "1.0                                                    joy   \n",
              "\n",
              "     CF_michauhl/distilbert-base-uncased-finetuned-emotion  \\\n",
              "0.0                                               0.401311   \n",
              "1.0                                               0.999405   \n",
              "\n",
              "    EMO_Zia/distilbert-base-uncased-finetuned-emotion  \\\n",
              "0.0                                           LABEL_4   \n",
              "1.0                                           LABEL_1   \n",
              "\n",
              "     CF_Zia/distilbert-base-uncased-finetuned-emotion  \\\n",
              "0.0                                          0.901119   \n",
              "1.0                                          0.989185   \n",
              "\n",
              "    EMO_jkhan447/sentiment-model-sample-5-emotion  \\\n",
              "0.0                                       LABEL_3   \n",
              "1.0                                       LABEL_1   \n",
              "\n",
              "     CF_jkhan447/sentiment-model-sample-5-emotion  \\\n",
              "0.0                                      0.983357   \n",
              "1.0                                      0.999891   \n",
              "\n",
              "    EMO_bhadresh-savani/distilbert-base-uncased-emotion  \\\n",
              "0.0                                               anger   \n",
              "1.0                                                 joy   \n",
              "\n",
              "     CF_bhadresh-savani/distilbert-base-uncased-emotion  \\\n",
              "0.0                                            0.733883   \n",
              "1.0                                            0.997552   \n",
              "\n",
              "    EMO_bhadresh-savani/distilbert-base-uncased-finetuned-emotion  \\\n",
              "0.0                                                         anger   \n",
              "1.0                                                           joy   \n",
              "\n",
              "     CF_bhadresh-savani/distilbert-base-uncased-finetuned-emotion  \\\n",
              "0.0                                                      0.681173   \n",
              "1.0                                                      0.996328   \n",
              "\n",
              "    EMO_Emanuel/bertweet-emotion-base  CF_Emanuel/bertweet-emotion-base  \\\n",
              "0.0                               joy                          0.441959   \n",
              "1.0                               joy                          0.638236   \n",
              "\n",
              "    EMO_Emanuel/twitter-emotion-deberta-v3-base  \\\n",
              "0.0                                         joy   \n",
              "1.0                                         joy   \n",
              "\n",
              "     CF_Emanuel/twitter-emotion-deberta-v3-base  \\\n",
              "0.0                                    0.391673   \n",
              "1.0                                    0.981926   \n",
              "\n",
              "    EMO_j-hartmann/emotion-english-distilroberta-base  \\\n",
              "0.0                                           neutral   \n",
              "1.0                                           neutral   \n",
              "\n",
              "     CF_j-hartmann/emotion-english-distilroberta-base  \\\n",
              "0.0                                          0.890355   \n",
              "1.0                                          0.663714   \n",
              "\n",
              "                                                                  clean_Text  \\\n",
              "0.0                                                       its not a vaccine.   \n",
              "1.0  oh and make sure to keep on taking them boosters, can never be to safe.   \n",
              "\n",
              "    label_ensemble  cf_ensemble label_ensemble2  \n",
              "0.0          anger         0.50           EMPTY  \n",
              "1.0            joy         0.88             joy  "
            ],
            "text/html": [
              "\n",
              "  <div id=\"df-a4a74785-6b34-40ea-b827-8e3a8a190015\">\n",
              "    <div class=\"colab-df-container\">\n",
              "      <div>\n",
              "<style scoped>\n",
              "    .dataframe tbody tr th:only-of-type {\n",
              "        vertical-align: middle;\n",
              "    }\n",
              "\n",
              "    .dataframe tbody tr th {\n",
              "        vertical-align: top;\n",
              "    }\n",
              "\n",
              "    .dataframe thead th {\n",
              "        text-align: right;\n",
              "    }\n",
              "</style>\n",
              "<table border=\"1\" class=\"dataframe\">\n",
              "  <thead>\n",
              "    <tr style=\"text-align: right;\">\n",
              "      <th></th>\n",
              "      <th>index</th>\n",
              "      <th>full_text_id</th>\n",
              "      <th>conversation_id</th>\n",
              "      <th>source</th>\n",
              "      <th>full_text</th>\n",
              "      <th>sentence</th>\n",
              "      <th>EMO_suvrobaner/distilbert-base-uncased-finetuned-emotion-en-tweets</th>\n",
              "      <th>CF_suvrobaner/distilbert-base-uncased-finetuned-emotion-en-tweets</th>\n",
              "      <th>EMO_stevevee0101/distilbert-base-uncased-finetuned-emotion</th>\n",
              "      <th>CF_stevevee0101/distilbert-base-uncased-finetuned-emotion</th>\n",
              "      <th>EMO_bhadresh-savani/albert-base-v2-emotion</th>\n",
              "      <th>CF_bhadresh-savani/albert-base-v2-emotion</th>\n",
              "      <th>EMO_michauhl/distilbert-base-uncased-finetuned-emotion</th>\n",
              "      <th>CF_michauhl/distilbert-base-uncased-finetuned-emotion</th>\n",
              "      <th>EMO_Zia/distilbert-base-uncased-finetuned-emotion</th>\n",
              "      <th>CF_Zia/distilbert-base-uncased-finetuned-emotion</th>\n",
              "      <th>EMO_jkhan447/sentiment-model-sample-5-emotion</th>\n",
              "      <th>CF_jkhan447/sentiment-model-sample-5-emotion</th>\n",
              "      <th>EMO_bhadresh-savani/distilbert-base-uncased-emotion</th>\n",
              "      <th>CF_bhadresh-savani/distilbert-base-uncased-emotion</th>\n",
              "      <th>EMO_bhadresh-savani/distilbert-base-uncased-finetuned-emotion</th>\n",
              "      <th>CF_bhadresh-savani/distilbert-base-uncased-finetuned-emotion</th>\n",
              "      <th>EMO_Emanuel/bertweet-emotion-base</th>\n",
              "      <th>CF_Emanuel/bertweet-emotion-base</th>\n",
              "      <th>EMO_Emanuel/twitter-emotion-deberta-v3-base</th>\n",
              "      <th>CF_Emanuel/twitter-emotion-deberta-v3-base</th>\n",
              "      <th>EMO_j-hartmann/emotion-english-distilroberta-base</th>\n",
              "      <th>CF_j-hartmann/emotion-english-distilroberta-base</th>\n",
              "      <th>clean_Text</th>\n",
              "      <th>label_ensemble</th>\n",
              "      <th>cf_ensemble</th>\n",
              "      <th>label_ensemble2</th>\n",
              "    </tr>\n",
              "  </thead>\n",
              "  <tbody>\n",
              "    <tr>\n",
              "      <th>0.0</th>\n",
              "      <td>0.0</td>\n",
              "      <td>0.0</td>\n",
              "      <td>1.559359e+18</td>\n",
              "      <td>marsons80</td>\n",
              "      <td>@ThePurrrple @MAGAThassell @The_VerminatorD @MattHopkins_au Its not a vaccine.</td>\n",
              "      <td>Its not a vaccine.</td>\n",
              "      <td>fear</td>\n",
              "      <td>0.811617</td>\n",
              "      <td>LABEL_4</td>\n",
              "      <td>0.525668</td>\n",
              "      <td>anger</td>\n",
              "      <td>0.617615</td>\n",
              "      <td>anger</td>\n",
              "      <td>0.401311</td>\n",
              "      <td>LABEL_4</td>\n",
              "      <td>0.901119</td>\n",
              "      <td>LABEL_3</td>\n",
              "      <td>0.983357</td>\n",
              "      <td>anger</td>\n",
              "      <td>0.733883</td>\n",
              "      <td>anger</td>\n",
              "      <td>0.681173</td>\n",
              "      <td>joy</td>\n",
              "      <td>0.441959</td>\n",
              "      <td>joy</td>\n",
              "      <td>0.391673</td>\n",
              "      <td>neutral</td>\n",
              "      <td>0.890355</td>\n",
              "      <td>its not a vaccine.</td>\n",
              "      <td>anger</td>\n",
              "      <td>0.50</td>\n",
              "      <td>EMPTY</td>\n",
              "    </tr>\n",
              "    <tr>\n",
              "      <th>1.0</th>\n",
              "      <td>1.0</td>\n",
              "      <td>1.0</td>\n",
              "      <td>1.559359e+18</td>\n",
              "      <td>marsons80</td>\n",
              "      <td>@ThePurrrple @MAGAThassell @The_VerminatorD @MattHopkins_au Oh and make sure to keep on taking them boosters, can never be to safe.</td>\n",
              "      <td>Oh and make sure to keep on taking them boosters, can never be to safe.</td>\n",
              "      <td>joy</td>\n",
              "      <td>0.988130</td>\n",
              "      <td>LABEL_1</td>\n",
              "      <td>0.986144</td>\n",
              "      <td>joy</td>\n",
              "      <td>0.989787</td>\n",
              "      <td>joy</td>\n",
              "      <td>0.999405</td>\n",
              "      <td>LABEL_1</td>\n",
              "      <td>0.989185</td>\n",
              "      <td>LABEL_1</td>\n",
              "      <td>0.999891</td>\n",
              "      <td>joy</td>\n",
              "      <td>0.997552</td>\n",
              "      <td>joy</td>\n",
              "      <td>0.996328</td>\n",
              "      <td>joy</td>\n",
              "      <td>0.638236</td>\n",
              "      <td>joy</td>\n",
              "      <td>0.981926</td>\n",
              "      <td>neutral</td>\n",
              "      <td>0.663714</td>\n",
              "      <td>oh and make sure to keep on taking them boosters, can never be to safe.</td>\n",
              "      <td>joy</td>\n",
              "      <td>0.88</td>\n",
              "      <td>joy</td>\n",
              "    </tr>\n",
              "  </tbody>\n",
              "</table>\n",
              "</div>\n",
              "      <button class=\"colab-df-convert\" onclick=\"convertToInteractive('df-a4a74785-6b34-40ea-b827-8e3a8a190015')\"\n",
              "              title=\"Convert this dataframe to an interactive table.\"\n",
              "              style=\"display:none;\">\n",
              "        \n",
              "  <svg xmlns=\"http://www.w3.org/2000/svg\" height=\"24px\"viewBox=\"0 0 24 24\"\n",
              "       width=\"24px\">\n",
              "    <path d=\"M0 0h24v24H0V0z\" fill=\"none\"/>\n",
              "    <path d=\"M18.56 5.44l.94 2.06.94-2.06 2.06-.94-2.06-.94-.94-2.06-.94 2.06-2.06.94zm-11 1L8.5 8.5l.94-2.06 2.06-.94-2.06-.94L8.5 2.5l-.94 2.06-2.06.94zm10 10l.94 2.06.94-2.06 2.06-.94-2.06-.94-.94-2.06-.94 2.06-2.06.94z\"/><path d=\"M17.41 7.96l-1.37-1.37c-.4-.4-.92-.59-1.43-.59-.52 0-1.04.2-1.43.59L10.3 9.45l-7.72 7.72c-.78.78-.78 2.05 0 2.83L4 21.41c.39.39.9.59 1.41.59.51 0 1.02-.2 1.41-.59l7.78-7.78 2.81-2.81c.8-.78.8-2.07 0-2.86zM5.41 20L4 18.59l7.72-7.72 1.47 1.35L5.41 20z\"/>\n",
              "  </svg>\n",
              "      </button>\n",
              "      \n",
              "  <style>\n",
              "    .colab-df-container {\n",
              "      display:flex;\n",
              "      flex-wrap:wrap;\n",
              "      gap: 12px;\n",
              "    }\n",
              "\n",
              "    .colab-df-convert {\n",
              "      background-color: #E8F0FE;\n",
              "      border: none;\n",
              "      border-radius: 50%;\n",
              "      cursor: pointer;\n",
              "      display: none;\n",
              "      fill: #1967D2;\n",
              "      height: 32px;\n",
              "      padding: 0 0 0 0;\n",
              "      width: 32px;\n",
              "    }\n",
              "\n",
              "    .colab-df-convert:hover {\n",
              "      background-color: #E2EBFA;\n",
              "      box-shadow: 0px 1px 2px rgba(60, 64, 67, 0.3), 0px 1px 3px 1px rgba(60, 64, 67, 0.15);\n",
              "      fill: #174EA6;\n",
              "    }\n",
              "\n",
              "    [theme=dark] .colab-df-convert {\n",
              "      background-color: #3B4455;\n",
              "      fill: #D2E3FC;\n",
              "    }\n",
              "\n",
              "    [theme=dark] .colab-df-convert:hover {\n",
              "      background-color: #434B5C;\n",
              "      box-shadow: 0px 1px 3px 1px rgba(0, 0, 0, 0.15);\n",
              "      filter: drop-shadow(0px 1px 2px rgba(0, 0, 0, 0.3));\n",
              "      fill: #FFFFFF;\n",
              "    }\n",
              "  </style>\n",
              "\n",
              "      <script>\n",
              "        const buttonEl =\n",
              "          document.querySelector('#df-a4a74785-6b34-40ea-b827-8e3a8a190015 button.colab-df-convert');\n",
              "        buttonEl.style.display =\n",
              "          google.colab.kernel.accessAllowed ? 'block' : 'none';\n",
              "\n",
              "        async function convertToInteractive(key) {\n",
              "          const element = document.querySelector('#df-a4a74785-6b34-40ea-b827-8e3a8a190015');\n",
              "          const dataTable =\n",
              "            await google.colab.kernel.invokeFunction('convertToInteractive',\n",
              "                                                     [key], {});\n",
              "          if (!dataTable) return;\n",
              "\n",
              "          const docLinkHtml = 'Like what you see? Visit the ' +\n",
              "            '<a target=\"_blank\" href=https://colab.research.google.com/notebooks/data_table.ipynb>data table notebook</a>'\n",
              "            + ' to learn more about interactive tables.';\n",
              "          element.innerHTML = '';\n",
              "          dataTable['output_type'] = 'display_data';\n",
              "          await google.colab.output.renderOutput(dataTable, element);\n",
              "          const docLink = document.createElement('div');\n",
              "          docLink.innerHTML = docLinkHtml;\n",
              "          element.appendChild(docLink);\n",
              "        }\n",
              "      </script>\n",
              "    </div>\n",
              "  </div>\n",
              "  "
            ]
          },
          "metadata": {},
          "execution_count": 116
        }
      ]
    },
    {
      "cell_type": "markdown",
      "source": [
        "##calculate label"
      ],
      "metadata": {
        "id": "-XVeX_HtBNHt"
      }
    },
    {
      "cell_type": "code",
      "source": [
        "#df_org = df_org.reset_index()\n",
        "df = df_org.copy()"
      ],
      "metadata": {
        "id": "aFZfjpIA9zHb"
      },
      "execution_count": null,
      "outputs": []
    },
    {
      "cell_type": "code",
      "source": [
        "mdls = list(df.filter(regex='EMO_').columns)\n",
        "mdls"
      ],
      "metadata": {
        "id": "doKpfsai_3oJ",
        "colab": {
          "base_uri": "https://localhost:8080/"
        },
        "outputId": "e4a83e9c-7312-4444-edad-efd22fc366b7"
      },
      "execution_count": null,
      "outputs": [
        {
          "output_type": "execute_result",
          "data": {
            "text/plain": [
              "['EMO_suvrobaner/distilbert-base-uncased-finetuned-emotion-en-tweets',\n",
              " 'EMO_stevevee0101/distilbert-base-uncased-finetuned-emotion',\n",
              " 'EMO_bhadresh-savani/albert-base-v2-emotion',\n",
              " 'EMO_michauhl/distilbert-base-uncased-finetuned-emotion',\n",
              " 'EMO_Zia/distilbert-base-uncased-finetuned-emotion',\n",
              " 'EMO_jkhan447/sentiment-model-sample-5-emotion',\n",
              " 'EMO_bhadresh-savani/distilbert-base-uncased-emotion',\n",
              " 'EMO_bhadresh-savani/distilbert-base-uncased-finetuned-emotion',\n",
              " 'EMO_Emanuel/bertweet-emotion-base',\n",
              " 'EMO_Emanuel/twitter-emotion-deberta-v3-base',\n",
              " 'EMO_j-hartmann/emotion-english-distilroberta-base']"
            ]
          },
          "metadata": {},
          "execution_count": 118
        }
      ]
    },
    {
      "cell_type": "code",
      "source": [
        "len(mdls)"
      ],
      "metadata": {
        "colab": {
          "base_uri": "https://localhost:8080/"
        },
        "id": "6aetjxW6-roQ",
        "outputId": "9117ea74-0f19-4116-99c6-e30782855dd8"
      },
      "execution_count": null,
      "outputs": [
        {
          "output_type": "execute_result",
          "data": {
            "text/plain": [
              "11"
            ]
          },
          "metadata": {},
          "execution_count": 119
        }
      ]
    },
    {
      "cell_type": "code",
      "source": [
        "mdls2 = []\n",
        "for m in mdls:\n",
        "  print(m)\n",
        "  #print(df[m].unique(), '\\n')\n",
        "  if not 'LABEL_0' in df[m].unique():\n",
        "    mdls2.append(m)\n",
        "mdls2"
      ],
      "metadata": {
        "colab": {
          "base_uri": "https://localhost:8080/"
        },
        "id": "86iUokYU-xCw",
        "outputId": "5d07b5c0-cd74-4884-e061-c7acfca3a50f"
      },
      "execution_count": null,
      "outputs": [
        {
          "output_type": "stream",
          "name": "stdout",
          "text": [
            "EMO_suvrobaner/distilbert-base-uncased-finetuned-emotion-en-tweets\n",
            "EMO_stevevee0101/distilbert-base-uncased-finetuned-emotion\n",
            "EMO_bhadresh-savani/albert-base-v2-emotion\n",
            "EMO_michauhl/distilbert-base-uncased-finetuned-emotion\n",
            "EMO_Zia/distilbert-base-uncased-finetuned-emotion\n",
            "EMO_jkhan447/sentiment-model-sample-5-emotion\n",
            "EMO_bhadresh-savani/distilbert-base-uncased-emotion\n",
            "EMO_bhadresh-savani/distilbert-base-uncased-finetuned-emotion\n",
            "EMO_Emanuel/bertweet-emotion-base\n",
            "EMO_Emanuel/twitter-emotion-deberta-v3-base\n",
            "EMO_j-hartmann/emotion-english-distilroberta-base\n"
          ]
        },
        {
          "output_type": "execute_result",
          "data": {
            "text/plain": [
              "['EMO_suvrobaner/distilbert-base-uncased-finetuned-emotion-en-tweets',\n",
              " 'EMO_bhadresh-savani/albert-base-v2-emotion',\n",
              " 'EMO_michauhl/distilbert-base-uncased-finetuned-emotion',\n",
              " 'EMO_bhadresh-savani/distilbert-base-uncased-emotion',\n",
              " 'EMO_bhadresh-savani/distilbert-base-uncased-finetuned-emotion',\n",
              " 'EMO_Emanuel/bertweet-emotion-base',\n",
              " 'EMO_Emanuel/twitter-emotion-deberta-v3-base',\n",
              " 'EMO_j-hartmann/emotion-english-distilroberta-base']"
            ]
          },
          "metadata": {},
          "execution_count": 120
        }
      ]
    },
    {
      "cell_type": "code",
      "source": [
        "mdls = mdls2\n",
        "len(mdls)"
      ],
      "metadata": {
        "colab": {
          "base_uri": "https://localhost:8080/"
        },
        "id": "ppcaag2n-1Ca",
        "outputId": "84b9172e-ca0e-4a4c-97e8-28e80640372d"
      },
      "execution_count": null,
      "outputs": [
        {
          "output_type": "execute_result",
          "data": {
            "text/plain": [
              "8"
            ]
          },
          "metadata": {},
          "execution_count": 121
        }
      ]
    },
    {
      "cell_type": "code",
      "source": [
        "cfs = [str(c).replace('EMO_', 'CF_') for c in mdls]\n",
        "cfs"
      ],
      "metadata": {
        "colab": {
          "base_uri": "https://localhost:8080/"
        },
        "id": "29TB7A9SL4kl",
        "outputId": "aa1b8ef8-d176-4d25-8d74-f19ffb9ac573"
      },
      "execution_count": null,
      "outputs": [
        {
          "output_type": "execute_result",
          "data": {
            "text/plain": [
              "['CF_suvrobaner/distilbert-base-uncased-finetuned-emotion-en-tweets',\n",
              " 'CF_bhadresh-savani/albert-base-v2-emotion',\n",
              " 'CF_michauhl/distilbert-base-uncased-finetuned-emotion',\n",
              " 'CF_bhadresh-savani/distilbert-base-uncased-emotion',\n",
              " 'CF_bhadresh-savani/distilbert-base-uncased-finetuned-emotion',\n",
              " 'CF_Emanuel/bertweet-emotion-base',\n",
              " 'CF_Emanuel/twitter-emotion-deberta-v3-base',\n",
              " 'CF_j-hartmann/emotion-english-distilroberta-base']"
            ]
          },
          "metadata": {},
          "execution_count": 122
        }
      ]
    },
    {
      "cell_type": "code",
      "source": [
        "df.tail(3)"
      ],
      "metadata": {
        "colab": {
          "base_uri": "https://localhost:8080/",
          "height": 1000
        },
        "id": "LEuAn4I-M0PM",
        "outputId": "50f06d21-bb7b-4a3f-9811-383de20b70f3"
      },
      "execution_count": null,
      "outputs": [
        {
          "output_type": "execute_result",
          "data": {
            "text/plain": [
              "         index  full_text_id  conversation_id         source  \\\n",
              "3638.0  3638.0        1590.0     1.562223e+18  fucklongcovid   \n",
              "3639.0  3639.0        1590.0     1.562223e+18  fucklongcovid   \n",
              "3640.0  3640.0        1590.0     1.562223e+18  fucklongcovid   \n",
              "\n",
              "                                                                                                                                                                                                      full_text  \\\n",
              "3638.0  @narstyfakker oh, i meant exactly what you're describing.. going to hospital / urgent care / drugstore full of sick people. not work the additional risk imho but some people need to know if they'r...   \n",
              "3639.0  @narstyfakker oh, i meant exactly what you're describing.. going to hospital / urgent care / drugstore full of sick people. not work the additional risk imho but some people need to know if they'r...   \n",
              "3640.0  @narstyfakker oh, i meant exactly what you're describing.. going to hospital / urgent care / drugstore full of sick people. not work the additional risk imho but some people need to know if they'r...   \n",
              "\n",
              "                                                                                                                         sentence  \\\n",
              "3638.0                                                           oh, i meant exactly what you're describing.. going to hospital /   \n",
              "3639.0                                                                               urgent care / drugstore full of sick people.   \n",
              "3640.0  not work the additional risk imho but some people need to know if they're positive so they can inform their employer, etc   \n",
              "\n",
              "       EMO_suvrobaner/distilbert-base-uncased-finetuned-emotion-en-tweets  \\\n",
              "3638.0                                                              anger   \n",
              "3639.0                                                               fear   \n",
              "3640.0                                                                joy   \n",
              "\n",
              "        CF_suvrobaner/distilbert-base-uncased-finetuned-emotion-en-tweets  \\\n",
              "3638.0                                                           0.254268   \n",
              "3639.0                                                           0.774418   \n",
              "3640.0                                                           0.992235   \n",
              "\n",
              "       EMO_stevevee0101/distilbert-base-uncased-finetuned-emotion  \\\n",
              "3638.0                                                    LABEL_3   \n",
              "3639.0                                                    LABEL_3   \n",
              "3640.0                                                    LABEL_1   \n",
              "\n",
              "        CF_stevevee0101/distilbert-base-uncased-finetuned-emotion  \\\n",
              "3638.0                                                   0.398750   \n",
              "3639.0                                                   0.497917   \n",
              "3640.0                                                   0.992871   \n",
              "\n",
              "       EMO_bhadresh-savani/albert-base-v2-emotion  \\\n",
              "3638.0                                      anger   \n",
              "3639.0                                      anger   \n",
              "3640.0                                        joy   \n",
              "\n",
              "        CF_bhadresh-savani/albert-base-v2-emotion  \\\n",
              "3638.0                                   0.533023   \n",
              "3639.0                                   0.759238   \n",
              "3640.0                                   0.991676   \n",
              "\n",
              "       EMO_michauhl/distilbert-base-uncased-finetuned-emotion  \\\n",
              "3638.0                                                    joy   \n",
              "3639.0                                                   fear   \n",
              "3640.0                                                    joy   \n",
              "\n",
              "        CF_michauhl/distilbert-base-uncased-finetuned-emotion  \\\n",
              "3638.0                                               0.462682   \n",
              "3639.0                                               0.696654   \n",
              "3640.0                                               0.999409   \n",
              "\n",
              "       EMO_Zia/distilbert-base-uncased-finetuned-emotion  \\\n",
              "3638.0                                           LABEL_4   \n",
              "3639.0                                           LABEL_4   \n",
              "3640.0                                           LABEL_1   \n",
              "\n",
              "        CF_Zia/distilbert-base-uncased-finetuned-emotion  \\\n",
              "3638.0                                          0.413208   \n",
              "3639.0                                          0.977165   \n",
              "3640.0                                          0.997578   \n",
              "\n",
              "       EMO_jkhan447/sentiment-model-sample-5-emotion  \\\n",
              "3638.0                                       LABEL_3   \n",
              "3639.0                                       LABEL_4   \n",
              "3640.0                                       LABEL_1   \n",
              "\n",
              "        CF_jkhan447/sentiment-model-sample-5-emotion  \\\n",
              "3638.0                                      0.965538   \n",
              "3639.0                                      0.546234   \n",
              "3640.0                                      0.999919   \n",
              "\n",
              "       EMO_bhadresh-savani/distilbert-base-uncased-emotion  \\\n",
              "3638.0                                                 joy   \n",
              "3639.0                                                fear   \n",
              "3640.0                                                 joy   \n",
              "\n",
              "        CF_bhadresh-savani/distilbert-base-uncased-emotion  \\\n",
              "3638.0                                            0.495366   \n",
              "3639.0                                            0.947293   \n",
              "3640.0                                            0.997865   \n",
              "\n",
              "       EMO_bhadresh-savani/distilbert-base-uncased-finetuned-emotion  \\\n",
              "3638.0                                                           joy   \n",
              "3639.0                                                          fear   \n",
              "3640.0                                                           joy   \n",
              "\n",
              "        CF_bhadresh-savani/distilbert-base-uncased-finetuned-emotion  \\\n",
              "3638.0                                                      0.377448   \n",
              "3639.0                                                      0.883537   \n",
              "3640.0                                                      0.986842   \n",
              "\n",
              "       EMO_Emanuel/bertweet-emotion-base  CF_Emanuel/bertweet-emotion-base  \\\n",
              "3638.0                           sadness                          0.556666   \n",
              "3639.0                              fear                          0.547622   \n",
              "3640.0                               joy                          0.991602   \n",
              "\n",
              "       EMO_Emanuel/twitter-emotion-deberta-v3-base  \\\n",
              "3638.0                                         joy   \n",
              "3639.0                                        fear   \n",
              "3640.0                                         joy   \n",
              "\n",
              "        CF_Emanuel/twitter-emotion-deberta-v3-base  \\\n",
              "3638.0                                    0.743066   \n",
              "3639.0                                    0.536578   \n",
              "3640.0                                    0.986612   \n",
              "\n",
              "       EMO_j-hartmann/emotion-english-distilroberta-base  \\\n",
              "3638.0                                          surprise   \n",
              "3639.0                                           disgust   \n",
              "3640.0                                           neutral   \n",
              "\n",
              "        CF_j-hartmann/emotion-english-distilroberta-base  \\\n",
              "3638.0                                          0.862832   \n",
              "3639.0                                          0.595976   \n",
              "3640.0                                          0.881734   \n",
              "\n",
              "                                                                                                                       clean_Text  \\\n",
              "3638.0                                                           oh, i meant exactly what you're describing.. going to hospital /   \n",
              "3639.0                                                                               urgent care / drugstore full of sick people.   \n",
              "3640.0  not work the additional risk imho but some people need to know if they're positive so they can inform their employer, etc   \n",
              "\n",
              "       label_ensemble  cf_ensemble label_ensemble2  \n",
              "3638.0            joy         0.50           EMPTY  \n",
              "3639.0           fear         0.75            fear  \n",
              "3640.0            joy         0.88             joy  "
            ],
            "text/html": [
              "\n",
              "  <div id=\"df-1db54db6-7a5b-4d2d-83a2-14213092b983\">\n",
              "    <div class=\"colab-df-container\">\n",
              "      <div>\n",
              "<style scoped>\n",
              "    .dataframe tbody tr th:only-of-type {\n",
              "        vertical-align: middle;\n",
              "    }\n",
              "\n",
              "    .dataframe tbody tr th {\n",
              "        vertical-align: top;\n",
              "    }\n",
              "\n",
              "    .dataframe thead th {\n",
              "        text-align: right;\n",
              "    }\n",
              "</style>\n",
              "<table border=\"1\" class=\"dataframe\">\n",
              "  <thead>\n",
              "    <tr style=\"text-align: right;\">\n",
              "      <th></th>\n",
              "      <th>index</th>\n",
              "      <th>full_text_id</th>\n",
              "      <th>conversation_id</th>\n",
              "      <th>source</th>\n",
              "      <th>full_text</th>\n",
              "      <th>sentence</th>\n",
              "      <th>EMO_suvrobaner/distilbert-base-uncased-finetuned-emotion-en-tweets</th>\n",
              "      <th>CF_suvrobaner/distilbert-base-uncased-finetuned-emotion-en-tweets</th>\n",
              "      <th>EMO_stevevee0101/distilbert-base-uncased-finetuned-emotion</th>\n",
              "      <th>CF_stevevee0101/distilbert-base-uncased-finetuned-emotion</th>\n",
              "      <th>EMO_bhadresh-savani/albert-base-v2-emotion</th>\n",
              "      <th>CF_bhadresh-savani/albert-base-v2-emotion</th>\n",
              "      <th>EMO_michauhl/distilbert-base-uncased-finetuned-emotion</th>\n",
              "      <th>CF_michauhl/distilbert-base-uncased-finetuned-emotion</th>\n",
              "      <th>EMO_Zia/distilbert-base-uncased-finetuned-emotion</th>\n",
              "      <th>CF_Zia/distilbert-base-uncased-finetuned-emotion</th>\n",
              "      <th>EMO_jkhan447/sentiment-model-sample-5-emotion</th>\n",
              "      <th>CF_jkhan447/sentiment-model-sample-5-emotion</th>\n",
              "      <th>EMO_bhadresh-savani/distilbert-base-uncased-emotion</th>\n",
              "      <th>CF_bhadresh-savani/distilbert-base-uncased-emotion</th>\n",
              "      <th>EMO_bhadresh-savani/distilbert-base-uncased-finetuned-emotion</th>\n",
              "      <th>CF_bhadresh-savani/distilbert-base-uncased-finetuned-emotion</th>\n",
              "      <th>EMO_Emanuel/bertweet-emotion-base</th>\n",
              "      <th>CF_Emanuel/bertweet-emotion-base</th>\n",
              "      <th>EMO_Emanuel/twitter-emotion-deberta-v3-base</th>\n",
              "      <th>CF_Emanuel/twitter-emotion-deberta-v3-base</th>\n",
              "      <th>EMO_j-hartmann/emotion-english-distilroberta-base</th>\n",
              "      <th>CF_j-hartmann/emotion-english-distilroberta-base</th>\n",
              "      <th>clean_Text</th>\n",
              "      <th>label_ensemble</th>\n",
              "      <th>cf_ensemble</th>\n",
              "      <th>label_ensemble2</th>\n",
              "    </tr>\n",
              "  </thead>\n",
              "  <tbody>\n",
              "    <tr>\n",
              "      <th>3638.0</th>\n",
              "      <td>3638.0</td>\n",
              "      <td>1590.0</td>\n",
              "      <td>1.562223e+18</td>\n",
              "      <td>fucklongcovid</td>\n",
              "      <td>@narstyfakker oh, i meant exactly what you're describing.. going to hospital / urgent care / drugstore full of sick people. not work the additional risk imho but some people need to know if they'r...</td>\n",
              "      <td>oh, i meant exactly what you're describing.. going to hospital /</td>\n",
              "      <td>anger</td>\n",
              "      <td>0.254268</td>\n",
              "      <td>LABEL_3</td>\n",
              "      <td>0.398750</td>\n",
              "      <td>anger</td>\n",
              "      <td>0.533023</td>\n",
              "      <td>joy</td>\n",
              "      <td>0.462682</td>\n",
              "      <td>LABEL_4</td>\n",
              "      <td>0.413208</td>\n",
              "      <td>LABEL_3</td>\n",
              "      <td>0.965538</td>\n",
              "      <td>joy</td>\n",
              "      <td>0.495366</td>\n",
              "      <td>joy</td>\n",
              "      <td>0.377448</td>\n",
              "      <td>sadness</td>\n",
              "      <td>0.556666</td>\n",
              "      <td>joy</td>\n",
              "      <td>0.743066</td>\n",
              "      <td>surprise</td>\n",
              "      <td>0.862832</td>\n",
              "      <td>oh, i meant exactly what you're describing.. going to hospital /</td>\n",
              "      <td>joy</td>\n",
              "      <td>0.50</td>\n",
              "      <td>EMPTY</td>\n",
              "    </tr>\n",
              "    <tr>\n",
              "      <th>3639.0</th>\n",
              "      <td>3639.0</td>\n",
              "      <td>1590.0</td>\n",
              "      <td>1.562223e+18</td>\n",
              "      <td>fucklongcovid</td>\n",
              "      <td>@narstyfakker oh, i meant exactly what you're describing.. going to hospital / urgent care / drugstore full of sick people. not work the additional risk imho but some people need to know if they'r...</td>\n",
              "      <td>urgent care / drugstore full of sick people.</td>\n",
              "      <td>fear</td>\n",
              "      <td>0.774418</td>\n",
              "      <td>LABEL_3</td>\n",
              "      <td>0.497917</td>\n",
              "      <td>anger</td>\n",
              "      <td>0.759238</td>\n",
              "      <td>fear</td>\n",
              "      <td>0.696654</td>\n",
              "      <td>LABEL_4</td>\n",
              "      <td>0.977165</td>\n",
              "      <td>LABEL_4</td>\n",
              "      <td>0.546234</td>\n",
              "      <td>fear</td>\n",
              "      <td>0.947293</td>\n",
              "      <td>fear</td>\n",
              "      <td>0.883537</td>\n",
              "      <td>fear</td>\n",
              "      <td>0.547622</td>\n",
              "      <td>fear</td>\n",
              "      <td>0.536578</td>\n",
              "      <td>disgust</td>\n",
              "      <td>0.595976</td>\n",
              "      <td>urgent care / drugstore full of sick people.</td>\n",
              "      <td>fear</td>\n",
              "      <td>0.75</td>\n",
              "      <td>fear</td>\n",
              "    </tr>\n",
              "    <tr>\n",
              "      <th>3640.0</th>\n",
              "      <td>3640.0</td>\n",
              "      <td>1590.0</td>\n",
              "      <td>1.562223e+18</td>\n",
              "      <td>fucklongcovid</td>\n",
              "      <td>@narstyfakker oh, i meant exactly what you're describing.. going to hospital / urgent care / drugstore full of sick people. not work the additional risk imho but some people need to know if they'r...</td>\n",
              "      <td>not work the additional risk imho but some people need to know if they're positive so they can inform their employer, etc</td>\n",
              "      <td>joy</td>\n",
              "      <td>0.992235</td>\n",
              "      <td>LABEL_1</td>\n",
              "      <td>0.992871</td>\n",
              "      <td>joy</td>\n",
              "      <td>0.991676</td>\n",
              "      <td>joy</td>\n",
              "      <td>0.999409</td>\n",
              "      <td>LABEL_1</td>\n",
              "      <td>0.997578</td>\n",
              "      <td>LABEL_1</td>\n",
              "      <td>0.999919</td>\n",
              "      <td>joy</td>\n",
              "      <td>0.997865</td>\n",
              "      <td>joy</td>\n",
              "      <td>0.986842</td>\n",
              "      <td>joy</td>\n",
              "      <td>0.991602</td>\n",
              "      <td>joy</td>\n",
              "      <td>0.986612</td>\n",
              "      <td>neutral</td>\n",
              "      <td>0.881734</td>\n",
              "      <td>not work the additional risk imho but some people need to know if they're positive so they can inform their employer, etc</td>\n",
              "      <td>joy</td>\n",
              "      <td>0.88</td>\n",
              "      <td>joy</td>\n",
              "    </tr>\n",
              "  </tbody>\n",
              "</table>\n",
              "</div>\n",
              "      <button class=\"colab-df-convert\" onclick=\"convertToInteractive('df-1db54db6-7a5b-4d2d-83a2-14213092b983')\"\n",
              "              title=\"Convert this dataframe to an interactive table.\"\n",
              "              style=\"display:none;\">\n",
              "        \n",
              "  <svg xmlns=\"http://www.w3.org/2000/svg\" height=\"24px\"viewBox=\"0 0 24 24\"\n",
              "       width=\"24px\">\n",
              "    <path d=\"M0 0h24v24H0V0z\" fill=\"none\"/>\n",
              "    <path d=\"M18.56 5.44l.94 2.06.94-2.06 2.06-.94-2.06-.94-.94-2.06-.94 2.06-2.06.94zm-11 1L8.5 8.5l.94-2.06 2.06-.94-2.06-.94L8.5 2.5l-.94 2.06-2.06.94zm10 10l.94 2.06.94-2.06 2.06-.94-2.06-.94-.94-2.06-.94 2.06-2.06.94z\"/><path d=\"M17.41 7.96l-1.37-1.37c-.4-.4-.92-.59-1.43-.59-.52 0-1.04.2-1.43.59L10.3 9.45l-7.72 7.72c-.78.78-.78 2.05 0 2.83L4 21.41c.39.39.9.59 1.41.59.51 0 1.02-.2 1.41-.59l7.78-7.78 2.81-2.81c.8-.78.8-2.07 0-2.86zM5.41 20L4 18.59l7.72-7.72 1.47 1.35L5.41 20z\"/>\n",
              "  </svg>\n",
              "      </button>\n",
              "      \n",
              "  <style>\n",
              "    .colab-df-container {\n",
              "      display:flex;\n",
              "      flex-wrap:wrap;\n",
              "      gap: 12px;\n",
              "    }\n",
              "\n",
              "    .colab-df-convert {\n",
              "      background-color: #E8F0FE;\n",
              "      border: none;\n",
              "      border-radius: 50%;\n",
              "      cursor: pointer;\n",
              "      display: none;\n",
              "      fill: #1967D2;\n",
              "      height: 32px;\n",
              "      padding: 0 0 0 0;\n",
              "      width: 32px;\n",
              "    }\n",
              "\n",
              "    .colab-df-convert:hover {\n",
              "      background-color: #E2EBFA;\n",
              "      box-shadow: 0px 1px 2px rgba(60, 64, 67, 0.3), 0px 1px 3px 1px rgba(60, 64, 67, 0.15);\n",
              "      fill: #174EA6;\n",
              "    }\n",
              "\n",
              "    [theme=dark] .colab-df-convert {\n",
              "      background-color: #3B4455;\n",
              "      fill: #D2E3FC;\n",
              "    }\n",
              "\n",
              "    [theme=dark] .colab-df-convert:hover {\n",
              "      background-color: #434B5C;\n",
              "      box-shadow: 0px 1px 3px 1px rgba(0, 0, 0, 0.15);\n",
              "      filter: drop-shadow(0px 1px 2px rgba(0, 0, 0, 0.3));\n",
              "      fill: #FFFFFF;\n",
              "    }\n",
              "  </style>\n",
              "\n",
              "      <script>\n",
              "        const buttonEl =\n",
              "          document.querySelector('#df-1db54db6-7a5b-4d2d-83a2-14213092b983 button.colab-df-convert');\n",
              "        buttonEl.style.display =\n",
              "          google.colab.kernel.accessAllowed ? 'block' : 'none';\n",
              "\n",
              "        async function convertToInteractive(key) {\n",
              "          const element = document.querySelector('#df-1db54db6-7a5b-4d2d-83a2-14213092b983');\n",
              "          const dataTable =\n",
              "            await google.colab.kernel.invokeFunction('convertToInteractive',\n",
              "                                                     [key], {});\n",
              "          if (!dataTable) return;\n",
              "\n",
              "          const docLinkHtml = 'Like what you see? Visit the ' +\n",
              "            '<a target=\"_blank\" href=https://colab.research.google.com/notebooks/data_table.ipynb>data table notebook</a>'\n",
              "            + ' to learn more about interactive tables.';\n",
              "          element.innerHTML = '';\n",
              "          dataTable['output_type'] = 'display_data';\n",
              "          await google.colab.output.renderOutput(dataTable, element);\n",
              "          const docLink = document.createElement('div');\n",
              "          docLink.innerHTML = docLinkHtml;\n",
              "          element.appendChild(docLink);\n",
              "        }\n",
              "      </script>\n",
              "    </div>\n",
              "  </div>\n",
              "  "
            ]
          },
          "metadata": {},
          "execution_count": 123
        }
      ]
    },
    {
      "cell_type": "code",
      "source": [
        "for i, m in enumerate(mdls):\n",
        "  df[m] = np.where(df[cfs[i]] >= 0.5, df[m], np.nan)"
      ],
      "metadata": {
        "id": "SaEVPDZEMiHM"
      },
      "execution_count": null,
      "outputs": []
    },
    {
      "cell_type": "code",
      "source": [
        "df.head(3)"
      ],
      "metadata": {
        "colab": {
          "base_uri": "https://localhost:8080/",
          "height": 659
        },
        "id": "0wQ_UEvBM3f1",
        "outputId": "86a3e346-b9fd-4eaa-aa68-839d2d7e7571"
      },
      "execution_count": null,
      "outputs": [
        {
          "output_type": "execute_result",
          "data": {
            "text/plain": [
              "     index  full_text_id  conversation_id           source  \\\n",
              "0.0    0.0           0.0     1.559359e+18        marsons80   \n",
              "1.0    1.0           1.0     1.559359e+18        marsons80   \n",
              "2.0    2.0           2.0     1.559359e+18  BourgaultGilles   \n",
              "\n",
              "                                                                                                                               full_text  \\\n",
              "0.0                                                       @ThePurrrple @MAGAThassell @The_VerminatorD @MattHopkins_au Its not a vaccine.   \n",
              "1.0  @ThePurrrple @MAGAThassell @The_VerminatorD @MattHopkins_au Oh and make sure to keep on taking them boosters, can never be to safe.   \n",
              "2.0    @DevineSpeak @yates_brit @catfish8888 @MattHopkins_au When you use antivax bullshit has excuse not get vax, you are antivax. 🤷‍♂️   \n",
              "\n",
              "                                                                    sentence  \\\n",
              "0.0                                                       Its not a vaccine.   \n",
              "1.0  Oh and make sure to keep on taking them boosters, can never be to safe.   \n",
              "2.0   When you use antivax bullshit has excuse not get vax, you are antivax.   \n",
              "\n",
              "    EMO_suvrobaner/distilbert-base-uncased-finetuned-emotion-en-tweets  \\\n",
              "0.0                                                               fear   \n",
              "1.0                                                                joy   \n",
              "2.0                                                              anger   \n",
              "\n",
              "     CF_suvrobaner/distilbert-base-uncased-finetuned-emotion-en-tweets  \\\n",
              "0.0                                                           0.811617   \n",
              "1.0                                                           0.988130   \n",
              "2.0                                                           0.907409   \n",
              "\n",
              "    EMO_stevevee0101/distilbert-base-uncased-finetuned-emotion  \\\n",
              "0.0                                                    LABEL_4   \n",
              "1.0                                                    LABEL_1   \n",
              "2.0                                                    LABEL_3   \n",
              "\n",
              "     CF_stevevee0101/distilbert-base-uncased-finetuned-emotion  \\\n",
              "0.0                                                   0.525668   \n",
              "1.0                                                   0.986144   \n",
              "2.0                                                   0.981543   \n",
              "\n",
              "    EMO_bhadresh-savani/albert-base-v2-emotion  \\\n",
              "0.0                                      anger   \n",
              "1.0                                        joy   \n",
              "2.0                                      anger   \n",
              "\n",
              "     CF_bhadresh-savani/albert-base-v2-emotion  \\\n",
              "0.0                                   0.617615   \n",
              "1.0                                   0.989787   \n",
              "2.0                                   0.668361   \n",
              "\n",
              "    EMO_michauhl/distilbert-base-uncased-finetuned-emotion  \\\n",
              "0.0                                                    NaN   \n",
              "1.0                                                    joy   \n",
              "2.0                                                  anger   \n",
              "\n",
              "     CF_michauhl/distilbert-base-uncased-finetuned-emotion  \\\n",
              "0.0                                               0.401311   \n",
              "1.0                                               0.999405   \n",
              "2.0                                               0.997937   \n",
              "\n",
              "    EMO_Zia/distilbert-base-uncased-finetuned-emotion  \\\n",
              "0.0                                           LABEL_4   \n",
              "1.0                                           LABEL_1   \n",
              "2.0                                           LABEL_3   \n",
              "\n",
              "     CF_Zia/distilbert-base-uncased-finetuned-emotion  \\\n",
              "0.0                                          0.901119   \n",
              "1.0                                          0.989185   \n",
              "2.0                                          0.995523   \n",
              "\n",
              "    EMO_jkhan447/sentiment-model-sample-5-emotion  \\\n",
              "0.0                                       LABEL_3   \n",
              "1.0                                       LABEL_1   \n",
              "2.0                                       LABEL_3   \n",
              "\n",
              "     CF_jkhan447/sentiment-model-sample-5-emotion  \\\n",
              "0.0                                      0.983357   \n",
              "1.0                                      0.999891   \n",
              "2.0                                      0.999802   \n",
              "\n",
              "    EMO_bhadresh-savani/distilbert-base-uncased-emotion  \\\n",
              "0.0                                               anger   \n",
              "1.0                                                 joy   \n",
              "2.0                                               anger   \n",
              "\n",
              "     CF_bhadresh-savani/distilbert-base-uncased-emotion  \\\n",
              "0.0                                            0.733883   \n",
              "1.0                                            0.997552   \n",
              "2.0                                            0.994301   \n",
              "\n",
              "    EMO_bhadresh-savani/distilbert-base-uncased-finetuned-emotion  \\\n",
              "0.0                                                         anger   \n",
              "1.0                                                           joy   \n",
              "2.0                                                         anger   \n",
              "\n",
              "     CF_bhadresh-savani/distilbert-base-uncased-finetuned-emotion  \\\n",
              "0.0                                                      0.681173   \n",
              "1.0                                                      0.996328   \n",
              "2.0                                                      0.991591   \n",
              "\n",
              "    EMO_Emanuel/bertweet-emotion-base  CF_Emanuel/bertweet-emotion-base  \\\n",
              "0.0                               NaN                          0.441959   \n",
              "1.0                               joy                          0.638236   \n",
              "2.0                               NaN                          0.462121   \n",
              "\n",
              "    EMO_Emanuel/twitter-emotion-deberta-v3-base  \\\n",
              "0.0                                         NaN   \n",
              "1.0                                         joy   \n",
              "2.0                                       anger   \n",
              "\n",
              "     CF_Emanuel/twitter-emotion-deberta-v3-base  \\\n",
              "0.0                                    0.391673   \n",
              "1.0                                    0.981926   \n",
              "2.0                                    0.985883   \n",
              "\n",
              "    EMO_j-hartmann/emotion-english-distilroberta-base  \\\n",
              "0.0                                           neutral   \n",
              "1.0                                           neutral   \n",
              "2.0                                             anger   \n",
              "\n",
              "     CF_j-hartmann/emotion-english-distilroberta-base  \\\n",
              "0.0                                          0.890355   \n",
              "1.0                                          0.663714   \n",
              "2.0                                          0.672423   \n",
              "\n",
              "                                                                  clean_Text  \\\n",
              "0.0                                                       its not a vaccine.   \n",
              "1.0  oh and make sure to keep on taking them boosters, can never be to safe.   \n",
              "2.0   when you use antivax bullshit has excuse not get vax, you are antivax.   \n",
              "\n",
              "    label_ensemble  cf_ensemble label_ensemble2  \n",
              "0.0          anger         0.50           EMPTY  \n",
              "1.0            joy         0.88             joy  \n",
              "2.0          anger         1.00           anger  "
            ],
            "text/html": [
              "\n",
              "  <div id=\"df-a86ea702-25cf-4216-a140-48a8cafcde75\">\n",
              "    <div class=\"colab-df-container\">\n",
              "      <div>\n",
              "<style scoped>\n",
              "    .dataframe tbody tr th:only-of-type {\n",
              "        vertical-align: middle;\n",
              "    }\n",
              "\n",
              "    .dataframe tbody tr th {\n",
              "        vertical-align: top;\n",
              "    }\n",
              "\n",
              "    .dataframe thead th {\n",
              "        text-align: right;\n",
              "    }\n",
              "</style>\n",
              "<table border=\"1\" class=\"dataframe\">\n",
              "  <thead>\n",
              "    <tr style=\"text-align: right;\">\n",
              "      <th></th>\n",
              "      <th>index</th>\n",
              "      <th>full_text_id</th>\n",
              "      <th>conversation_id</th>\n",
              "      <th>source</th>\n",
              "      <th>full_text</th>\n",
              "      <th>sentence</th>\n",
              "      <th>EMO_suvrobaner/distilbert-base-uncased-finetuned-emotion-en-tweets</th>\n",
              "      <th>CF_suvrobaner/distilbert-base-uncased-finetuned-emotion-en-tweets</th>\n",
              "      <th>EMO_stevevee0101/distilbert-base-uncased-finetuned-emotion</th>\n",
              "      <th>CF_stevevee0101/distilbert-base-uncased-finetuned-emotion</th>\n",
              "      <th>EMO_bhadresh-savani/albert-base-v2-emotion</th>\n",
              "      <th>CF_bhadresh-savani/albert-base-v2-emotion</th>\n",
              "      <th>EMO_michauhl/distilbert-base-uncased-finetuned-emotion</th>\n",
              "      <th>CF_michauhl/distilbert-base-uncased-finetuned-emotion</th>\n",
              "      <th>EMO_Zia/distilbert-base-uncased-finetuned-emotion</th>\n",
              "      <th>CF_Zia/distilbert-base-uncased-finetuned-emotion</th>\n",
              "      <th>EMO_jkhan447/sentiment-model-sample-5-emotion</th>\n",
              "      <th>CF_jkhan447/sentiment-model-sample-5-emotion</th>\n",
              "      <th>EMO_bhadresh-savani/distilbert-base-uncased-emotion</th>\n",
              "      <th>CF_bhadresh-savani/distilbert-base-uncased-emotion</th>\n",
              "      <th>EMO_bhadresh-savani/distilbert-base-uncased-finetuned-emotion</th>\n",
              "      <th>CF_bhadresh-savani/distilbert-base-uncased-finetuned-emotion</th>\n",
              "      <th>EMO_Emanuel/bertweet-emotion-base</th>\n",
              "      <th>CF_Emanuel/bertweet-emotion-base</th>\n",
              "      <th>EMO_Emanuel/twitter-emotion-deberta-v3-base</th>\n",
              "      <th>CF_Emanuel/twitter-emotion-deberta-v3-base</th>\n",
              "      <th>EMO_j-hartmann/emotion-english-distilroberta-base</th>\n",
              "      <th>CF_j-hartmann/emotion-english-distilroberta-base</th>\n",
              "      <th>clean_Text</th>\n",
              "      <th>label_ensemble</th>\n",
              "      <th>cf_ensemble</th>\n",
              "      <th>label_ensemble2</th>\n",
              "    </tr>\n",
              "  </thead>\n",
              "  <tbody>\n",
              "    <tr>\n",
              "      <th>0.0</th>\n",
              "      <td>0.0</td>\n",
              "      <td>0.0</td>\n",
              "      <td>1.559359e+18</td>\n",
              "      <td>marsons80</td>\n",
              "      <td>@ThePurrrple @MAGAThassell @The_VerminatorD @MattHopkins_au Its not a vaccine.</td>\n",
              "      <td>Its not a vaccine.</td>\n",
              "      <td>fear</td>\n",
              "      <td>0.811617</td>\n",
              "      <td>LABEL_4</td>\n",
              "      <td>0.525668</td>\n",
              "      <td>anger</td>\n",
              "      <td>0.617615</td>\n",
              "      <td>NaN</td>\n",
              "      <td>0.401311</td>\n",
              "      <td>LABEL_4</td>\n",
              "      <td>0.901119</td>\n",
              "      <td>LABEL_3</td>\n",
              "      <td>0.983357</td>\n",
              "      <td>anger</td>\n",
              "      <td>0.733883</td>\n",
              "      <td>anger</td>\n",
              "      <td>0.681173</td>\n",
              "      <td>NaN</td>\n",
              "      <td>0.441959</td>\n",
              "      <td>NaN</td>\n",
              "      <td>0.391673</td>\n",
              "      <td>neutral</td>\n",
              "      <td>0.890355</td>\n",
              "      <td>its not a vaccine.</td>\n",
              "      <td>anger</td>\n",
              "      <td>0.50</td>\n",
              "      <td>EMPTY</td>\n",
              "    </tr>\n",
              "    <tr>\n",
              "      <th>1.0</th>\n",
              "      <td>1.0</td>\n",
              "      <td>1.0</td>\n",
              "      <td>1.559359e+18</td>\n",
              "      <td>marsons80</td>\n",
              "      <td>@ThePurrrple @MAGAThassell @The_VerminatorD @MattHopkins_au Oh and make sure to keep on taking them boosters, can never be to safe.</td>\n",
              "      <td>Oh and make sure to keep on taking them boosters, can never be to safe.</td>\n",
              "      <td>joy</td>\n",
              "      <td>0.988130</td>\n",
              "      <td>LABEL_1</td>\n",
              "      <td>0.986144</td>\n",
              "      <td>joy</td>\n",
              "      <td>0.989787</td>\n",
              "      <td>joy</td>\n",
              "      <td>0.999405</td>\n",
              "      <td>LABEL_1</td>\n",
              "      <td>0.989185</td>\n",
              "      <td>LABEL_1</td>\n",
              "      <td>0.999891</td>\n",
              "      <td>joy</td>\n",
              "      <td>0.997552</td>\n",
              "      <td>joy</td>\n",
              "      <td>0.996328</td>\n",
              "      <td>joy</td>\n",
              "      <td>0.638236</td>\n",
              "      <td>joy</td>\n",
              "      <td>0.981926</td>\n",
              "      <td>neutral</td>\n",
              "      <td>0.663714</td>\n",
              "      <td>oh and make sure to keep on taking them boosters, can never be to safe.</td>\n",
              "      <td>joy</td>\n",
              "      <td>0.88</td>\n",
              "      <td>joy</td>\n",
              "    </tr>\n",
              "    <tr>\n",
              "      <th>2.0</th>\n",
              "      <td>2.0</td>\n",
              "      <td>2.0</td>\n",
              "      <td>1.559359e+18</td>\n",
              "      <td>BourgaultGilles</td>\n",
              "      <td>@DevineSpeak @yates_brit @catfish8888 @MattHopkins_au When you use antivax bullshit has excuse not get vax, you are antivax. 🤷‍♂️</td>\n",
              "      <td>When you use antivax bullshit has excuse not get vax, you are antivax.</td>\n",
              "      <td>anger</td>\n",
              "      <td>0.907409</td>\n",
              "      <td>LABEL_3</td>\n",
              "      <td>0.981543</td>\n",
              "      <td>anger</td>\n",
              "      <td>0.668361</td>\n",
              "      <td>anger</td>\n",
              "      <td>0.997937</td>\n",
              "      <td>LABEL_3</td>\n",
              "      <td>0.995523</td>\n",
              "      <td>LABEL_3</td>\n",
              "      <td>0.999802</td>\n",
              "      <td>anger</td>\n",
              "      <td>0.994301</td>\n",
              "      <td>anger</td>\n",
              "      <td>0.991591</td>\n",
              "      <td>NaN</td>\n",
              "      <td>0.462121</td>\n",
              "      <td>anger</td>\n",
              "      <td>0.985883</td>\n",
              "      <td>anger</td>\n",
              "      <td>0.672423</td>\n",
              "      <td>when you use antivax bullshit has excuse not get vax, you are antivax.</td>\n",
              "      <td>anger</td>\n",
              "      <td>1.00</td>\n",
              "      <td>anger</td>\n",
              "    </tr>\n",
              "  </tbody>\n",
              "</table>\n",
              "</div>\n",
              "      <button class=\"colab-df-convert\" onclick=\"convertToInteractive('df-a86ea702-25cf-4216-a140-48a8cafcde75')\"\n",
              "              title=\"Convert this dataframe to an interactive table.\"\n",
              "              style=\"display:none;\">\n",
              "        \n",
              "  <svg xmlns=\"http://www.w3.org/2000/svg\" height=\"24px\"viewBox=\"0 0 24 24\"\n",
              "       width=\"24px\">\n",
              "    <path d=\"M0 0h24v24H0V0z\" fill=\"none\"/>\n",
              "    <path d=\"M18.56 5.44l.94 2.06.94-2.06 2.06-.94-2.06-.94-.94-2.06-.94 2.06-2.06.94zm-11 1L8.5 8.5l.94-2.06 2.06-.94-2.06-.94L8.5 2.5l-.94 2.06-2.06.94zm10 10l.94 2.06.94-2.06 2.06-.94-2.06-.94-.94-2.06-.94 2.06-2.06.94z\"/><path d=\"M17.41 7.96l-1.37-1.37c-.4-.4-.92-.59-1.43-.59-.52 0-1.04.2-1.43.59L10.3 9.45l-7.72 7.72c-.78.78-.78 2.05 0 2.83L4 21.41c.39.39.9.59 1.41.59.51 0 1.02-.2 1.41-.59l7.78-7.78 2.81-2.81c.8-.78.8-2.07 0-2.86zM5.41 20L4 18.59l7.72-7.72 1.47 1.35L5.41 20z\"/>\n",
              "  </svg>\n",
              "      </button>\n",
              "      \n",
              "  <style>\n",
              "    .colab-df-container {\n",
              "      display:flex;\n",
              "      flex-wrap:wrap;\n",
              "      gap: 12px;\n",
              "    }\n",
              "\n",
              "    .colab-df-convert {\n",
              "      background-color: #E8F0FE;\n",
              "      border: none;\n",
              "      border-radius: 50%;\n",
              "      cursor: pointer;\n",
              "      display: none;\n",
              "      fill: #1967D2;\n",
              "      height: 32px;\n",
              "      padding: 0 0 0 0;\n",
              "      width: 32px;\n",
              "    }\n",
              "\n",
              "    .colab-df-convert:hover {\n",
              "      background-color: #E2EBFA;\n",
              "      box-shadow: 0px 1px 2px rgba(60, 64, 67, 0.3), 0px 1px 3px 1px rgba(60, 64, 67, 0.15);\n",
              "      fill: #174EA6;\n",
              "    }\n",
              "\n",
              "    [theme=dark] .colab-df-convert {\n",
              "      background-color: #3B4455;\n",
              "      fill: #D2E3FC;\n",
              "    }\n",
              "\n",
              "    [theme=dark] .colab-df-convert:hover {\n",
              "      background-color: #434B5C;\n",
              "      box-shadow: 0px 1px 3px 1px rgba(0, 0, 0, 0.15);\n",
              "      filter: drop-shadow(0px 1px 2px rgba(0, 0, 0, 0.3));\n",
              "      fill: #FFFFFF;\n",
              "    }\n",
              "  </style>\n",
              "\n",
              "      <script>\n",
              "        const buttonEl =\n",
              "          document.querySelector('#df-a86ea702-25cf-4216-a140-48a8cafcde75 button.colab-df-convert');\n",
              "        buttonEl.style.display =\n",
              "          google.colab.kernel.accessAllowed ? 'block' : 'none';\n",
              "\n",
              "        async function convertToInteractive(key) {\n",
              "          const element = document.querySelector('#df-a86ea702-25cf-4216-a140-48a8cafcde75');\n",
              "          const dataTable =\n",
              "            await google.colab.kernel.invokeFunction('convertToInteractive',\n",
              "                                                     [key], {});\n",
              "          if (!dataTable) return;\n",
              "\n",
              "          const docLinkHtml = 'Like what you see? Visit the ' +\n",
              "            '<a target=\"_blank\" href=https://colab.research.google.com/notebooks/data_table.ipynb>data table notebook</a>'\n",
              "            + ' to learn more about interactive tables.';\n",
              "          element.innerHTML = '';\n",
              "          dataTable['output_type'] = 'display_data';\n",
              "          await google.colab.output.renderOutput(dataTable, element);\n",
              "          const docLink = document.createElement('div');\n",
              "          docLink.innerHTML = docLinkHtml;\n",
              "          element.appendChild(docLink);\n",
              "        }\n",
              "      </script>\n",
              "    </div>\n",
              "  </div>\n",
              "  "
            ]
          },
          "metadata": {},
          "execution_count": 125
        }
      ]
    },
    {
      "cell_type": "code",
      "source": [
        "dfm = df.melt(\"index\", mdls)\n",
        "dfm.columns = ['index', 'model', 'label_ensemble']\n",
        "dfm.head()"
      ],
      "metadata": {
        "colab": {
          "base_uri": "https://localhost:8080/",
          "height": 206
        },
        "outputId": "b031e792-ff60-4cb2-ee7b-adad119640a0",
        "id": "sF8AjBQy_3oL"
      },
      "execution_count": null,
      "outputs": [
        {
          "output_type": "execute_result",
          "data": {
            "text/plain": [
              "   index                                                               model  \\\n",
              "0    0.0  EMO_suvrobaner/distilbert-base-uncased-finetuned-emotion-en-tweets   \n",
              "1    1.0  EMO_suvrobaner/distilbert-base-uncased-finetuned-emotion-en-tweets   \n",
              "2    2.0  EMO_suvrobaner/distilbert-base-uncased-finetuned-emotion-en-tweets   \n",
              "3    3.0  EMO_suvrobaner/distilbert-base-uncased-finetuned-emotion-en-tweets   \n",
              "4    4.0  EMO_suvrobaner/distilbert-base-uncased-finetuned-emotion-en-tweets   \n",
              "\n",
              "  label_ensemble  \n",
              "0           fear  \n",
              "1            joy  \n",
              "2          anger  \n",
              "3            joy  \n",
              "4            joy  "
            ],
            "text/html": [
              "\n",
              "  <div id=\"df-cdf6edae-15a6-4153-8501-91df6b43bcea\">\n",
              "    <div class=\"colab-df-container\">\n",
              "      <div>\n",
              "<style scoped>\n",
              "    .dataframe tbody tr th:only-of-type {\n",
              "        vertical-align: middle;\n",
              "    }\n",
              "\n",
              "    .dataframe tbody tr th {\n",
              "        vertical-align: top;\n",
              "    }\n",
              "\n",
              "    .dataframe thead th {\n",
              "        text-align: right;\n",
              "    }\n",
              "</style>\n",
              "<table border=\"1\" class=\"dataframe\">\n",
              "  <thead>\n",
              "    <tr style=\"text-align: right;\">\n",
              "      <th></th>\n",
              "      <th>index</th>\n",
              "      <th>model</th>\n",
              "      <th>label_ensemble</th>\n",
              "    </tr>\n",
              "  </thead>\n",
              "  <tbody>\n",
              "    <tr>\n",
              "      <th>0</th>\n",
              "      <td>0.0</td>\n",
              "      <td>EMO_suvrobaner/distilbert-base-uncased-finetuned-emotion-en-tweets</td>\n",
              "      <td>fear</td>\n",
              "    </tr>\n",
              "    <tr>\n",
              "      <th>1</th>\n",
              "      <td>1.0</td>\n",
              "      <td>EMO_suvrobaner/distilbert-base-uncased-finetuned-emotion-en-tweets</td>\n",
              "      <td>joy</td>\n",
              "    </tr>\n",
              "    <tr>\n",
              "      <th>2</th>\n",
              "      <td>2.0</td>\n",
              "      <td>EMO_suvrobaner/distilbert-base-uncased-finetuned-emotion-en-tweets</td>\n",
              "      <td>anger</td>\n",
              "    </tr>\n",
              "    <tr>\n",
              "      <th>3</th>\n",
              "      <td>3.0</td>\n",
              "      <td>EMO_suvrobaner/distilbert-base-uncased-finetuned-emotion-en-tweets</td>\n",
              "      <td>joy</td>\n",
              "    </tr>\n",
              "    <tr>\n",
              "      <th>4</th>\n",
              "      <td>4.0</td>\n",
              "      <td>EMO_suvrobaner/distilbert-base-uncased-finetuned-emotion-en-tweets</td>\n",
              "      <td>joy</td>\n",
              "    </tr>\n",
              "  </tbody>\n",
              "</table>\n",
              "</div>\n",
              "      <button class=\"colab-df-convert\" onclick=\"convertToInteractive('df-cdf6edae-15a6-4153-8501-91df6b43bcea')\"\n",
              "              title=\"Convert this dataframe to an interactive table.\"\n",
              "              style=\"display:none;\">\n",
              "        \n",
              "  <svg xmlns=\"http://www.w3.org/2000/svg\" height=\"24px\"viewBox=\"0 0 24 24\"\n",
              "       width=\"24px\">\n",
              "    <path d=\"M0 0h24v24H0V0z\" fill=\"none\"/>\n",
              "    <path d=\"M18.56 5.44l.94 2.06.94-2.06 2.06-.94-2.06-.94-.94-2.06-.94 2.06-2.06.94zm-11 1L8.5 8.5l.94-2.06 2.06-.94-2.06-.94L8.5 2.5l-.94 2.06-2.06.94zm10 10l.94 2.06.94-2.06 2.06-.94-2.06-.94-.94-2.06-.94 2.06-2.06.94z\"/><path d=\"M17.41 7.96l-1.37-1.37c-.4-.4-.92-.59-1.43-.59-.52 0-1.04.2-1.43.59L10.3 9.45l-7.72 7.72c-.78.78-.78 2.05 0 2.83L4 21.41c.39.39.9.59 1.41.59.51 0 1.02-.2 1.41-.59l7.78-7.78 2.81-2.81c.8-.78.8-2.07 0-2.86zM5.41 20L4 18.59l7.72-7.72 1.47 1.35L5.41 20z\"/>\n",
              "  </svg>\n",
              "      </button>\n",
              "      \n",
              "  <style>\n",
              "    .colab-df-container {\n",
              "      display:flex;\n",
              "      flex-wrap:wrap;\n",
              "      gap: 12px;\n",
              "    }\n",
              "\n",
              "    .colab-df-convert {\n",
              "      background-color: #E8F0FE;\n",
              "      border: none;\n",
              "      border-radius: 50%;\n",
              "      cursor: pointer;\n",
              "      display: none;\n",
              "      fill: #1967D2;\n",
              "      height: 32px;\n",
              "      padding: 0 0 0 0;\n",
              "      width: 32px;\n",
              "    }\n",
              "\n",
              "    .colab-df-convert:hover {\n",
              "      background-color: #E2EBFA;\n",
              "      box-shadow: 0px 1px 2px rgba(60, 64, 67, 0.3), 0px 1px 3px 1px rgba(60, 64, 67, 0.15);\n",
              "      fill: #174EA6;\n",
              "    }\n",
              "\n",
              "    [theme=dark] .colab-df-convert {\n",
              "      background-color: #3B4455;\n",
              "      fill: #D2E3FC;\n",
              "    }\n",
              "\n",
              "    [theme=dark] .colab-df-convert:hover {\n",
              "      background-color: #434B5C;\n",
              "      box-shadow: 0px 1px 3px 1px rgba(0, 0, 0, 0.15);\n",
              "      filter: drop-shadow(0px 1px 2px rgba(0, 0, 0, 0.3));\n",
              "      fill: #FFFFFF;\n",
              "    }\n",
              "  </style>\n",
              "\n",
              "      <script>\n",
              "        const buttonEl =\n",
              "          document.querySelector('#df-cdf6edae-15a6-4153-8501-91df6b43bcea button.colab-df-convert');\n",
              "        buttonEl.style.display =\n",
              "          google.colab.kernel.accessAllowed ? 'block' : 'none';\n",
              "\n",
              "        async function convertToInteractive(key) {\n",
              "          const element = document.querySelector('#df-cdf6edae-15a6-4153-8501-91df6b43bcea');\n",
              "          const dataTable =\n",
              "            await google.colab.kernel.invokeFunction('convertToInteractive',\n",
              "                                                     [key], {});\n",
              "          if (!dataTable) return;\n",
              "\n",
              "          const docLinkHtml = 'Like what you see? Visit the ' +\n",
              "            '<a target=\"_blank\" href=https://colab.research.google.com/notebooks/data_table.ipynb>data table notebook</a>'\n",
              "            + ' to learn more about interactive tables.';\n",
              "          element.innerHTML = '';\n",
              "          dataTable['output_type'] = 'display_data';\n",
              "          await google.colab.output.renderOutput(dataTable, element);\n",
              "          const docLink = document.createElement('div');\n",
              "          docLink.innerHTML = docLinkHtml;\n",
              "          element.appendChild(docLink);\n",
              "        }\n",
              "      </script>\n",
              "    </div>\n",
              "  </div>\n",
              "  "
            ]
          },
          "metadata": {},
          "execution_count": 126
        }
      ]
    },
    {
      "cell_type": "code",
      "source": [
        "maj_dev = pd.DataFrame(dfm.groupby(['index'], as_index = True)['label_ensemble'].value_counts())\n",
        "maj_dev.columns = ['label_size']\n",
        "maj_dev = maj_dev.reset_index()\n",
        "maj_dev = maj_dev.sort_values(by = ['index', 'label_size', 'label_ensemble'], ascending = [True, False, False])\n",
        "maj_dev.head()"
      ],
      "metadata": {
        "colab": {
          "base_uri": "https://localhost:8080/",
          "height": 206
        },
        "outputId": "2dc903d5-f912-47d7-cd68-9e2570e0ce84",
        "id": "ONOlvvhQ-Dyp"
      },
      "execution_count": null,
      "outputs": [
        {
          "output_type": "execute_result",
          "data": {
            "text/plain": [
              "   index label_ensemble  label_size\n",
              "0    0.0          anger           3\n",
              "2    0.0        neutral           1\n",
              "1    0.0           fear           1\n",
              "3    1.0            joy           7\n",
              "4    1.0        neutral           1"
            ],
            "text/html": [
              "\n",
              "  <div id=\"df-165c0987-188b-4ce3-b19c-3c4e42203e7f\">\n",
              "    <div class=\"colab-df-container\">\n",
              "      <div>\n",
              "<style scoped>\n",
              "    .dataframe tbody tr th:only-of-type {\n",
              "        vertical-align: middle;\n",
              "    }\n",
              "\n",
              "    .dataframe tbody tr th {\n",
              "        vertical-align: top;\n",
              "    }\n",
              "\n",
              "    .dataframe thead th {\n",
              "        text-align: right;\n",
              "    }\n",
              "</style>\n",
              "<table border=\"1\" class=\"dataframe\">\n",
              "  <thead>\n",
              "    <tr style=\"text-align: right;\">\n",
              "      <th></th>\n",
              "      <th>index</th>\n",
              "      <th>label_ensemble</th>\n",
              "      <th>label_size</th>\n",
              "    </tr>\n",
              "  </thead>\n",
              "  <tbody>\n",
              "    <tr>\n",
              "      <th>0</th>\n",
              "      <td>0.0</td>\n",
              "      <td>anger</td>\n",
              "      <td>3</td>\n",
              "    </tr>\n",
              "    <tr>\n",
              "      <th>2</th>\n",
              "      <td>0.0</td>\n",
              "      <td>neutral</td>\n",
              "      <td>1</td>\n",
              "    </tr>\n",
              "    <tr>\n",
              "      <th>1</th>\n",
              "      <td>0.0</td>\n",
              "      <td>fear</td>\n",
              "      <td>1</td>\n",
              "    </tr>\n",
              "    <tr>\n",
              "      <th>3</th>\n",
              "      <td>1.0</td>\n",
              "      <td>joy</td>\n",
              "      <td>7</td>\n",
              "    </tr>\n",
              "    <tr>\n",
              "      <th>4</th>\n",
              "      <td>1.0</td>\n",
              "      <td>neutral</td>\n",
              "      <td>1</td>\n",
              "    </tr>\n",
              "  </tbody>\n",
              "</table>\n",
              "</div>\n",
              "      <button class=\"colab-df-convert\" onclick=\"convertToInteractive('df-165c0987-188b-4ce3-b19c-3c4e42203e7f')\"\n",
              "              title=\"Convert this dataframe to an interactive table.\"\n",
              "              style=\"display:none;\">\n",
              "        \n",
              "  <svg xmlns=\"http://www.w3.org/2000/svg\" height=\"24px\"viewBox=\"0 0 24 24\"\n",
              "       width=\"24px\">\n",
              "    <path d=\"M0 0h24v24H0V0z\" fill=\"none\"/>\n",
              "    <path d=\"M18.56 5.44l.94 2.06.94-2.06 2.06-.94-2.06-.94-.94-2.06-.94 2.06-2.06.94zm-11 1L8.5 8.5l.94-2.06 2.06-.94-2.06-.94L8.5 2.5l-.94 2.06-2.06.94zm10 10l.94 2.06.94-2.06 2.06-.94-2.06-.94-.94-2.06-.94 2.06-2.06.94z\"/><path d=\"M17.41 7.96l-1.37-1.37c-.4-.4-.92-.59-1.43-.59-.52 0-1.04.2-1.43.59L10.3 9.45l-7.72 7.72c-.78.78-.78 2.05 0 2.83L4 21.41c.39.39.9.59 1.41.59.51 0 1.02-.2 1.41-.59l7.78-7.78 2.81-2.81c.8-.78.8-2.07 0-2.86zM5.41 20L4 18.59l7.72-7.72 1.47 1.35L5.41 20z\"/>\n",
              "  </svg>\n",
              "      </button>\n",
              "      \n",
              "  <style>\n",
              "    .colab-df-container {\n",
              "      display:flex;\n",
              "      flex-wrap:wrap;\n",
              "      gap: 12px;\n",
              "    }\n",
              "\n",
              "    .colab-df-convert {\n",
              "      background-color: #E8F0FE;\n",
              "      border: none;\n",
              "      border-radius: 50%;\n",
              "      cursor: pointer;\n",
              "      display: none;\n",
              "      fill: #1967D2;\n",
              "      height: 32px;\n",
              "      padding: 0 0 0 0;\n",
              "      width: 32px;\n",
              "    }\n",
              "\n",
              "    .colab-df-convert:hover {\n",
              "      background-color: #E2EBFA;\n",
              "      box-shadow: 0px 1px 2px rgba(60, 64, 67, 0.3), 0px 1px 3px 1px rgba(60, 64, 67, 0.15);\n",
              "      fill: #174EA6;\n",
              "    }\n",
              "\n",
              "    [theme=dark] .colab-df-convert {\n",
              "      background-color: #3B4455;\n",
              "      fill: #D2E3FC;\n",
              "    }\n",
              "\n",
              "    [theme=dark] .colab-df-convert:hover {\n",
              "      background-color: #434B5C;\n",
              "      box-shadow: 0px 1px 3px 1px rgba(0, 0, 0, 0.15);\n",
              "      filter: drop-shadow(0px 1px 2px rgba(0, 0, 0, 0.3));\n",
              "      fill: #FFFFFF;\n",
              "    }\n",
              "  </style>\n",
              "\n",
              "      <script>\n",
              "        const buttonEl =\n",
              "          document.querySelector('#df-165c0987-188b-4ce3-b19c-3c4e42203e7f button.colab-df-convert');\n",
              "        buttonEl.style.display =\n",
              "          google.colab.kernel.accessAllowed ? 'block' : 'none';\n",
              "\n",
              "        async function convertToInteractive(key) {\n",
              "          const element = document.querySelector('#df-165c0987-188b-4ce3-b19c-3c4e42203e7f');\n",
              "          const dataTable =\n",
              "            await google.colab.kernel.invokeFunction('convertToInteractive',\n",
              "                                                     [key], {});\n",
              "          if (!dataTable) return;\n",
              "\n",
              "          const docLinkHtml = 'Like what you see? Visit the ' +\n",
              "            '<a target=\"_blank\" href=https://colab.research.google.com/notebooks/data_table.ipynb>data table notebook</a>'\n",
              "            + ' to learn more about interactive tables.';\n",
              "          element.innerHTML = '';\n",
              "          dataTable['output_type'] = 'display_data';\n",
              "          await google.colab.output.renderOutput(dataTable, element);\n",
              "          const docLink = document.createElement('div');\n",
              "          docLink.innerHTML = docLinkHtml;\n",
              "          element.appendChild(docLink);\n",
              "        }\n",
              "      </script>\n",
              "    </div>\n",
              "  </div>\n",
              "  "
            ]
          },
          "metadata": {},
          "execution_count": 127
        }
      ]
    },
    {
      "cell_type": "code",
      "source": [
        "texts = []\n",
        "hard = []\n",
        "cnt = []"
      ],
      "metadata": {
        "id": "PCQfHqtJ-Dyt"
      },
      "execution_count": null,
      "outputs": []
    },
    {
      "cell_type": "code",
      "source": [
        "for t in maj_dev['index'].unique():\n",
        "  texts.append(t)\n",
        "  em = maj_dev[maj_dev['index'] == t]['label_ensemble'].iloc[0]\n",
        "  hard.append(em)\n",
        "  num = round(maj_dev[maj_dev['index'] == t]['label_size'].iloc[0] / maj_dev[maj_dev['index'] == t]['label_size'].sum(), 2)\n",
        "  cnt.append(num)\n",
        "len(cnt), len(hard)"
      ],
      "metadata": {
        "colab": {
          "base_uri": "https://localhost:8080/"
        },
        "outputId": "bc676b1d-a861-47f1-ba7c-ea160df43116",
        "id": "lTwxPb-4-Dyu"
      },
      "execution_count": null,
      "outputs": [
        {
          "output_type": "execute_result",
          "data": {
            "text/plain": [
              "(3641, 3641)"
            ]
          },
          "metadata": {},
          "execution_count": 129
        }
      ]
    },
    {
      "cell_type": "code",
      "source": [
        "df_res = pd.DataFrame({'index': texts, 'label_ensemble_threshold': hard, 'cf_ensemble_threshold': cnt})\n",
        "df_res.head()"
      ],
      "metadata": {
        "colab": {
          "base_uri": "https://localhost:8080/",
          "height": 206
        },
        "outputId": "b48e96ae-8e62-4ab1-f31c-2660772c6edc",
        "id": "cx5AKWdl-Dyv"
      },
      "execution_count": null,
      "outputs": [
        {
          "output_type": "execute_result",
          "data": {
            "text/plain": [
              "   index label_ensemble_threshold  cf_ensemble_threshold\n",
              "0    0.0                    anger                   0.60\n",
              "1    1.0                      joy                   0.88\n",
              "2    2.0                    anger                   1.00\n",
              "3    3.0                      joy                   0.50\n",
              "4    4.0                      joy                   0.67"
            ],
            "text/html": [
              "\n",
              "  <div id=\"df-a36f2603-5916-4ce4-a9af-be0df9534b55\">\n",
              "    <div class=\"colab-df-container\">\n",
              "      <div>\n",
              "<style scoped>\n",
              "    .dataframe tbody tr th:only-of-type {\n",
              "        vertical-align: middle;\n",
              "    }\n",
              "\n",
              "    .dataframe tbody tr th {\n",
              "        vertical-align: top;\n",
              "    }\n",
              "\n",
              "    .dataframe thead th {\n",
              "        text-align: right;\n",
              "    }\n",
              "</style>\n",
              "<table border=\"1\" class=\"dataframe\">\n",
              "  <thead>\n",
              "    <tr style=\"text-align: right;\">\n",
              "      <th></th>\n",
              "      <th>index</th>\n",
              "      <th>label_ensemble_threshold</th>\n",
              "      <th>cf_ensemble_threshold</th>\n",
              "    </tr>\n",
              "  </thead>\n",
              "  <tbody>\n",
              "    <tr>\n",
              "      <th>0</th>\n",
              "      <td>0.0</td>\n",
              "      <td>anger</td>\n",
              "      <td>0.60</td>\n",
              "    </tr>\n",
              "    <tr>\n",
              "      <th>1</th>\n",
              "      <td>1.0</td>\n",
              "      <td>joy</td>\n",
              "      <td>0.88</td>\n",
              "    </tr>\n",
              "    <tr>\n",
              "      <th>2</th>\n",
              "      <td>2.0</td>\n",
              "      <td>anger</td>\n",
              "      <td>1.00</td>\n",
              "    </tr>\n",
              "    <tr>\n",
              "      <th>3</th>\n",
              "      <td>3.0</td>\n",
              "      <td>joy</td>\n",
              "      <td>0.50</td>\n",
              "    </tr>\n",
              "    <tr>\n",
              "      <th>4</th>\n",
              "      <td>4.0</td>\n",
              "      <td>joy</td>\n",
              "      <td>0.67</td>\n",
              "    </tr>\n",
              "  </tbody>\n",
              "</table>\n",
              "</div>\n",
              "      <button class=\"colab-df-convert\" onclick=\"convertToInteractive('df-a36f2603-5916-4ce4-a9af-be0df9534b55')\"\n",
              "              title=\"Convert this dataframe to an interactive table.\"\n",
              "              style=\"display:none;\">\n",
              "        \n",
              "  <svg xmlns=\"http://www.w3.org/2000/svg\" height=\"24px\"viewBox=\"0 0 24 24\"\n",
              "       width=\"24px\">\n",
              "    <path d=\"M0 0h24v24H0V0z\" fill=\"none\"/>\n",
              "    <path d=\"M18.56 5.44l.94 2.06.94-2.06 2.06-.94-2.06-.94-.94-2.06-.94 2.06-2.06.94zm-11 1L8.5 8.5l.94-2.06 2.06-.94-2.06-.94L8.5 2.5l-.94 2.06-2.06.94zm10 10l.94 2.06.94-2.06 2.06-.94-2.06-.94-.94-2.06-.94 2.06-2.06.94z\"/><path d=\"M17.41 7.96l-1.37-1.37c-.4-.4-.92-.59-1.43-.59-.52 0-1.04.2-1.43.59L10.3 9.45l-7.72 7.72c-.78.78-.78 2.05 0 2.83L4 21.41c.39.39.9.59 1.41.59.51 0 1.02-.2 1.41-.59l7.78-7.78 2.81-2.81c.8-.78.8-2.07 0-2.86zM5.41 20L4 18.59l7.72-7.72 1.47 1.35L5.41 20z\"/>\n",
              "  </svg>\n",
              "      </button>\n",
              "      \n",
              "  <style>\n",
              "    .colab-df-container {\n",
              "      display:flex;\n",
              "      flex-wrap:wrap;\n",
              "      gap: 12px;\n",
              "    }\n",
              "\n",
              "    .colab-df-convert {\n",
              "      background-color: #E8F0FE;\n",
              "      border: none;\n",
              "      border-radius: 50%;\n",
              "      cursor: pointer;\n",
              "      display: none;\n",
              "      fill: #1967D2;\n",
              "      height: 32px;\n",
              "      padding: 0 0 0 0;\n",
              "      width: 32px;\n",
              "    }\n",
              "\n",
              "    .colab-df-convert:hover {\n",
              "      background-color: #E2EBFA;\n",
              "      box-shadow: 0px 1px 2px rgba(60, 64, 67, 0.3), 0px 1px 3px 1px rgba(60, 64, 67, 0.15);\n",
              "      fill: #174EA6;\n",
              "    }\n",
              "\n",
              "    [theme=dark] .colab-df-convert {\n",
              "      background-color: #3B4455;\n",
              "      fill: #D2E3FC;\n",
              "    }\n",
              "\n",
              "    [theme=dark] .colab-df-convert:hover {\n",
              "      background-color: #434B5C;\n",
              "      box-shadow: 0px 1px 3px 1px rgba(0, 0, 0, 0.15);\n",
              "      filter: drop-shadow(0px 1px 2px rgba(0, 0, 0, 0.3));\n",
              "      fill: #FFFFFF;\n",
              "    }\n",
              "  </style>\n",
              "\n",
              "      <script>\n",
              "        const buttonEl =\n",
              "          document.querySelector('#df-a36f2603-5916-4ce4-a9af-be0df9534b55 button.colab-df-convert');\n",
              "        buttonEl.style.display =\n",
              "          google.colab.kernel.accessAllowed ? 'block' : 'none';\n",
              "\n",
              "        async function convertToInteractive(key) {\n",
              "          const element = document.querySelector('#df-a36f2603-5916-4ce4-a9af-be0df9534b55');\n",
              "          const dataTable =\n",
              "            await google.colab.kernel.invokeFunction('convertToInteractive',\n",
              "                                                     [key], {});\n",
              "          if (!dataTable) return;\n",
              "\n",
              "          const docLinkHtml = 'Like what you see? Visit the ' +\n",
              "            '<a target=\"_blank\" href=https://colab.research.google.com/notebooks/data_table.ipynb>data table notebook</a>'\n",
              "            + ' to learn more about interactive tables.';\n",
              "          element.innerHTML = '';\n",
              "          dataTable['output_type'] = 'display_data';\n",
              "          await google.colab.output.renderOutput(dataTable, element);\n",
              "          const docLink = document.createElement('div');\n",
              "          docLink.innerHTML = docLinkHtml;\n",
              "          element.appendChild(docLink);\n",
              "        }\n",
              "      </script>\n",
              "    </div>\n",
              "  </div>\n",
              "  "
            ]
          },
          "metadata": {},
          "execution_count": 130
        }
      ]
    },
    {
      "cell_type": "code",
      "source": [
        "df_res.label_ensemble_threshold.value_counts(normalize=True).round(3)*100"
      ],
      "metadata": {
        "colab": {
          "base_uri": "https://localhost:8080/"
        },
        "outputId": "64df6aee-c3d8-4a53-933e-17bfffe0165f",
        "id": "IHolobPz_3oO"
      },
      "execution_count": null,
      "outputs": [
        {
          "output_type": "execute_result",
          "data": {
            "text/plain": [
              "joy         41.4\n",
              "anger       34.6\n",
              "sadness     11.6\n",
              "fear         9.2\n",
              "surprise     1.4\n",
              "neutral      1.3\n",
              "love         0.5\n",
              "Name: label_ensemble_threshold, dtype: float64"
            ]
          },
          "metadata": {},
          "execution_count": 131
        }
      ]
    },
    {
      "cell_type": "code",
      "source": [
        "df_res.describe().round(3)"
      ],
      "metadata": {
        "colab": {
          "base_uri": "https://localhost:8080/",
          "height": 300
        },
        "outputId": "cf422ebd-420e-4b0b-c995-3ceb62c19f50",
        "id": "uSZP0ih3_3oO"
      },
      "execution_count": null,
      "outputs": [
        {
          "output_type": "execute_result",
          "data": {
            "text/plain": [
              "         index  cf_ensemble_threshold\n",
              "count  3641.00               3641.000\n",
              "mean   1820.00                  0.760\n",
              "std    1051.21                  0.184\n",
              "min       0.00                  0.200\n",
              "25%     910.00                  0.620\n",
              "50%    1820.00                  0.800\n",
              "75%    2730.00                  0.880\n",
              "max    3640.00                  1.000"
            ],
            "text/html": [
              "\n",
              "  <div id=\"df-a86c9d04-1240-4e85-a31a-645b9a70c3bb\">\n",
              "    <div class=\"colab-df-container\">\n",
              "      <div>\n",
              "<style scoped>\n",
              "    .dataframe tbody tr th:only-of-type {\n",
              "        vertical-align: middle;\n",
              "    }\n",
              "\n",
              "    .dataframe tbody tr th {\n",
              "        vertical-align: top;\n",
              "    }\n",
              "\n",
              "    .dataframe thead th {\n",
              "        text-align: right;\n",
              "    }\n",
              "</style>\n",
              "<table border=\"1\" class=\"dataframe\">\n",
              "  <thead>\n",
              "    <tr style=\"text-align: right;\">\n",
              "      <th></th>\n",
              "      <th>index</th>\n",
              "      <th>cf_ensemble_threshold</th>\n",
              "    </tr>\n",
              "  </thead>\n",
              "  <tbody>\n",
              "    <tr>\n",
              "      <th>count</th>\n",
              "      <td>3641.00</td>\n",
              "      <td>3641.000</td>\n",
              "    </tr>\n",
              "    <tr>\n",
              "      <th>mean</th>\n",
              "      <td>1820.00</td>\n",
              "      <td>0.760</td>\n",
              "    </tr>\n",
              "    <tr>\n",
              "      <th>std</th>\n",
              "      <td>1051.21</td>\n",
              "      <td>0.184</td>\n",
              "    </tr>\n",
              "    <tr>\n",
              "      <th>min</th>\n",
              "      <td>0.00</td>\n",
              "      <td>0.200</td>\n",
              "    </tr>\n",
              "    <tr>\n",
              "      <th>25%</th>\n",
              "      <td>910.00</td>\n",
              "      <td>0.620</td>\n",
              "    </tr>\n",
              "    <tr>\n",
              "      <th>50%</th>\n",
              "      <td>1820.00</td>\n",
              "      <td>0.800</td>\n",
              "    </tr>\n",
              "    <tr>\n",
              "      <th>75%</th>\n",
              "      <td>2730.00</td>\n",
              "      <td>0.880</td>\n",
              "    </tr>\n",
              "    <tr>\n",
              "      <th>max</th>\n",
              "      <td>3640.00</td>\n",
              "      <td>1.000</td>\n",
              "    </tr>\n",
              "  </tbody>\n",
              "</table>\n",
              "</div>\n",
              "      <button class=\"colab-df-convert\" onclick=\"convertToInteractive('df-a86c9d04-1240-4e85-a31a-645b9a70c3bb')\"\n",
              "              title=\"Convert this dataframe to an interactive table.\"\n",
              "              style=\"display:none;\">\n",
              "        \n",
              "  <svg xmlns=\"http://www.w3.org/2000/svg\" height=\"24px\"viewBox=\"0 0 24 24\"\n",
              "       width=\"24px\">\n",
              "    <path d=\"M0 0h24v24H0V0z\" fill=\"none\"/>\n",
              "    <path d=\"M18.56 5.44l.94 2.06.94-2.06 2.06-.94-2.06-.94-.94-2.06-.94 2.06-2.06.94zm-11 1L8.5 8.5l.94-2.06 2.06-.94-2.06-.94L8.5 2.5l-.94 2.06-2.06.94zm10 10l.94 2.06.94-2.06 2.06-.94-2.06-.94-.94-2.06-.94 2.06-2.06.94z\"/><path d=\"M17.41 7.96l-1.37-1.37c-.4-.4-.92-.59-1.43-.59-.52 0-1.04.2-1.43.59L10.3 9.45l-7.72 7.72c-.78.78-.78 2.05 0 2.83L4 21.41c.39.39.9.59 1.41.59.51 0 1.02-.2 1.41-.59l7.78-7.78 2.81-2.81c.8-.78.8-2.07 0-2.86zM5.41 20L4 18.59l7.72-7.72 1.47 1.35L5.41 20z\"/>\n",
              "  </svg>\n",
              "      </button>\n",
              "      \n",
              "  <style>\n",
              "    .colab-df-container {\n",
              "      display:flex;\n",
              "      flex-wrap:wrap;\n",
              "      gap: 12px;\n",
              "    }\n",
              "\n",
              "    .colab-df-convert {\n",
              "      background-color: #E8F0FE;\n",
              "      border: none;\n",
              "      border-radius: 50%;\n",
              "      cursor: pointer;\n",
              "      display: none;\n",
              "      fill: #1967D2;\n",
              "      height: 32px;\n",
              "      padding: 0 0 0 0;\n",
              "      width: 32px;\n",
              "    }\n",
              "\n",
              "    .colab-df-convert:hover {\n",
              "      background-color: #E2EBFA;\n",
              "      box-shadow: 0px 1px 2px rgba(60, 64, 67, 0.3), 0px 1px 3px 1px rgba(60, 64, 67, 0.15);\n",
              "      fill: #174EA6;\n",
              "    }\n",
              "\n",
              "    [theme=dark] .colab-df-convert {\n",
              "      background-color: #3B4455;\n",
              "      fill: #D2E3FC;\n",
              "    }\n",
              "\n",
              "    [theme=dark] .colab-df-convert:hover {\n",
              "      background-color: #434B5C;\n",
              "      box-shadow: 0px 1px 3px 1px rgba(0, 0, 0, 0.15);\n",
              "      filter: drop-shadow(0px 1px 2px rgba(0, 0, 0, 0.3));\n",
              "      fill: #FFFFFF;\n",
              "    }\n",
              "  </style>\n",
              "\n",
              "      <script>\n",
              "        const buttonEl =\n",
              "          document.querySelector('#df-a86c9d04-1240-4e85-a31a-645b9a70c3bb button.colab-df-convert');\n",
              "        buttonEl.style.display =\n",
              "          google.colab.kernel.accessAllowed ? 'block' : 'none';\n",
              "\n",
              "        async function convertToInteractive(key) {\n",
              "          const element = document.querySelector('#df-a86c9d04-1240-4e85-a31a-645b9a70c3bb');\n",
              "          const dataTable =\n",
              "            await google.colab.kernel.invokeFunction('convertToInteractive',\n",
              "                                                     [key], {});\n",
              "          if (!dataTable) return;\n",
              "\n",
              "          const docLinkHtml = 'Like what you see? Visit the ' +\n",
              "            '<a target=\"_blank\" href=https://colab.research.google.com/notebooks/data_table.ipynb>data table notebook</a>'\n",
              "            + ' to learn more about interactive tables.';\n",
              "          element.innerHTML = '';\n",
              "          dataTable['output_type'] = 'display_data';\n",
              "          await google.colab.output.renderOutput(dataTable, element);\n",
              "          const docLink = document.createElement('div');\n",
              "          docLink.innerHTML = docLinkHtml;\n",
              "          element.appendChild(docLink);\n",
              "        }\n",
              "      </script>\n",
              "    </div>\n",
              "  </div>\n",
              "  "
            ]
          },
          "metadata": {},
          "execution_count": 132
        }
      ]
    },
    {
      "cell_type": "code",
      "source": [
        "df_res[df_res.cf_ensemble_threshold < 0.5].shape[0]/df.shape[0], df_res[df_res.cf_ensemble_threshold <= 0.5].shape[0]/df.shape[0]"
      ],
      "metadata": {
        "colab": {
          "base_uri": "https://localhost:8080/"
        },
        "outputId": "417da711-04ca-4c45-ed07-2d572201a74f",
        "id": "8N2eUrPr_3oP"
      },
      "execution_count": null,
      "outputs": [
        {
          "output_type": "execute_result",
          "data": {
            "text/plain": [
              "(0.0634441087613293, 0.15297995056303212)"
            ]
          },
          "metadata": {},
          "execution_count": 133
        }
      ]
    },
    {
      "cell_type": "code",
      "source": [
        "df_res['label_ensemble_threshold2'] = np.where(df_res['cf_ensemble_threshold'] > 0.5, df_res['label_ensemble_threshold'], 'EMPTY')"
      ],
      "metadata": {
        "id": "CpoFLabg_3oQ"
      },
      "execution_count": null,
      "outputs": []
    },
    {
      "cell_type": "code",
      "source": [
        "df_res.shape"
      ],
      "metadata": {
        "colab": {
          "base_uri": "https://localhost:8080/"
        },
        "id": "qwjWQOfMAg2f",
        "outputId": "7e1ec754-a29e-4b3e-c4ff-bcb77f3f7072"
      },
      "execution_count": null,
      "outputs": [
        {
          "output_type": "execute_result",
          "data": {
            "text/plain": [
              "(3641, 4)"
            ]
          },
          "metadata": {},
          "execution_count": 135
        }
      ]
    },
    {
      "cell_type": "code",
      "source": [
        "df_res.label_ensemble_threshold2.value_counts(normalize=True).round(3)*100"
      ],
      "metadata": {
        "colab": {
          "base_uri": "https://localhost:8080/"
        },
        "outputId": "f20bd644-8d3c-4387-f374-caa0486f9747",
        "id": "QyNmZE7g_3oQ"
      },
      "execution_count": null,
      "outputs": [
        {
          "output_type": "execute_result",
          "data": {
            "text/plain": [
              "joy         36.4\n",
              "anger       31.3\n",
              "EMPTY       15.3\n",
              "sadness      8.8\n",
              "fear         6.9\n",
              "surprise     0.9\n",
              "love         0.4\n",
              "neutral      0.1\n",
              "Name: label_ensemble_threshold2, dtype: float64"
            ]
          },
          "metadata": {},
          "execution_count": 136
        }
      ]
    },
    {
      "cell_type": "code",
      "source": [
        "df.merge(df_res, on = 'index', how='left').info()"
      ],
      "metadata": {
        "colab": {
          "base_uri": "https://localhost:8080/"
        },
        "outputId": "5db158ca-3566-4d2c-f078-97cfda59701e",
        "id": "TBko-Hh__3oN"
      },
      "execution_count": null,
      "outputs": [
        {
          "output_type": "stream",
          "name": "stdout",
          "text": [
            "<class 'pandas.core.frame.DataFrame'>\n",
            "Int64Index: 3641 entries, 0 to 3640\n",
            "Data columns (total 35 columns):\n",
            " #   Column                                                              Non-Null Count  Dtype  \n",
            "---  ------                                                              --------------  -----  \n",
            " 0   index                                                               3641 non-null   float64\n",
            " 1   full_text_id                                                        3641 non-null   float64\n",
            " 2   conversation_id                                                     3641 non-null   float64\n",
            " 3   source                                                              3641 non-null   object \n",
            " 4   full_text                                                           3641 non-null   object \n",
            " 5   sentence                                                            3641 non-null   object \n",
            " 6   EMO_suvrobaner/distilbert-base-uncased-finetuned-emotion-en-tweets  2513 non-null   object \n",
            " 7   CF_suvrobaner/distilbert-base-uncased-finetuned-emotion-en-tweets   3641 non-null   float64\n",
            " 8   EMO_stevevee0101/distilbert-base-uncased-finetuned-emotion          3641 non-null   object \n",
            " 9   CF_stevevee0101/distilbert-base-uncased-finetuned-emotion           3641 non-null   float64\n",
            " 10  EMO_bhadresh-savani/albert-base-v2-emotion                          2647 non-null   object \n",
            " 11  CF_bhadresh-savani/albert-base-v2-emotion                           3641 non-null   float64\n",
            " 12  EMO_michauhl/distilbert-base-uncased-finetuned-emotion              3392 non-null   object \n",
            " 13  CF_michauhl/distilbert-base-uncased-finetuned-emotion               3641 non-null   float64\n",
            " 14  EMO_Zia/distilbert-base-uncased-finetuned-emotion                   3641 non-null   object \n",
            " 15  CF_Zia/distilbert-base-uncased-finetuned-emotion                    3641 non-null   float64\n",
            " 16  EMO_jkhan447/sentiment-model-sample-5-emotion                       3641 non-null   object \n",
            " 17  CF_jkhan447/sentiment-model-sample-5-emotion                        3641 non-null   float64\n",
            " 18  EMO_bhadresh-savani/distilbert-base-uncased-emotion                 3280 non-null   object \n",
            " 19  CF_bhadresh-savani/distilbert-base-uncased-emotion                  3641 non-null   float64\n",
            " 20  EMO_bhadresh-savani/distilbert-base-uncased-finetuned-emotion       3314 non-null   object \n",
            " 21  CF_bhadresh-savani/distilbert-base-uncased-finetuned-emotion        3641 non-null   float64\n",
            " 22  EMO_Emanuel/bertweet-emotion-base                                   2482 non-null   object \n",
            " 23  CF_Emanuel/bertweet-emotion-base                                    3641 non-null   float64\n",
            " 24  EMO_Emanuel/twitter-emotion-deberta-v3-base                         2095 non-null   object \n",
            " 25  CF_Emanuel/twitter-emotion-deberta-v3-base                          3641 non-null   float64\n",
            " 26  EMO_j-hartmann/emotion-english-distilroberta-base                   2919 non-null   object \n",
            " 27  CF_j-hartmann/emotion-english-distilroberta-base                    3641 non-null   float64\n",
            " 28  clean_Text                                                          3641 non-null   object \n",
            " 29  label_ensemble                                                      3641 non-null   object \n",
            " 30  cf_ensemble                                                         3641 non-null   float64\n",
            " 31  label_ensemble2                                                     3641 non-null   object \n",
            " 32  label_ensemble_threshold                                            3641 non-null   object \n",
            " 33  cf_ensemble_threshold                                               3641 non-null   float64\n",
            " 34  label_ensemble_threshold2                                           3641 non-null   object \n",
            "dtypes: float64(16), object(19)\n",
            "memory usage: 1.0+ MB\n"
          ]
        }
      ]
    },
    {
      "cell_type": "markdown",
      "source": [
        "##save"
      ],
      "metadata": {
        "id": "UOWVMQ8XAyi2"
      }
    },
    {
      "cell_type": "code",
      "source": [
        "df_res.shape[0] == df_org.shape[0]"
      ],
      "metadata": {
        "colab": {
          "base_uri": "https://localhost:8080/"
        },
        "id": "-sVULmm2BXZU",
        "outputId": "61284998-185e-447c-80fb-1ed419a4e6bf"
      },
      "execution_count": null,
      "outputs": [
        {
          "output_type": "execute_result",
          "data": {
            "text/plain": [
              "True"
            ]
          },
          "metadata": {},
          "execution_count": 138
        }
      ]
    },
    {
      "cell_type": "code",
      "source": [
        "df_res.shape, df_org.shape"
      ],
      "metadata": {
        "colab": {
          "base_uri": "https://localhost:8080/"
        },
        "id": "aEdUa30aPBPT",
        "outputId": "04d8df9e-ca31-4df0-8e82-8ce603151f1e"
      },
      "execution_count": null,
      "outputs": [
        {
          "output_type": "execute_result",
          "data": {
            "text/plain": [
              "((3641, 4), (3641, 32))"
            ]
          },
          "metadata": {},
          "execution_count": 139
        }
      ]
    },
    {
      "cell_type": "code",
      "source": [
        "df_org = df_org.merge(df_res, on = 'index', how='left')\n",
        "df_org.to_excel(str(path))"
      ],
      "metadata": {
        "id": "8gHd3Bl3Azw8"
      },
      "execution_count": null,
      "outputs": []
    },
    {
      "cell_type": "markdown",
      "source": [
        "#Ensemble model w/o threshold"
      ],
      "metadata": {
        "id": "YwAI6Uh0RorQ"
      }
    },
    {
      "cell_type": "code",
      "source": [
        "path = \"/content/drive/MyDrive/Colab Notebooks/reddit_IAA/plots_TNE/Polaris/PolarIs1-VaccRed_Emo-Ensmbl.xlsx\""
      ],
      "metadata": {
        "id": "yNXp0Jy9RorS"
      },
      "execution_count": null,
      "outputs": []
    },
    {
      "cell_type": "code",
      "source": [
        "df = load_data(path)\n",
        "# \"/content/drive/MyDrive/Colab Notebooks/reddit_IAA/plots_TNE/Polaris/PolarIs2-VacRed_Emo-IMA.xlsx\"\n",
        "# /content/drive/MyDrive/Colab Notebooks/reddit_IAA/plots_TNE/Polaris/PolarIs-CChRed_Emo-IMA.xlsx\n",
        "# /content/drive/MyDrive/Colab Notebooks/reddit_IAA/plots_TNE/Polaris/PolarIs-CChTw_Emo-IMA.xlsx\n",
        "# \"/content/drive/MyDrive/Colab Notebooks/reddit_IAA/plots_TNE/Polaris/PolarIs1-VaccRed_Emo-Ensmbl.xlsx\"\n",
        "print(df.shape)\n",
        "df.head(2)"
      ],
      "metadata": {
        "colab": {
          "base_uri": "https://localhost:8080/",
          "height": 419
        },
        "outputId": "05f440b5-e112-43be-fefe-f263ac0eab38",
        "id": "xol5uxjNRorT"
      },
      "execution_count": null,
      "outputs": [
        {
          "output_type": "stream",
          "name": "stdout",
          "text": [
            "(2373, 26)\n"
          ]
        },
        {
          "output_type": "execute_result",
          "data": {
            "text/plain": [
              "                                                                 sentence  \\\n",
              "0  Now, double vaccinated dying from COVID are blaming unvaccinated ones.   \n",
              "1                                 It really is starting to make no sense.   \n",
              "\n",
              "   original_id            source  \\\n",
              "0            0  Effective_Ad4588   \n",
              "1            0  Effective_Ad4588   \n",
              "\n",
              "                                                               clean_Text  \\\n",
              "0  now, double vaccinated dying from covid are blaming unvaccinated ones.   \n",
              "1                                 it really is starting to make no sense.   \n",
              "\n",
              "  EMO_suvrobaner/distilbert-base-uncased-finetuned-emotion-en-tweets  \\\n",
              "0                                                              anger   \n",
              "1                                                               fear   \n",
              "\n",
              "   CF_suvrobaner/distilbert-base-uncased-finetuned-emotion-en-tweets  \\\n",
              "0                                                           0.626292   \n",
              "1                                                           0.650890   \n",
              "\n",
              "  EMO_stevevee0101/distilbert-base-uncased-finetuned-emotion  \\\n",
              "0                                                    LABEL_3   \n",
              "1                                                    LABEL_4   \n",
              "\n",
              "   CF_stevevee0101/distilbert-base-uncased-finetuned-emotion  \\\n",
              "0                                                   0.445884   \n",
              "1                                                   0.260814   \n",
              "\n",
              "  EMO_Emanuel/bertweet-emotion-base  CF_Emanuel/bertweet-emotion-base  \\\n",
              "0                           sadness                          0.913226   \n",
              "1                               joy                          0.592781   \n",
              "\n",
              "  EMO_bhadresh-savani/albert-base-v2-emotion  \\\n",
              "0                                      anger   \n",
              "1                                      anger   \n",
              "\n",
              "   CF_bhadresh-savani/albert-base-v2-emotion  \\\n",
              "0                                   0.757638   \n",
              "1                                   0.608296   \n",
              "\n",
              "  EMO_Emanuel/twitter-emotion-deberta-v3-base  \\\n",
              "0                                        fear   \n",
              "1                                         joy   \n",
              "\n",
              "   CF_Emanuel/twitter-emotion-deberta-v3-base  \\\n",
              "0                                    0.308491   \n",
              "1                                    0.767220   \n",
              "\n",
              "  EMO_michauhl/distilbert-base-uncased-finetuned-emotion  \\\n",
              "0                                                  anger   \n",
              "1                                                  anger   \n",
              "\n",
              "   CF_michauhl/distilbert-base-uncased-finetuned-emotion  \\\n",
              "0                                               0.689712   \n",
              "1                                               0.339555   \n",
              "\n",
              "  EMO_Zia/distilbert-base-uncased-finetuned-emotion  \\\n",
              "0                                           LABEL_0   \n",
              "1                                           LABEL_1   \n",
              "\n",
              "   CF_Zia/distilbert-base-uncased-finetuned-emotion  \\\n",
              "0                                          0.820676   \n",
              "1                                          0.654405   \n",
              "\n",
              "  EMO_jkhan447/sentiment-model-sample-5-emotion  \\\n",
              "0                                       LABEL_3   \n",
              "1                                       LABEL_0   \n",
              "\n",
              "   CF_jkhan447/sentiment-model-sample-5-emotion  \\\n",
              "0                                      0.983253   \n",
              "1                                      0.776056   \n",
              "\n",
              "  EMO_bhadresh-savani/distilbert-base-uncased-emotion  \\\n",
              "0                                               anger   \n",
              "1                                             sadness   \n",
              "\n",
              "   CF_bhadresh-savani/distilbert-base-uncased-emotion  \\\n",
              "0                                            0.793100   \n",
              "1                                            0.450886   \n",
              "\n",
              "  EMO_bhadresh-savani/distilbert-base-uncased-finetuned-emotion  \\\n",
              "0                                                       sadness   \n",
              "1                                                           joy   \n",
              "\n",
              "   CF_bhadresh-savani/distilbert-base-uncased-finetuned-emotion  \\\n",
              "0                                                      0.426712   \n",
              "1                                                      0.588468   \n",
              "\n",
              "  EMO_j-hartmann/emotion-english-distilroberta-base  \\\n",
              "0                                             anger   \n",
              "1                                           sadness   \n",
              "\n",
              "   CF_j-hartmann/emotion-english-distilroberta-base  \n",
              "0                                          0.487290  \n",
              "1                                          0.415946  "
            ],
            "text/html": [
              "\n",
              "  <div id=\"df-ea85db79-f50c-4ca9-8018-3a24aa117afb\">\n",
              "    <div class=\"colab-df-container\">\n",
              "      <div>\n",
              "<style scoped>\n",
              "    .dataframe tbody tr th:only-of-type {\n",
              "        vertical-align: middle;\n",
              "    }\n",
              "\n",
              "    .dataframe tbody tr th {\n",
              "        vertical-align: top;\n",
              "    }\n",
              "\n",
              "    .dataframe thead th {\n",
              "        text-align: right;\n",
              "    }\n",
              "</style>\n",
              "<table border=\"1\" class=\"dataframe\">\n",
              "  <thead>\n",
              "    <tr style=\"text-align: right;\">\n",
              "      <th></th>\n",
              "      <th>sentence</th>\n",
              "      <th>original_id</th>\n",
              "      <th>source</th>\n",
              "      <th>clean_Text</th>\n",
              "      <th>EMO_suvrobaner/distilbert-base-uncased-finetuned-emotion-en-tweets</th>\n",
              "      <th>CF_suvrobaner/distilbert-base-uncased-finetuned-emotion-en-tweets</th>\n",
              "      <th>EMO_stevevee0101/distilbert-base-uncased-finetuned-emotion</th>\n",
              "      <th>CF_stevevee0101/distilbert-base-uncased-finetuned-emotion</th>\n",
              "      <th>EMO_Emanuel/bertweet-emotion-base</th>\n",
              "      <th>CF_Emanuel/bertweet-emotion-base</th>\n",
              "      <th>EMO_bhadresh-savani/albert-base-v2-emotion</th>\n",
              "      <th>CF_bhadresh-savani/albert-base-v2-emotion</th>\n",
              "      <th>EMO_Emanuel/twitter-emotion-deberta-v3-base</th>\n",
              "      <th>CF_Emanuel/twitter-emotion-deberta-v3-base</th>\n",
              "      <th>EMO_michauhl/distilbert-base-uncased-finetuned-emotion</th>\n",
              "      <th>CF_michauhl/distilbert-base-uncased-finetuned-emotion</th>\n",
              "      <th>EMO_Zia/distilbert-base-uncased-finetuned-emotion</th>\n",
              "      <th>CF_Zia/distilbert-base-uncased-finetuned-emotion</th>\n",
              "      <th>EMO_jkhan447/sentiment-model-sample-5-emotion</th>\n",
              "      <th>CF_jkhan447/sentiment-model-sample-5-emotion</th>\n",
              "      <th>EMO_bhadresh-savani/distilbert-base-uncased-emotion</th>\n",
              "      <th>CF_bhadresh-savani/distilbert-base-uncased-emotion</th>\n",
              "      <th>EMO_bhadresh-savani/distilbert-base-uncased-finetuned-emotion</th>\n",
              "      <th>CF_bhadresh-savani/distilbert-base-uncased-finetuned-emotion</th>\n",
              "      <th>EMO_j-hartmann/emotion-english-distilroberta-base</th>\n",
              "      <th>CF_j-hartmann/emotion-english-distilroberta-base</th>\n",
              "    </tr>\n",
              "  </thead>\n",
              "  <tbody>\n",
              "    <tr>\n",
              "      <th>0</th>\n",
              "      <td>Now, double vaccinated dying from COVID are blaming unvaccinated ones.</td>\n",
              "      <td>0</td>\n",
              "      <td>Effective_Ad4588</td>\n",
              "      <td>now, double vaccinated dying from covid are blaming unvaccinated ones.</td>\n",
              "      <td>anger</td>\n",
              "      <td>0.626292</td>\n",
              "      <td>LABEL_3</td>\n",
              "      <td>0.445884</td>\n",
              "      <td>sadness</td>\n",
              "      <td>0.913226</td>\n",
              "      <td>anger</td>\n",
              "      <td>0.757638</td>\n",
              "      <td>fear</td>\n",
              "      <td>0.308491</td>\n",
              "      <td>anger</td>\n",
              "      <td>0.689712</td>\n",
              "      <td>LABEL_0</td>\n",
              "      <td>0.820676</td>\n",
              "      <td>LABEL_3</td>\n",
              "      <td>0.983253</td>\n",
              "      <td>anger</td>\n",
              "      <td>0.793100</td>\n",
              "      <td>sadness</td>\n",
              "      <td>0.426712</td>\n",
              "      <td>anger</td>\n",
              "      <td>0.487290</td>\n",
              "    </tr>\n",
              "    <tr>\n",
              "      <th>1</th>\n",
              "      <td>It really is starting to make no sense.</td>\n",
              "      <td>0</td>\n",
              "      <td>Effective_Ad4588</td>\n",
              "      <td>it really is starting to make no sense.</td>\n",
              "      <td>fear</td>\n",
              "      <td>0.650890</td>\n",
              "      <td>LABEL_4</td>\n",
              "      <td>0.260814</td>\n",
              "      <td>joy</td>\n",
              "      <td>0.592781</td>\n",
              "      <td>anger</td>\n",
              "      <td>0.608296</td>\n",
              "      <td>joy</td>\n",
              "      <td>0.767220</td>\n",
              "      <td>anger</td>\n",
              "      <td>0.339555</td>\n",
              "      <td>LABEL_1</td>\n",
              "      <td>0.654405</td>\n",
              "      <td>LABEL_0</td>\n",
              "      <td>0.776056</td>\n",
              "      <td>sadness</td>\n",
              "      <td>0.450886</td>\n",
              "      <td>joy</td>\n",
              "      <td>0.588468</td>\n",
              "      <td>sadness</td>\n",
              "      <td>0.415946</td>\n",
              "    </tr>\n",
              "  </tbody>\n",
              "</table>\n",
              "</div>\n",
              "      <button class=\"colab-df-convert\" onclick=\"convertToInteractive('df-ea85db79-f50c-4ca9-8018-3a24aa117afb')\"\n",
              "              title=\"Convert this dataframe to an interactive table.\"\n",
              "              style=\"display:none;\">\n",
              "        \n",
              "  <svg xmlns=\"http://www.w3.org/2000/svg\" height=\"24px\"viewBox=\"0 0 24 24\"\n",
              "       width=\"24px\">\n",
              "    <path d=\"M0 0h24v24H0V0z\" fill=\"none\"/>\n",
              "    <path d=\"M18.56 5.44l.94 2.06.94-2.06 2.06-.94-2.06-.94-.94-2.06-.94 2.06-2.06.94zm-11 1L8.5 8.5l.94-2.06 2.06-.94-2.06-.94L8.5 2.5l-.94 2.06-2.06.94zm10 10l.94 2.06.94-2.06 2.06-.94-2.06-.94-.94-2.06-.94 2.06-2.06.94z\"/><path d=\"M17.41 7.96l-1.37-1.37c-.4-.4-.92-.59-1.43-.59-.52 0-1.04.2-1.43.59L10.3 9.45l-7.72 7.72c-.78.78-.78 2.05 0 2.83L4 21.41c.39.39.9.59 1.41.59.51 0 1.02-.2 1.41-.59l7.78-7.78 2.81-2.81c.8-.78.8-2.07 0-2.86zM5.41 20L4 18.59l7.72-7.72 1.47 1.35L5.41 20z\"/>\n",
              "  </svg>\n",
              "      </button>\n",
              "      \n",
              "  <style>\n",
              "    .colab-df-container {\n",
              "      display:flex;\n",
              "      flex-wrap:wrap;\n",
              "      gap: 12px;\n",
              "    }\n",
              "\n",
              "    .colab-df-convert {\n",
              "      background-color: #E8F0FE;\n",
              "      border: none;\n",
              "      border-radius: 50%;\n",
              "      cursor: pointer;\n",
              "      display: none;\n",
              "      fill: #1967D2;\n",
              "      height: 32px;\n",
              "      padding: 0 0 0 0;\n",
              "      width: 32px;\n",
              "    }\n",
              "\n",
              "    .colab-df-convert:hover {\n",
              "      background-color: #E2EBFA;\n",
              "      box-shadow: 0px 1px 2px rgba(60, 64, 67, 0.3), 0px 1px 3px 1px rgba(60, 64, 67, 0.15);\n",
              "      fill: #174EA6;\n",
              "    }\n",
              "\n",
              "    [theme=dark] .colab-df-convert {\n",
              "      background-color: #3B4455;\n",
              "      fill: #D2E3FC;\n",
              "    }\n",
              "\n",
              "    [theme=dark] .colab-df-convert:hover {\n",
              "      background-color: #434B5C;\n",
              "      box-shadow: 0px 1px 3px 1px rgba(0, 0, 0, 0.15);\n",
              "      filter: drop-shadow(0px 1px 2px rgba(0, 0, 0, 0.3));\n",
              "      fill: #FFFFFF;\n",
              "    }\n",
              "  </style>\n",
              "\n",
              "      <script>\n",
              "        const buttonEl =\n",
              "          document.querySelector('#df-ea85db79-f50c-4ca9-8018-3a24aa117afb button.colab-df-convert');\n",
              "        buttonEl.style.display =\n",
              "          google.colab.kernel.accessAllowed ? 'block' : 'none';\n",
              "\n",
              "        async function convertToInteractive(key) {\n",
              "          const element = document.querySelector('#df-ea85db79-f50c-4ca9-8018-3a24aa117afb');\n",
              "          const dataTable =\n",
              "            await google.colab.kernel.invokeFunction('convertToInteractive',\n",
              "                                                     [key], {});\n",
              "          if (!dataTable) return;\n",
              "\n",
              "          const docLinkHtml = 'Like what you see? Visit the ' +\n",
              "            '<a target=\"_blank\" href=https://colab.research.google.com/notebooks/data_table.ipynb>data table notebook</a>'\n",
              "            + ' to learn more about interactive tables.';\n",
              "          element.innerHTML = '';\n",
              "          dataTable['output_type'] = 'display_data';\n",
              "          await google.colab.output.renderOutput(dataTable, element);\n",
              "          const docLink = document.createElement('div');\n",
              "          docLink.innerHTML = docLinkHtml;\n",
              "          element.appendChild(docLink);\n",
              "        }\n",
              "      </script>\n",
              "    </div>\n",
              "  </div>\n",
              "  "
            ]
          },
          "metadata": {},
          "execution_count": 14
        }
      ]
    },
    {
      "cell_type": "markdown",
      "source": [
        "##calculate label"
      ],
      "metadata": {
        "id": "b_hlRuEeRorU"
      }
    },
    {
      "cell_type": "code",
      "source": [
        "df = df.reset_index()"
      ],
      "metadata": {
        "id": "VyMMORk2RorV"
      },
      "execution_count": null,
      "outputs": []
    },
    {
      "cell_type": "code",
      "source": [
        "mdls = list(df.filter(regex='EMO_').columns)\n",
        "mdls[:3]"
      ],
      "metadata": {
        "colab": {
          "base_uri": "https://localhost:8080/"
        },
        "outputId": "1d5af192-a167-4696-f182-b36530a177bb",
        "id": "buHhmSVHRorV"
      },
      "execution_count": null,
      "outputs": [
        {
          "output_type": "execute_result",
          "data": {
            "text/plain": [
              "['EMO_suvrobaner/distilbert-base-uncased-finetuned-emotion-en-tweets',\n",
              " 'EMO_stevevee0101/distilbert-base-uncased-finetuned-emotion',\n",
              " 'EMO_Emanuel/bertweet-emotion-base']"
            ]
          },
          "metadata": {},
          "execution_count": 16
        }
      ]
    },
    {
      "cell_type": "code",
      "source": [
        "len(mdls)"
      ],
      "metadata": {
        "colab": {
          "base_uri": "https://localhost:8080/"
        },
        "outputId": "0aadb3c8-31bb-4709-ebbb-c0d3e1321ebf",
        "id": "Zp8Q9D87RorW"
      },
      "execution_count": null,
      "outputs": [
        {
          "output_type": "execute_result",
          "data": {
            "text/plain": [
              "11"
            ]
          },
          "metadata": {},
          "execution_count": 17
        }
      ]
    },
    {
      "cell_type": "code",
      "source": [
        "mdls2 = []\n",
        "for m in mdls:\n",
        "  print(m)\n",
        "  print(df[m].unique(), '\\n')\n",
        "  if not 'LABEL_0' in df[m].unique():\n",
        "    mdls2.append(m)\n",
        "mdls2"
      ],
      "metadata": {
        "colab": {
          "base_uri": "https://localhost:8080/"
        },
        "outputId": "ff51b4b7-19b3-4adf-fac6-5fd0c343202b",
        "id": "AD4_z2fdRorW"
      },
      "execution_count": null,
      "outputs": [
        {
          "output_type": "stream",
          "name": "stdout",
          "text": [
            "EMO_suvrobaner/distilbert-base-uncased-finetuned-emotion-en-tweets\n",
            "['anger' 'fear' 'sadness' 'joy' 'surprise' 'love'] \n",
            "\n",
            "EMO_stevevee0101/distilbert-base-uncased-finetuned-emotion\n",
            "['LABEL_3' 'LABEL_4' 'LABEL_0' 'LABEL_1' 'LABEL_5' 'LABEL_2'] \n",
            "\n",
            "EMO_Emanuel/bertweet-emotion-base\n",
            "['sadness' 'joy' 'anger' 'fear' 'surprise' 'love'] \n",
            "\n",
            "EMO_bhadresh-savani/albert-base-v2-emotion\n",
            "['anger' 'sadness' 'fear' 'joy' 'surprise' 'love'] \n",
            "\n",
            "EMO_Emanuel/twitter-emotion-deberta-v3-base\n",
            "['fear' 'joy' 'sadness' 'anger' 'surprise' 'love'] \n",
            "\n",
            "EMO_michauhl/distilbert-base-uncased-finetuned-emotion\n",
            "['anger' 'fear' 'sadness' 'joy' 'surprise' 'love'] \n",
            "\n",
            "EMO_Zia/distilbert-base-uncased-finetuned-emotion\n",
            "['LABEL_0' 'LABEL_1' 'LABEL_4' 'LABEL_3' 'LABEL_5' 'LABEL_2'] \n",
            "\n",
            "EMO_jkhan447/sentiment-model-sample-5-emotion\n",
            "['LABEL_3' 'LABEL_0' 'LABEL_4' 'LABEL_1' 'LABEL_2' 'LABEL_5'] \n",
            "\n",
            "EMO_bhadresh-savani/distilbert-base-uncased-emotion\n",
            "['anger' 'sadness' 'fear' 'joy' 'surprise' 'love'] \n",
            "\n",
            "EMO_bhadresh-savani/distilbert-base-uncased-finetuned-emotion\n",
            "['sadness' 'joy' 'fear' 'anger' 'surprise' 'love'] \n",
            "\n",
            "EMO_j-hartmann/emotion-english-distilroberta-base\n",
            "['anger' 'sadness' 'neutral' 'fear' 'surprise' 'disgust' 'joy'] \n",
            "\n"
          ]
        },
        {
          "output_type": "execute_result",
          "data": {
            "text/plain": [
              "['EMO_suvrobaner/distilbert-base-uncased-finetuned-emotion-en-tweets',\n",
              " 'EMO_Emanuel/bertweet-emotion-base',\n",
              " 'EMO_bhadresh-savani/albert-base-v2-emotion',\n",
              " 'EMO_Emanuel/twitter-emotion-deberta-v3-base',\n",
              " 'EMO_michauhl/distilbert-base-uncased-finetuned-emotion',\n",
              " 'EMO_bhadresh-savani/distilbert-base-uncased-emotion',\n",
              " 'EMO_bhadresh-savani/distilbert-base-uncased-finetuned-emotion',\n",
              " 'EMO_j-hartmann/emotion-english-distilroberta-base']"
            ]
          },
          "metadata": {},
          "execution_count": 18
        }
      ]
    },
    {
      "cell_type": "code",
      "source": [
        "mdls = mdls2\n",
        "len(mdls)"
      ],
      "metadata": {
        "colab": {
          "base_uri": "https://localhost:8080/"
        },
        "outputId": "c5617239-b4b9-4ac0-d8be-40a039f9b730",
        "id": "Y0mljK_FRorX"
      },
      "execution_count": null,
      "outputs": [
        {
          "output_type": "execute_result",
          "data": {
            "text/plain": [
              "8"
            ]
          },
          "metadata": {},
          "execution_count": 19
        }
      ]
    },
    {
      "cell_type": "code",
      "source": [
        "dfm = df.melt(\"index\", mdls)\n",
        "dfm.columns = ['index', 'model', 'label_ensemble']\n",
        "dfm.head(2)"
      ],
      "metadata": {
        "colab": {
          "base_uri": "https://localhost:8080/",
          "height": 112
        },
        "outputId": "11f38ae3-c377-4e1a-939d-7eb6e4989e5d",
        "id": "tcaPneT3RorY"
      },
      "execution_count": null,
      "outputs": [
        {
          "output_type": "execute_result",
          "data": {
            "text/plain": [
              "   index                                                               model  \\\n",
              "0      0  EMO_suvrobaner/distilbert-base-uncased-finetuned-emotion-en-tweets   \n",
              "1      1  EMO_suvrobaner/distilbert-base-uncased-finetuned-emotion-en-tweets   \n",
              "\n",
              "  label_ensemble  \n",
              "0          anger  \n",
              "1           fear  "
            ],
            "text/html": [
              "\n",
              "  <div id=\"df-05ffe0f3-92ef-47d6-9095-3f6ef2e9863e\">\n",
              "    <div class=\"colab-df-container\">\n",
              "      <div>\n",
              "<style scoped>\n",
              "    .dataframe tbody tr th:only-of-type {\n",
              "        vertical-align: middle;\n",
              "    }\n",
              "\n",
              "    .dataframe tbody tr th {\n",
              "        vertical-align: top;\n",
              "    }\n",
              "\n",
              "    .dataframe thead th {\n",
              "        text-align: right;\n",
              "    }\n",
              "</style>\n",
              "<table border=\"1\" class=\"dataframe\">\n",
              "  <thead>\n",
              "    <tr style=\"text-align: right;\">\n",
              "      <th></th>\n",
              "      <th>index</th>\n",
              "      <th>model</th>\n",
              "      <th>label_ensemble</th>\n",
              "    </tr>\n",
              "  </thead>\n",
              "  <tbody>\n",
              "    <tr>\n",
              "      <th>0</th>\n",
              "      <td>0</td>\n",
              "      <td>EMO_suvrobaner/distilbert-base-uncased-finetuned-emotion-en-tweets</td>\n",
              "      <td>anger</td>\n",
              "    </tr>\n",
              "    <tr>\n",
              "      <th>1</th>\n",
              "      <td>1</td>\n",
              "      <td>EMO_suvrobaner/distilbert-base-uncased-finetuned-emotion-en-tweets</td>\n",
              "      <td>fear</td>\n",
              "    </tr>\n",
              "  </tbody>\n",
              "</table>\n",
              "</div>\n",
              "      <button class=\"colab-df-convert\" onclick=\"convertToInteractive('df-05ffe0f3-92ef-47d6-9095-3f6ef2e9863e')\"\n",
              "              title=\"Convert this dataframe to an interactive table.\"\n",
              "              style=\"display:none;\">\n",
              "        \n",
              "  <svg xmlns=\"http://www.w3.org/2000/svg\" height=\"24px\"viewBox=\"0 0 24 24\"\n",
              "       width=\"24px\">\n",
              "    <path d=\"M0 0h24v24H0V0z\" fill=\"none\"/>\n",
              "    <path d=\"M18.56 5.44l.94 2.06.94-2.06 2.06-.94-2.06-.94-.94-2.06-.94 2.06-2.06.94zm-11 1L8.5 8.5l.94-2.06 2.06-.94-2.06-.94L8.5 2.5l-.94 2.06-2.06.94zm10 10l.94 2.06.94-2.06 2.06-.94-2.06-.94-.94-2.06-.94 2.06-2.06.94z\"/><path d=\"M17.41 7.96l-1.37-1.37c-.4-.4-.92-.59-1.43-.59-.52 0-1.04.2-1.43.59L10.3 9.45l-7.72 7.72c-.78.78-.78 2.05 0 2.83L4 21.41c.39.39.9.59 1.41.59.51 0 1.02-.2 1.41-.59l7.78-7.78 2.81-2.81c.8-.78.8-2.07 0-2.86zM5.41 20L4 18.59l7.72-7.72 1.47 1.35L5.41 20z\"/>\n",
              "  </svg>\n",
              "      </button>\n",
              "      \n",
              "  <style>\n",
              "    .colab-df-container {\n",
              "      display:flex;\n",
              "      flex-wrap:wrap;\n",
              "      gap: 12px;\n",
              "    }\n",
              "\n",
              "    .colab-df-convert {\n",
              "      background-color: #E8F0FE;\n",
              "      border: none;\n",
              "      border-radius: 50%;\n",
              "      cursor: pointer;\n",
              "      display: none;\n",
              "      fill: #1967D2;\n",
              "      height: 32px;\n",
              "      padding: 0 0 0 0;\n",
              "      width: 32px;\n",
              "    }\n",
              "\n",
              "    .colab-df-convert:hover {\n",
              "      background-color: #E2EBFA;\n",
              "      box-shadow: 0px 1px 2px rgba(60, 64, 67, 0.3), 0px 1px 3px 1px rgba(60, 64, 67, 0.15);\n",
              "      fill: #174EA6;\n",
              "    }\n",
              "\n",
              "    [theme=dark] .colab-df-convert {\n",
              "      background-color: #3B4455;\n",
              "      fill: #D2E3FC;\n",
              "    }\n",
              "\n",
              "    [theme=dark] .colab-df-convert:hover {\n",
              "      background-color: #434B5C;\n",
              "      box-shadow: 0px 1px 3px 1px rgba(0, 0, 0, 0.15);\n",
              "      filter: drop-shadow(0px 1px 2px rgba(0, 0, 0, 0.3));\n",
              "      fill: #FFFFFF;\n",
              "    }\n",
              "  </style>\n",
              "\n",
              "      <script>\n",
              "        const buttonEl =\n",
              "          document.querySelector('#df-05ffe0f3-92ef-47d6-9095-3f6ef2e9863e button.colab-df-convert');\n",
              "        buttonEl.style.display =\n",
              "          google.colab.kernel.accessAllowed ? 'block' : 'none';\n",
              "\n",
              "        async function convertToInteractive(key) {\n",
              "          const element = document.querySelector('#df-05ffe0f3-92ef-47d6-9095-3f6ef2e9863e');\n",
              "          const dataTable =\n",
              "            await google.colab.kernel.invokeFunction('convertToInteractive',\n",
              "                                                     [key], {});\n",
              "          if (!dataTable) return;\n",
              "\n",
              "          const docLinkHtml = 'Like what you see? Visit the ' +\n",
              "            '<a target=\"_blank\" href=https://colab.research.google.com/notebooks/data_table.ipynb>data table notebook</a>'\n",
              "            + ' to learn more about interactive tables.';\n",
              "          element.innerHTML = '';\n",
              "          dataTable['output_type'] = 'display_data';\n",
              "          await google.colab.output.renderOutput(dataTable, element);\n",
              "          const docLink = document.createElement('div');\n",
              "          docLink.innerHTML = docLinkHtml;\n",
              "          element.appendChild(docLink);\n",
              "        }\n",
              "      </script>\n",
              "    </div>\n",
              "  </div>\n",
              "  "
            ]
          },
          "metadata": {},
          "execution_count": 20
        }
      ]
    },
    {
      "cell_type": "code",
      "source": [
        "maj_dev = pd.DataFrame(dfm.groupby(['index'], as_index = True)['label_ensemble'].value_counts())\n",
        "maj_dev.columns = ['label_size']\n",
        "maj_dev = maj_dev.reset_index()\n",
        "maj_dev = maj_dev.sort_values(by = ['index', 'label_size', 'label_ensemble'], ascending = [True, False, False])\n",
        "maj_dev.head()"
      ],
      "metadata": {
        "colab": {
          "base_uri": "https://localhost:8080/",
          "height": 206
        },
        "outputId": "28d0cb7b-669a-4ab1-b006-49c6ff81cfda",
        "id": "VUJV1eG5RorY"
      },
      "execution_count": null,
      "outputs": [
        {
          "output_type": "execute_result",
          "data": {
            "text/plain": [
              "   index label_ensemble  label_size\n",
              "0      0          anger           5\n",
              "1      0        sadness           2\n",
              "2      0           fear           1\n",
              "3      1            joy           3\n",
              "5      1        sadness           2"
            ],
            "text/html": [
              "\n",
              "  <div id=\"df-45ff9e7e-0b0b-4aac-8216-6bf0b718d3b7\">\n",
              "    <div class=\"colab-df-container\">\n",
              "      <div>\n",
              "<style scoped>\n",
              "    .dataframe tbody tr th:only-of-type {\n",
              "        vertical-align: middle;\n",
              "    }\n",
              "\n",
              "    .dataframe tbody tr th {\n",
              "        vertical-align: top;\n",
              "    }\n",
              "\n",
              "    .dataframe thead th {\n",
              "        text-align: right;\n",
              "    }\n",
              "</style>\n",
              "<table border=\"1\" class=\"dataframe\">\n",
              "  <thead>\n",
              "    <tr style=\"text-align: right;\">\n",
              "      <th></th>\n",
              "      <th>index</th>\n",
              "      <th>label_ensemble</th>\n",
              "      <th>label_size</th>\n",
              "    </tr>\n",
              "  </thead>\n",
              "  <tbody>\n",
              "    <tr>\n",
              "      <th>0</th>\n",
              "      <td>0</td>\n",
              "      <td>anger</td>\n",
              "      <td>5</td>\n",
              "    </tr>\n",
              "    <tr>\n",
              "      <th>1</th>\n",
              "      <td>0</td>\n",
              "      <td>sadness</td>\n",
              "      <td>2</td>\n",
              "    </tr>\n",
              "    <tr>\n",
              "      <th>2</th>\n",
              "      <td>0</td>\n",
              "      <td>fear</td>\n",
              "      <td>1</td>\n",
              "    </tr>\n",
              "    <tr>\n",
              "      <th>3</th>\n",
              "      <td>1</td>\n",
              "      <td>joy</td>\n",
              "      <td>3</td>\n",
              "    </tr>\n",
              "    <tr>\n",
              "      <th>5</th>\n",
              "      <td>1</td>\n",
              "      <td>sadness</td>\n",
              "      <td>2</td>\n",
              "    </tr>\n",
              "  </tbody>\n",
              "</table>\n",
              "</div>\n",
              "      <button class=\"colab-df-convert\" onclick=\"convertToInteractive('df-45ff9e7e-0b0b-4aac-8216-6bf0b718d3b7')\"\n",
              "              title=\"Convert this dataframe to an interactive table.\"\n",
              "              style=\"display:none;\">\n",
              "        \n",
              "  <svg xmlns=\"http://www.w3.org/2000/svg\" height=\"24px\"viewBox=\"0 0 24 24\"\n",
              "       width=\"24px\">\n",
              "    <path d=\"M0 0h24v24H0V0z\" fill=\"none\"/>\n",
              "    <path d=\"M18.56 5.44l.94 2.06.94-2.06 2.06-.94-2.06-.94-.94-2.06-.94 2.06-2.06.94zm-11 1L8.5 8.5l.94-2.06 2.06-.94-2.06-.94L8.5 2.5l-.94 2.06-2.06.94zm10 10l.94 2.06.94-2.06 2.06-.94-2.06-.94-.94-2.06-.94 2.06-2.06.94z\"/><path d=\"M17.41 7.96l-1.37-1.37c-.4-.4-.92-.59-1.43-.59-.52 0-1.04.2-1.43.59L10.3 9.45l-7.72 7.72c-.78.78-.78 2.05 0 2.83L4 21.41c.39.39.9.59 1.41.59.51 0 1.02-.2 1.41-.59l7.78-7.78 2.81-2.81c.8-.78.8-2.07 0-2.86zM5.41 20L4 18.59l7.72-7.72 1.47 1.35L5.41 20z\"/>\n",
              "  </svg>\n",
              "      </button>\n",
              "      \n",
              "  <style>\n",
              "    .colab-df-container {\n",
              "      display:flex;\n",
              "      flex-wrap:wrap;\n",
              "      gap: 12px;\n",
              "    }\n",
              "\n",
              "    .colab-df-convert {\n",
              "      background-color: #E8F0FE;\n",
              "      border: none;\n",
              "      border-radius: 50%;\n",
              "      cursor: pointer;\n",
              "      display: none;\n",
              "      fill: #1967D2;\n",
              "      height: 32px;\n",
              "      padding: 0 0 0 0;\n",
              "      width: 32px;\n",
              "    }\n",
              "\n",
              "    .colab-df-convert:hover {\n",
              "      background-color: #E2EBFA;\n",
              "      box-shadow: 0px 1px 2px rgba(60, 64, 67, 0.3), 0px 1px 3px 1px rgba(60, 64, 67, 0.15);\n",
              "      fill: #174EA6;\n",
              "    }\n",
              "\n",
              "    [theme=dark] .colab-df-convert {\n",
              "      background-color: #3B4455;\n",
              "      fill: #D2E3FC;\n",
              "    }\n",
              "\n",
              "    [theme=dark] .colab-df-convert:hover {\n",
              "      background-color: #434B5C;\n",
              "      box-shadow: 0px 1px 3px 1px rgba(0, 0, 0, 0.15);\n",
              "      filter: drop-shadow(0px 1px 2px rgba(0, 0, 0, 0.3));\n",
              "      fill: #FFFFFF;\n",
              "    }\n",
              "  </style>\n",
              "\n",
              "      <script>\n",
              "        const buttonEl =\n",
              "          document.querySelector('#df-45ff9e7e-0b0b-4aac-8216-6bf0b718d3b7 button.colab-df-convert');\n",
              "        buttonEl.style.display =\n",
              "          google.colab.kernel.accessAllowed ? 'block' : 'none';\n",
              "\n",
              "        async function convertToInteractive(key) {\n",
              "          const element = document.querySelector('#df-45ff9e7e-0b0b-4aac-8216-6bf0b718d3b7');\n",
              "          const dataTable =\n",
              "            await google.colab.kernel.invokeFunction('convertToInteractive',\n",
              "                                                     [key], {});\n",
              "          if (!dataTable) return;\n",
              "\n",
              "          const docLinkHtml = 'Like what you see? Visit the ' +\n",
              "            '<a target=\"_blank\" href=https://colab.research.google.com/notebooks/data_table.ipynb>data table notebook</a>'\n",
              "            + ' to learn more about interactive tables.';\n",
              "          element.innerHTML = '';\n",
              "          dataTable['output_type'] = 'display_data';\n",
              "          await google.colab.output.renderOutput(dataTable, element);\n",
              "          const docLink = document.createElement('div');\n",
              "          docLink.innerHTML = docLinkHtml;\n",
              "          element.appendChild(docLink);\n",
              "        }\n",
              "      </script>\n",
              "    </div>\n",
              "  </div>\n",
              "  "
            ]
          },
          "metadata": {},
          "execution_count": 21
        }
      ]
    },
    {
      "cell_type": "code",
      "source": [
        "texts = []\n",
        "hard = []\n",
        "cnt = []"
      ],
      "metadata": {
        "id": "ewq7PdgRRorZ"
      },
      "execution_count": null,
      "outputs": []
    },
    {
      "cell_type": "code",
      "source": [
        "for t in maj_dev['index'].unique():\n",
        "  texts.append(t)\n",
        "  em = maj_dev[maj_dev['index'] == t]['label_ensemble'].iloc[0]\n",
        "  hard.append(em)\n",
        "  num = round(maj_dev[maj_dev['index'] == t]['label_size'].iloc[0] / len(mdls), 2)\n",
        "  cnt.append(num)\n",
        "len(cnt), len(hard)"
      ],
      "metadata": {
        "colab": {
          "base_uri": "https://localhost:8080/"
        },
        "outputId": "189edc7d-b638-435d-ea6f-4292a33fc7ee",
        "id": "2mtpIwjwRora"
      },
      "execution_count": null,
      "outputs": [
        {
          "output_type": "execute_result",
          "data": {
            "text/plain": [
              "(2373, 2373)"
            ]
          },
          "metadata": {},
          "execution_count": 23
        }
      ]
    },
    {
      "cell_type": "code",
      "source": [
        "df_res = pd.DataFrame({'index': texts, 'label_ensemble': hard, 'cf_ensemble': cnt})\n",
        "df_res.head()"
      ],
      "metadata": {
        "colab": {
          "base_uri": "https://localhost:8080/",
          "height": 206
        },
        "outputId": "2dd2ac9c-753a-4c08-c700-277b78b49f90",
        "id": "cbOIb_NORora"
      },
      "execution_count": null,
      "outputs": [
        {
          "output_type": "execute_result",
          "data": {
            "text/plain": [
              "   index label_ensemble  cf_ensemble\n",
              "0      0          anger         0.62\n",
              "1      1            joy         0.38\n",
              "2      2           fear         0.62\n",
              "3      3        sadness         0.88\n",
              "4      4        sadness         0.88"
            ],
            "text/html": [
              "\n",
              "  <div id=\"df-e789413c-3f22-4669-baa4-e77da3f6f108\">\n",
              "    <div class=\"colab-df-container\">\n",
              "      <div>\n",
              "<style scoped>\n",
              "    .dataframe tbody tr th:only-of-type {\n",
              "        vertical-align: middle;\n",
              "    }\n",
              "\n",
              "    .dataframe tbody tr th {\n",
              "        vertical-align: top;\n",
              "    }\n",
              "\n",
              "    .dataframe thead th {\n",
              "        text-align: right;\n",
              "    }\n",
              "</style>\n",
              "<table border=\"1\" class=\"dataframe\">\n",
              "  <thead>\n",
              "    <tr style=\"text-align: right;\">\n",
              "      <th></th>\n",
              "      <th>index</th>\n",
              "      <th>label_ensemble</th>\n",
              "      <th>cf_ensemble</th>\n",
              "    </tr>\n",
              "  </thead>\n",
              "  <tbody>\n",
              "    <tr>\n",
              "      <th>0</th>\n",
              "      <td>0</td>\n",
              "      <td>anger</td>\n",
              "      <td>0.62</td>\n",
              "    </tr>\n",
              "    <tr>\n",
              "      <th>1</th>\n",
              "      <td>1</td>\n",
              "      <td>joy</td>\n",
              "      <td>0.38</td>\n",
              "    </tr>\n",
              "    <tr>\n",
              "      <th>2</th>\n",
              "      <td>2</td>\n",
              "      <td>fear</td>\n",
              "      <td>0.62</td>\n",
              "    </tr>\n",
              "    <tr>\n",
              "      <th>3</th>\n",
              "      <td>3</td>\n",
              "      <td>sadness</td>\n",
              "      <td>0.88</td>\n",
              "    </tr>\n",
              "    <tr>\n",
              "      <th>4</th>\n",
              "      <td>4</td>\n",
              "      <td>sadness</td>\n",
              "      <td>0.88</td>\n",
              "    </tr>\n",
              "  </tbody>\n",
              "</table>\n",
              "</div>\n",
              "      <button class=\"colab-df-convert\" onclick=\"convertToInteractive('df-e789413c-3f22-4669-baa4-e77da3f6f108')\"\n",
              "              title=\"Convert this dataframe to an interactive table.\"\n",
              "              style=\"display:none;\">\n",
              "        \n",
              "  <svg xmlns=\"http://www.w3.org/2000/svg\" height=\"24px\"viewBox=\"0 0 24 24\"\n",
              "       width=\"24px\">\n",
              "    <path d=\"M0 0h24v24H0V0z\" fill=\"none\"/>\n",
              "    <path d=\"M18.56 5.44l.94 2.06.94-2.06 2.06-.94-2.06-.94-.94-2.06-.94 2.06-2.06.94zm-11 1L8.5 8.5l.94-2.06 2.06-.94-2.06-.94L8.5 2.5l-.94 2.06-2.06.94zm10 10l.94 2.06.94-2.06 2.06-.94-2.06-.94-.94-2.06-.94 2.06-2.06.94z\"/><path d=\"M17.41 7.96l-1.37-1.37c-.4-.4-.92-.59-1.43-.59-.52 0-1.04.2-1.43.59L10.3 9.45l-7.72 7.72c-.78.78-.78 2.05 0 2.83L4 21.41c.39.39.9.59 1.41.59.51 0 1.02-.2 1.41-.59l7.78-7.78 2.81-2.81c.8-.78.8-2.07 0-2.86zM5.41 20L4 18.59l7.72-7.72 1.47 1.35L5.41 20z\"/>\n",
              "  </svg>\n",
              "      </button>\n",
              "      \n",
              "  <style>\n",
              "    .colab-df-container {\n",
              "      display:flex;\n",
              "      flex-wrap:wrap;\n",
              "      gap: 12px;\n",
              "    }\n",
              "\n",
              "    .colab-df-convert {\n",
              "      background-color: #E8F0FE;\n",
              "      border: none;\n",
              "      border-radius: 50%;\n",
              "      cursor: pointer;\n",
              "      display: none;\n",
              "      fill: #1967D2;\n",
              "      height: 32px;\n",
              "      padding: 0 0 0 0;\n",
              "      width: 32px;\n",
              "    }\n",
              "\n",
              "    .colab-df-convert:hover {\n",
              "      background-color: #E2EBFA;\n",
              "      box-shadow: 0px 1px 2px rgba(60, 64, 67, 0.3), 0px 1px 3px 1px rgba(60, 64, 67, 0.15);\n",
              "      fill: #174EA6;\n",
              "    }\n",
              "\n",
              "    [theme=dark] .colab-df-convert {\n",
              "      background-color: #3B4455;\n",
              "      fill: #D2E3FC;\n",
              "    }\n",
              "\n",
              "    [theme=dark] .colab-df-convert:hover {\n",
              "      background-color: #434B5C;\n",
              "      box-shadow: 0px 1px 3px 1px rgba(0, 0, 0, 0.15);\n",
              "      filter: drop-shadow(0px 1px 2px rgba(0, 0, 0, 0.3));\n",
              "      fill: #FFFFFF;\n",
              "    }\n",
              "  </style>\n",
              "\n",
              "      <script>\n",
              "        const buttonEl =\n",
              "          document.querySelector('#df-e789413c-3f22-4669-baa4-e77da3f6f108 button.colab-df-convert');\n",
              "        buttonEl.style.display =\n",
              "          google.colab.kernel.accessAllowed ? 'block' : 'none';\n",
              "\n",
              "        async function convertToInteractive(key) {\n",
              "          const element = document.querySelector('#df-e789413c-3f22-4669-baa4-e77da3f6f108');\n",
              "          const dataTable =\n",
              "            await google.colab.kernel.invokeFunction('convertToInteractive',\n",
              "                                                     [key], {});\n",
              "          if (!dataTable) return;\n",
              "\n",
              "          const docLinkHtml = 'Like what you see? Visit the ' +\n",
              "            '<a target=\"_blank\" href=https://colab.research.google.com/notebooks/data_table.ipynb>data table notebook</a>'\n",
              "            + ' to learn more about interactive tables.';\n",
              "          element.innerHTML = '';\n",
              "          dataTable['output_type'] = 'display_data';\n",
              "          await google.colab.output.renderOutput(dataTable, element);\n",
              "          const docLink = document.createElement('div');\n",
              "          docLink.innerHTML = docLinkHtml;\n",
              "          element.appendChild(docLink);\n",
              "        }\n",
              "      </script>\n",
              "    </div>\n",
              "  </div>\n",
              "  "
            ]
          },
          "metadata": {},
          "execution_count": 24
        }
      ]
    },
    {
      "cell_type": "code",
      "source": [
        "df_res.label_ensemble.value_counts(normalize=True).round(3)*100"
      ],
      "metadata": {
        "colab": {
          "base_uri": "https://localhost:8080/"
        },
        "outputId": "7581c45b-b3a2-4541-9ba1-21eae06b9d7e",
        "id": "-dmbvxgsRorb"
      },
      "execution_count": null,
      "outputs": [
        {
          "output_type": "execute_result",
          "data": {
            "text/plain": [
              "joy         40.0\n",
              "anger       33.8\n",
              "fear        13.3\n",
              "sadness     11.8\n",
              "surprise     0.6\n",
              "love         0.4\n",
              "Name: label_ensemble, dtype: float64"
            ]
          },
          "metadata": {},
          "execution_count": 25
        }
      ]
    },
    {
      "cell_type": "code",
      "source": [
        "df_res.describe().round(3)"
      ],
      "metadata": {
        "colab": {
          "base_uri": "https://localhost:8080/",
          "height": 300
        },
        "outputId": "0ac5fd5f-a854-49bf-de3b-d7846473dc64",
        "id": "lMnJI1s2Rorb"
      },
      "execution_count": null,
      "outputs": [
        {
          "output_type": "execute_result",
          "data": {
            "text/plain": [
              "          index  cf_ensemble\n",
              "count  2373.000     2373.000\n",
              "mean   1187.257        0.688\n",
              "std     685.596        0.181\n",
              "min       0.000        0.250\n",
              "25%     594.000        0.500\n",
              "50%    1187.000        0.620\n",
              "75%    1781.000        0.880\n",
              "max    2374.000        1.000"
            ],
            "text/html": [
              "\n",
              "  <div id=\"df-6ed4ee22-c8d1-497e-abeb-ef940f904b37\">\n",
              "    <div class=\"colab-df-container\">\n",
              "      <div>\n",
              "<style scoped>\n",
              "    .dataframe tbody tr th:only-of-type {\n",
              "        vertical-align: middle;\n",
              "    }\n",
              "\n",
              "    .dataframe tbody tr th {\n",
              "        vertical-align: top;\n",
              "    }\n",
              "\n",
              "    .dataframe thead th {\n",
              "        text-align: right;\n",
              "    }\n",
              "</style>\n",
              "<table border=\"1\" class=\"dataframe\">\n",
              "  <thead>\n",
              "    <tr style=\"text-align: right;\">\n",
              "      <th></th>\n",
              "      <th>index</th>\n",
              "      <th>cf_ensemble</th>\n",
              "    </tr>\n",
              "  </thead>\n",
              "  <tbody>\n",
              "    <tr>\n",
              "      <th>count</th>\n",
              "      <td>2373.000</td>\n",
              "      <td>2373.000</td>\n",
              "    </tr>\n",
              "    <tr>\n",
              "      <th>mean</th>\n",
              "      <td>1187.257</td>\n",
              "      <td>0.688</td>\n",
              "    </tr>\n",
              "    <tr>\n",
              "      <th>std</th>\n",
              "      <td>685.596</td>\n",
              "      <td>0.181</td>\n",
              "    </tr>\n",
              "    <tr>\n",
              "      <th>min</th>\n",
              "      <td>0.000</td>\n",
              "      <td>0.250</td>\n",
              "    </tr>\n",
              "    <tr>\n",
              "      <th>25%</th>\n",
              "      <td>594.000</td>\n",
              "      <td>0.500</td>\n",
              "    </tr>\n",
              "    <tr>\n",
              "      <th>50%</th>\n",
              "      <td>1187.000</td>\n",
              "      <td>0.620</td>\n",
              "    </tr>\n",
              "    <tr>\n",
              "      <th>75%</th>\n",
              "      <td>1781.000</td>\n",
              "      <td>0.880</td>\n",
              "    </tr>\n",
              "    <tr>\n",
              "      <th>max</th>\n",
              "      <td>2374.000</td>\n",
              "      <td>1.000</td>\n",
              "    </tr>\n",
              "  </tbody>\n",
              "</table>\n",
              "</div>\n",
              "      <button class=\"colab-df-convert\" onclick=\"convertToInteractive('df-6ed4ee22-c8d1-497e-abeb-ef940f904b37')\"\n",
              "              title=\"Convert this dataframe to an interactive table.\"\n",
              "              style=\"display:none;\">\n",
              "        \n",
              "  <svg xmlns=\"http://www.w3.org/2000/svg\" height=\"24px\"viewBox=\"0 0 24 24\"\n",
              "       width=\"24px\">\n",
              "    <path d=\"M0 0h24v24H0V0z\" fill=\"none\"/>\n",
              "    <path d=\"M18.56 5.44l.94 2.06.94-2.06 2.06-.94-2.06-.94-.94-2.06-.94 2.06-2.06.94zm-11 1L8.5 8.5l.94-2.06 2.06-.94-2.06-.94L8.5 2.5l-.94 2.06-2.06.94zm10 10l.94 2.06.94-2.06 2.06-.94-2.06-.94-.94-2.06-.94 2.06-2.06.94z\"/><path d=\"M17.41 7.96l-1.37-1.37c-.4-.4-.92-.59-1.43-.59-.52 0-1.04.2-1.43.59L10.3 9.45l-7.72 7.72c-.78.78-.78 2.05 0 2.83L4 21.41c.39.39.9.59 1.41.59.51 0 1.02-.2 1.41-.59l7.78-7.78 2.81-2.81c.8-.78.8-2.07 0-2.86zM5.41 20L4 18.59l7.72-7.72 1.47 1.35L5.41 20z\"/>\n",
              "  </svg>\n",
              "      </button>\n",
              "      \n",
              "  <style>\n",
              "    .colab-df-container {\n",
              "      display:flex;\n",
              "      flex-wrap:wrap;\n",
              "      gap: 12px;\n",
              "    }\n",
              "\n",
              "    .colab-df-convert {\n",
              "      background-color: #E8F0FE;\n",
              "      border: none;\n",
              "      border-radius: 50%;\n",
              "      cursor: pointer;\n",
              "      display: none;\n",
              "      fill: #1967D2;\n",
              "      height: 32px;\n",
              "      padding: 0 0 0 0;\n",
              "      width: 32px;\n",
              "    }\n",
              "\n",
              "    .colab-df-convert:hover {\n",
              "      background-color: #E2EBFA;\n",
              "      box-shadow: 0px 1px 2px rgba(60, 64, 67, 0.3), 0px 1px 3px 1px rgba(60, 64, 67, 0.15);\n",
              "      fill: #174EA6;\n",
              "    }\n",
              "\n",
              "    [theme=dark] .colab-df-convert {\n",
              "      background-color: #3B4455;\n",
              "      fill: #D2E3FC;\n",
              "    }\n",
              "\n",
              "    [theme=dark] .colab-df-convert:hover {\n",
              "      background-color: #434B5C;\n",
              "      box-shadow: 0px 1px 3px 1px rgba(0, 0, 0, 0.15);\n",
              "      filter: drop-shadow(0px 1px 2px rgba(0, 0, 0, 0.3));\n",
              "      fill: #FFFFFF;\n",
              "    }\n",
              "  </style>\n",
              "\n",
              "      <script>\n",
              "        const buttonEl =\n",
              "          document.querySelector('#df-6ed4ee22-c8d1-497e-abeb-ef940f904b37 button.colab-df-convert');\n",
              "        buttonEl.style.display =\n",
              "          google.colab.kernel.accessAllowed ? 'block' : 'none';\n",
              "\n",
              "        async function convertToInteractive(key) {\n",
              "          const element = document.querySelector('#df-6ed4ee22-c8d1-497e-abeb-ef940f904b37');\n",
              "          const dataTable =\n",
              "            await google.colab.kernel.invokeFunction('convertToInteractive',\n",
              "                                                     [key], {});\n",
              "          if (!dataTable) return;\n",
              "\n",
              "          const docLinkHtml = 'Like what you see? Visit the ' +\n",
              "            '<a target=\"_blank\" href=https://colab.research.google.com/notebooks/data_table.ipynb>data table notebook</a>'\n",
              "            + ' to learn more about interactive tables.';\n",
              "          element.innerHTML = '';\n",
              "          dataTable['output_type'] = 'display_data';\n",
              "          await google.colab.output.renderOutput(dataTable, element);\n",
              "          const docLink = document.createElement('div');\n",
              "          docLink.innerHTML = docLinkHtml;\n",
              "          element.appendChild(docLink);\n",
              "        }\n",
              "      </script>\n",
              "    </div>\n",
              "  </div>\n",
              "  "
            ]
          },
          "metadata": {},
          "execution_count": 26
        }
      ]
    },
    {
      "cell_type": "code",
      "source": [
        "df_res[df_res.cf_ensemble < 0.5].shape[0]/df.shape[0], df_res[df_res.cf_ensemble <= 0.5].shape[0]/df.shape[0]"
      ],
      "metadata": {
        "colab": {
          "base_uri": "https://localhost:8080/"
        },
        "outputId": "63064785-9496-4bbb-d5ed-e7a1df150084",
        "id": "1wH7iuuERorc"
      },
      "execution_count": null,
      "outputs": [
        {
          "output_type": "execute_result",
          "data": {
            "text/plain": [
              "(0.08512431521281079, 0.281078803202697)"
            ]
          },
          "metadata": {},
          "execution_count": 27
        }
      ]
    },
    {
      "cell_type": "code",
      "source": [
        "df_res['label_ensemble2'] = np.where(df_res['cf_ensemble'] > 0.5, df_res['label_ensemble'], 'EMPTY')"
      ],
      "metadata": {
        "id": "NaqR774eRord"
      },
      "execution_count": null,
      "outputs": []
    },
    {
      "cell_type": "code",
      "source": [
        "df_res.shape"
      ],
      "metadata": {
        "colab": {
          "base_uri": "https://localhost:8080/"
        },
        "outputId": "da250e73-c461-44d0-a709-d063f3919209",
        "id": "iAr-msDERord"
      },
      "execution_count": null,
      "outputs": [
        {
          "output_type": "execute_result",
          "data": {
            "text/plain": [
              "(2373, 4)"
            ]
          },
          "metadata": {},
          "execution_count": 29
        }
      ]
    },
    {
      "cell_type": "code",
      "source": [
        "df_res.label_ensemble2.value_counts(normalize=True).round(3)*100"
      ],
      "metadata": {
        "colab": {
          "base_uri": "https://localhost:8080/"
        },
        "outputId": "98215cf0-734a-4b26-a31e-5830513d5a8d",
        "id": "yNj3hK6rRore"
      },
      "execution_count": null,
      "outputs": [
        {
          "output_type": "execute_result",
          "data": {
            "text/plain": [
              "joy         31.4\n",
              "EMPTY       28.1\n",
              "anger       25.7\n",
              "sadness      7.7\n",
              "fear         6.3\n",
              "surprise     0.5\n",
              "love         0.3\n",
              "Name: label_ensemble2, dtype: float64"
            ]
          },
          "metadata": {},
          "execution_count": 30
        }
      ]
    },
    {
      "cell_type": "code",
      "source": [
        "df.merge(df_res, on = 'index').info()"
      ],
      "metadata": {
        "colab": {
          "base_uri": "https://localhost:8080/"
        },
        "outputId": "9452b740-e5d7-4e4c-a66d-fc17a4b84f7a",
        "id": "fy29PVcdRore"
      },
      "execution_count": null,
      "outputs": [
        {
          "output_type": "stream",
          "name": "stdout",
          "text": [
            "<class 'pandas.core.frame.DataFrame'>\n",
            "Int64Index: 2373 entries, 0 to 2372\n",
            "Data columns (total 30 columns):\n",
            " #   Column                                                              Non-Null Count  Dtype  \n",
            "---  ------                                                              --------------  -----  \n",
            " 0   index                                                               2373 non-null   int64  \n",
            " 1   sentence                                                            2373 non-null   object \n",
            " 2   original_id                                                         2373 non-null   int64  \n",
            " 3   source                                                              2373 non-null   object \n",
            " 4   clean_Text                                                          2373 non-null   object \n",
            " 5   EMO_suvrobaner/distilbert-base-uncased-finetuned-emotion-en-tweets  2373 non-null   object \n",
            " 6   CF_suvrobaner/distilbert-base-uncased-finetuned-emotion-en-tweets   2373 non-null   float64\n",
            " 7   EMO_stevevee0101/distilbert-base-uncased-finetuned-emotion          2373 non-null   object \n",
            " 8   CF_stevevee0101/distilbert-base-uncased-finetuned-emotion           2373 non-null   float64\n",
            " 9   EMO_Emanuel/bertweet-emotion-base                                   2373 non-null   object \n",
            " 10  CF_Emanuel/bertweet-emotion-base                                    2373 non-null   float64\n",
            " 11  EMO_bhadresh-savani/albert-base-v2-emotion                          2373 non-null   object \n",
            " 12  CF_bhadresh-savani/albert-base-v2-emotion                           2373 non-null   float64\n",
            " 13  EMO_Emanuel/twitter-emotion-deberta-v3-base                         2373 non-null   object \n",
            " 14  CF_Emanuel/twitter-emotion-deberta-v3-base                          2373 non-null   float64\n",
            " 15  EMO_michauhl/distilbert-base-uncased-finetuned-emotion              2373 non-null   object \n",
            " 16  CF_michauhl/distilbert-base-uncased-finetuned-emotion               2373 non-null   float64\n",
            " 17  EMO_Zia/distilbert-base-uncased-finetuned-emotion                   2373 non-null   object \n",
            " 18  CF_Zia/distilbert-base-uncased-finetuned-emotion                    2373 non-null   float64\n",
            " 19  EMO_jkhan447/sentiment-model-sample-5-emotion                       2373 non-null   object \n",
            " 20  CF_jkhan447/sentiment-model-sample-5-emotion                        2373 non-null   float64\n",
            " 21  EMO_bhadresh-savani/distilbert-base-uncased-emotion                 2373 non-null   object \n",
            " 22  CF_bhadresh-savani/distilbert-base-uncased-emotion                  2373 non-null   float64\n",
            " 23  EMO_bhadresh-savani/distilbert-base-uncased-finetuned-emotion       2373 non-null   object \n",
            " 24  CF_bhadresh-savani/distilbert-base-uncased-finetuned-emotion        2373 non-null   float64\n",
            " 25  EMO_j-hartmann/emotion-english-distilroberta-base                   2373 non-null   object \n",
            " 26  CF_j-hartmann/emotion-english-distilroberta-base                    2373 non-null   float64\n",
            " 27  label_ensemble                                                      2373 non-null   object \n",
            " 28  cf_ensemble                                                         2373 non-null   float64\n",
            " 29  label_ensemble2                                                     2373 non-null   object \n",
            "dtypes: float64(12), int64(2), object(16)\n",
            "memory usage: 574.7+ KB\n"
          ]
        }
      ]
    },
    {
      "cell_type": "markdown",
      "source": [
        "##save"
      ],
      "metadata": {
        "id": "rh0MmTibRorf"
      }
    },
    {
      "cell_type": "code",
      "source": [
        "df_res.shape[0] == df.shape[0]"
      ],
      "metadata": {
        "colab": {
          "base_uri": "https://localhost:8080/"
        },
        "outputId": "580cf86a-4372-4de3-b7b7-8597f1835c70",
        "id": "nwfBKcHURorf"
      },
      "execution_count": null,
      "outputs": [
        {
          "output_type": "execute_result",
          "data": {
            "text/plain": [
              "True"
            ]
          },
          "metadata": {},
          "execution_count": 32
        }
      ]
    },
    {
      "cell_type": "code",
      "source": [
        "df = df.merge(df_res, on = 'index')\n",
        "df.to_excel(str(path))"
      ],
      "metadata": {
        "id": "pwSxVaXlRorf"
      },
      "execution_count": null,
      "outputs": []
    }
  ]
}
